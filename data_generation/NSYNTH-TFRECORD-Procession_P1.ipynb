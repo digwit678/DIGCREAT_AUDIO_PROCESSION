{
 "cells": [
  {
   "cell_type": "markdown",
   "source": [
    "[tfrecord tutorial from TensorFlow](https://www.tensorflow.org/tutorials/load_data/tfrecord)\n"
   ],
   "metadata": {
    "collapsed": false
   }
  },
  {
   "cell_type": "code",
   "execution_count": 1,
   "outputs": [],
   "source": [
    "from tensorflow_datasets.audio import nsynth"
   ],
   "metadata": {
    "collapsed": false
   }
  },
  {
   "cell_type": "code",
   "execution_count": 2,
   "outputs": [
    {
     "data": {
      "text/plain": "'The NSynth Dataset is an audio dataset containing ~300k musical notes, each\\nwith a unique pitch, timbre, and envelope. Each note is annotated with three\\nadditional pieces of information based on a combination of human evaluation\\nand heuristic algorithms: Source, Family, and Qualities.\\n'"
     },
     "execution_count": 2,
     "metadata": {},
     "output_type": "execute_result"
    }
   ],
   "source": [
    "nsynth._AUDIO_RATE\n",
    "\n",
    "nsynth._DESCRIPTION"
   ],
   "metadata": {
    "collapsed": false
   }
  },
  {
   "cell_type": "code",
   "execution_count": 3,
   "outputs": [
    {
     "data": {
      "text/plain": "['train', 'valid', 'test']"
     },
     "execution_count": 3,
     "metadata": {},
     "output_type": "execute_result"
    }
   ],
   "source": [
    "nsynth._SPLITS"
   ],
   "metadata": {
    "collapsed": false
   }
  },
  {
   "cell_type": "code",
   "execution_count": 4,
   "outputs": [
    {
     "data": {
      "text/plain": "tensorflow_datasets.audio.nsynth.NsynthConfig"
     },
     "execution_count": 4,
     "metadata": {},
     "output_type": "execute_result"
    }
   ],
   "source": [
    "nsynth.NsynthConfig"
   ],
   "metadata": {
    "collapsed": false
   }
  },
  {
   "cell_type": "code",
   "execution_count": 5,
   "outputs": [],
   "source": [
    "import matplotlib.pyplot as plt\n",
    "import numpy as np\n",
    "\n",
    "\n",
    "import tensorflow_datasets as tfds"
   ],
   "metadata": {
    "collapsed": false
   }
  },
  {
   "cell_type": "code",
   "execution_count": 6,
   "outputs": [
    {
     "ename": "ModuleNotFoundError",
     "evalue": "No module named 'google.colab'",
     "output_type": "error",
     "traceback": [
      "\u001B[1;31m---------------------------------------------------------------------------\u001B[0m",
      "\u001B[1;31mModuleNotFoundError\u001B[0m                       Traceback (most recent call last)",
      "Input \u001B[1;32mIn [6]\u001B[0m, in \u001B[0;36m<cell line: 1>\u001B[1;34m()\u001B[0m\n\u001B[1;32m----> 1\u001B[0m \u001B[38;5;28;01mfrom\u001B[39;00m \u001B[38;5;21;01mgoogle\u001B[39;00m\u001B[38;5;21;01m.\u001B[39;00m\u001B[38;5;21;01mcolab\u001B[39;00m \u001B[38;5;28;01mimport\u001B[39;00m drive\n\u001B[0;32m      2\u001B[0m drive\u001B[38;5;241m.\u001B[39mmount(\u001B[38;5;124m'\u001B[39m\u001B[38;5;124m/content/drive\u001B[39m\u001B[38;5;124m'\u001B[39m)\n",
      "\u001B[1;31mModuleNotFoundError\u001B[0m: No module named 'google.colab'"
     ]
    }
   ],
   "source": [
    "from google.colab import drive\n",
    "drive.mount('/content/drive')"
   ],
   "metadata": {
    "collapsed": false
   }
  },
  {
   "cell_type": "code",
   "execution_count": 7,
   "outputs": [],
   "source": [
    "import tensorflow as tf"
   ],
   "metadata": {
    "collapsed": false
   }
  },
  {
   "cell_type": "code",
   "execution_count": 41,
   "outputs": [],
   "source": [
    "#dataset = tf.data.TFRecordDataset([\"file1.tfrecords\", \"file2.tfrecords\"])\n",
    "TFR_validation_group0 = tf.data.TFRecordDataset(r\"E:\\NSYNTH_DATASET\\downloads\\extracted\\TAR.down.mage.tens.org_data_nsyn_nsyn-vali.tfr61NVIKlkPbRhwM0XcwfX_mkcMv5qTaYP0jrHX24Yrgc.tar\\nsynth-valid.tfrecord-00000-of-00032\")\n",
    "\n"
   ],
   "metadata": {
    "collapsed": false
   }
  },
  {
   "cell_type": "markdown",
   "source": [],
   "metadata": {
    "collapsed": false
   }
  },
  {
   "cell_type": "markdown",
   "source": [
    "# Read out instrument type"
   ],
   "metadata": {
    "collapsed": false
   }
  },
  {
   "cell_type": "code",
   "execution_count": 42,
   "outputs": [
    {
     "name": "stdout",
     "output_type": "stream",
     "text": [
      "b'organ'\n",
      "b'bass'\n"
     ]
    }
   ],
   "source": [
    "for raw_record in TFR_validation_group0.take(2):\n",
    "    # transform raw TFRecord in readable JSON format\n",
    "    example = tf.train.Example()\n",
    "    example.ParseFromString(raw_record.numpy())\n",
    "    #print(example)\n",
    "    analyse_ex = example.features.feature['instrument_family_str']\n",
    "    print(analyse_ex.bytes_list.value[0])\n"
   ],
   "metadata": {
    "collapsed": false
   }
  },
  {
   "cell_type": "markdown",
   "source": [
    "# Read and Write TFR Files"
   ],
   "metadata": {
    "collapsed": false
   }
  },
  {
   "cell_type": "markdown",
   "source": [
    "take some random example to write"
   ],
   "metadata": {
    "collapsed": false
   }
  },
  {
   "cell_type": "code",
   "execution_count": 23,
   "outputs": [],
   "source": [
    "files_to_write = []"
   ],
   "metadata": {
    "collapsed": false
   }
  },
  {
   "cell_type": "code",
   "execution_count": 40,
   "outputs": [
    {
     "name": "stdout",
     "output_type": "stream",
     "text": [
      "256403\n",
      "256403\n"
     ]
    }
   ],
   "source": [
    "for raw_record in TFR_validation_group0.take(2):\n",
    "    files_to_write.append(raw_record)\n",
    "    example_write = tf.train.Example()\n",
    "    print(example_write.ParseFromString(write_to_disk.numpy()))\n",
    "    write_to_disk = raw_record\n",
    "\n",
    "#print(write_to_disk)"
   ],
   "metadata": {
    "collapsed": false
   }
  },
  {
   "cell_type": "code",
   "execution_count": null,
   "outputs": [],
   "source": [],
   "metadata": {
    "collapsed": false
   }
  },
  {
   "cell_type": "markdown",
   "source": [
    "(other way to represent it)"
   ],
   "metadata": {
    "collapsed": false
   }
  },
  {
   "cell_type": "code",
   "execution_count": 11,
   "outputs": [
    {
     "name": "stdout",
     "output_type": "stream",
     "text": [
      "256403\n"
     ]
    }
   ],
   "source": [
    "example_write = tf.train.Example()\n",
    "print(example_write.ParseFromString(write_to_disk.numpy()))"
   ],
   "metadata": {
    "collapsed": false
   }
  },
  {
   "cell_type": "markdown",
   "source": [
    "1) add the tensor file to tf.data.Dataset (more could be added)\n",
    "2) write the file to some filename (it should now be visible in your folder structure)"
   ],
   "metadata": {
    "collapsed": false
   }
  },
  {
   "cell_type": "code",
   "execution_count": 31,
   "outputs": [],
   "source": [
    "\n",
    "\n",
    "filename_example = \"nsynth-valid-nico.tfrecord-0-of-32\"\n",
    "\n",
    "for idx,file in  enumerate(files_to_write):\n",
    "    filename = \"nsynth-valid-nico.tfrecord-111-of-32\"\n",
    "    dataset_write = tf.data.Dataset.from_tensors(file)\n",
    "    writer = tf.data.experimental.TFRecordWriter(filename)\n",
    "    writer.write(dataset_write)\n",
    "\n",
    "\n"
   ],
   "metadata": {
    "collapsed": false
   }
  },
  {
   "cell_type": "code",
   "execution_count": 37,
   "outputs": [],
   "source": [
    "\n",
    "filename = \"nsynth-valid-nico.tfrecord-111-of-32\"\n",
    "dataset_write = tf.data.Dataset.from_tensor_slices(files_to_write)\n",
    "writer = tf.data.experimental.TFRecordWriter(filename)\n",
    "writer.write(dataset_write)"
   ],
   "metadata": {
    "collapsed": false
   }
  },
  {
   "cell_type": "code",
   "execution_count": 38,
   "outputs": [
    {
     "name": "stdout",
     "output_type": "stream",
     "text": [
      "<TFRecordDatasetV2 element_spec=TensorSpec(shape=(), dtype=tf.string, name=None)>\n",
      "256403\n",
      "256403\n"
     ]
    }
   ],
   "source": [
    "\n",
    "raw_dataset_read = tf.data.TFRecordDataset(filename)\n",
    "print(raw_dataset_read)\n",
    "for raw_record_nico in raw_dataset_read.take(2):\n",
    "    read_from_disk = raw_record_nico\n",
    "    #print(read_from_disk)\n",
    "    example_read = tf.train.Example()\n",
    "    print(example_read.ParseFromString(read_from_disk.numpy()))"
   ],
   "metadata": {
    "collapsed": false
   }
  },
  {
   "cell_type": "code",
   "execution_count": 43,
   "outputs": [
    {
     "name": "stdout",
     "output_type": "stream",
     "text": [
      "b'organ'\n",
      "b'bass'\n"
     ]
    }
   ],
   "source": [
    "for raw_record in raw_dataset_read.take(2):\n",
    "    # transform raw TFRecord in readable JSON format\n",
    "    example = tf.train.Example()\n",
    "    example.ParseFromString(raw_record.numpy())\n",
    "    #print(example)\n",
    "    analyse_ex = example.features.feature['instrument_family_str']\n",
    "    print(analyse_ex.bytes_list.value[0])\n"
   ],
   "metadata": {
    "collapsed": false
   }
  },
  {
   "cell_type": "code",
   "execution_count": 30,
   "outputs": [
    {
     "ename": "TypeError",
     "evalue": "Invalid `dataset`. Expected a`dataset` that produces scalar `tf.string` elements, but got a dataset which produces elements with shapes (2,) and types <dtype: 'string'>.",
     "output_type": "error",
     "traceback": [
      "\u001B[1;31m---------------------------------------------------------------------------\u001B[0m",
      "\u001B[1;31mTypeError\u001B[0m                                 Traceback (most recent call last)",
      "Input \u001B[1;32mIn [30]\u001B[0m, in \u001B[0;36m<cell line: 4>\u001B[1;34m()\u001B[0m\n\u001B[0;32m      2\u001B[0m dataset_write \u001B[38;5;241m=\u001B[39m tf\u001B[38;5;241m.\u001B[39mdata\u001B[38;5;241m.\u001B[39mDataset\u001B[38;5;241m.\u001B[39mfrom_tensors(files_to_write)\n\u001B[0;32m      3\u001B[0m writer \u001B[38;5;241m=\u001B[39m tf\u001B[38;5;241m.\u001B[39mdata\u001B[38;5;241m.\u001B[39mexperimental\u001B[38;5;241m.\u001B[39mTFRecordWriter(filename)\n\u001B[1;32m----> 4\u001B[0m \u001B[43mwriter\u001B[49m\u001B[38;5;241;43m.\u001B[39;49m\u001B[43mwrite\u001B[49m\u001B[43m(\u001B[49m\u001B[43mdataset_write\u001B[49m\u001B[43m)\u001B[49m\n",
      "File \u001B[1;32m~\\AppData\\Roaming\\Python\\Python310\\site-packages\\tensorflow\\python\\data\\experimental\\ops\\writers.py:117\u001B[0m, in \u001B[0;36mTFRecordWriter.write\u001B[1;34m(self, dataset)\u001B[0m\n\u001B[0;32m    111\u001B[0m   \u001B[38;5;28;01mraise\u001B[39;00m \u001B[38;5;167;01mTypeError\u001B[39;00m(\n\u001B[0;32m    112\u001B[0m       \u001B[38;5;124mf\u001B[39m\u001B[38;5;124m\"\u001B[39m\u001B[38;5;124mInvalid `dataset.` Expected a `tf.data.Dataset` object but got \u001B[39m\u001B[38;5;124m\"\u001B[39m\n\u001B[0;32m    113\u001B[0m       \u001B[38;5;124mf\u001B[39m\u001B[38;5;124m\"\u001B[39m\u001B[38;5;132;01m{\u001B[39;00m\u001B[38;5;28mtype\u001B[39m(dataset)\u001B[38;5;132;01m}\u001B[39;00m\u001B[38;5;124m.\u001B[39m\u001B[38;5;124m\"\u001B[39m\n\u001B[0;32m    114\u001B[0m   )\n\u001B[0;32m    115\u001B[0m \u001B[38;5;28;01mif\u001B[39;00m \u001B[38;5;129;01mnot\u001B[39;00m dataset_ops\u001B[38;5;241m.\u001B[39mget_structure(dataset)\u001B[38;5;241m.\u001B[39mis_compatible_with(\n\u001B[0;32m    116\u001B[0m     tensor_spec\u001B[38;5;241m.\u001B[39mTensorSpec([], dtypes\u001B[38;5;241m.\u001B[39mstring)):\n\u001B[1;32m--> 117\u001B[0m   \u001B[38;5;28;01mraise\u001B[39;00m \u001B[38;5;167;01mTypeError\u001B[39;00m(\n\u001B[0;32m    118\u001B[0m       \u001B[38;5;124mf\u001B[39m\u001B[38;5;124m\"\u001B[39m\u001B[38;5;124mInvalid `dataset`. Expected a`dataset` that produces scalar \u001B[39m\u001B[38;5;124m\"\u001B[39m\n\u001B[0;32m    119\u001B[0m       \u001B[38;5;124mf\u001B[39m\u001B[38;5;124m\"\u001B[39m\u001B[38;5;124m`tf.string` elements, but got a dataset which produces elements \u001B[39m\u001B[38;5;124m\"\u001B[39m\n\u001B[0;32m    120\u001B[0m       \u001B[38;5;124mf\u001B[39m\u001B[38;5;124m\"\u001B[39m\u001B[38;5;124mwith shapes \u001B[39m\u001B[38;5;132;01m{\u001B[39;00mdataset_ops\u001B[38;5;241m.\u001B[39mget_legacy_output_shapes(dataset)\u001B[38;5;132;01m}\u001B[39;00m\u001B[38;5;124m and \u001B[39m\u001B[38;5;124m\"\u001B[39m\n\u001B[0;32m    121\u001B[0m       \u001B[38;5;124mf\u001B[39m\u001B[38;5;124m\"\u001B[39m\u001B[38;5;124mtypes \u001B[39m\u001B[38;5;132;01m{\u001B[39;00mdataset_ops\u001B[38;5;241m.\u001B[39mget_legacy_output_types(dataset)\u001B[38;5;132;01m}\u001B[39;00m\u001B[38;5;124m.\u001B[39m\u001B[38;5;124m\"\u001B[39m)\n\u001B[0;32m    122\u001B[0m \u001B[38;5;66;03m# pylint: disable=protected-access\u001B[39;00m\n\u001B[0;32m    123\u001B[0m dataset \u001B[38;5;241m=\u001B[39m dataset\u001B[38;5;241m.\u001B[39m_apply_debug_options()\n",
      "\u001B[1;31mTypeError\u001B[0m: Invalid `dataset`. Expected a`dataset` that produces scalar `tf.string` elements, but got a dataset which produces elements with shapes (2,) and types <dtype: 'string'>."
     ]
    }
   ],
   "source": [
    "\n",
    "filename = f\"nsynth-valid-nico.tfrecord-00-of-32\"\n",
    "dataset_write = tf.data.Dataset.from_tensors(files_to_write)\n",
    "writer = tf.data.experimental.TFRecordWriter(filename)\n",
    "writer.write(dataset_write)"
   ],
   "metadata": {
    "collapsed": false
   }
  },
  {
   "cell_type": "markdown",
   "source": [
    "read the same file back in and check if it is really the same"
   ],
   "metadata": {
    "collapsed": false
   }
  },
  {
   "cell_type": "code",
   "execution_count": 14,
   "outputs": [
    {
     "data": {
      "text/plain": "True"
     },
     "execution_count": 14,
     "metadata": {},
     "output_type": "execute_result"
    }
   ],
   "source": [
    "example_read.ParseFromString(read_from_disk.numpy()) == example_write.ParseFromString(write_to_disk.numpy())"
   ],
   "metadata": {
    "collapsed": false
   }
  },
  {
   "cell_type": "markdown",
   "source": [
    "so the two files represent exactly the same object !"
   ],
   "metadata": {
    "collapsed": false
   }
  },
  {
   "cell_type": "markdown",
   "source": [
    "# Sorting by instrument family"
   ],
   "metadata": {
    "collapsed": false
   }
  },
  {
   "cell_type": "code",
   "execution_count": 15,
   "outputs": [
    {
     "ename": "FileNotFoundError",
     "evalue": "[WinError 3] The system cannot find the path specified: '/content/drive/My Drive/NSYNTH_DATASET/downloads/extracted/TAR.down.mage.tens.org_data_nsyn_nsyn-vali.tfr61NVIKlkPbRhwM0XcwfX_mkcMv5qTaYP0jrHX24Yrgc.tar'",
     "output_type": "error",
     "traceback": [
      "\u001B[1;31m---------------------------------------------------------------------------\u001B[0m",
      "\u001B[1;31mFileNotFoundError\u001B[0m                         Traceback (most recent call last)",
      "Input \u001B[1;32mIn [15]\u001B[0m, in \u001B[0;36m<cell line: 4>\u001B[1;34m()\u001B[0m\n\u001B[0;32m      1\u001B[0m \u001B[38;5;28;01mimport\u001B[39;00m \u001B[38;5;21;01mos\u001B[39;00m\n\u001B[0;32m      3\u001B[0m PATH_VALIDATION \u001B[38;5;241m=\u001B[39m \u001B[38;5;124mr\u001B[39m\u001B[38;5;124m\"\u001B[39m\u001B[38;5;124m/content/drive/My Drive/NSYNTH_DATASET/downloads/extracted/TAR.down.mage.tens.org_data_nsyn_nsyn-vali.tfr61NVIKlkPbRhwM0XcwfX_mkcMv5qTaYP0jrHX24Yrgc.tar\u001B[39m\u001B[38;5;124m\"\u001B[39m\n\u001B[1;32m----> 4\u001B[0m TFRECORD_FILES_VALIDATION \u001B[38;5;241m=\u001B[39m \u001B[43mos\u001B[49m\u001B[38;5;241;43m.\u001B[39;49m\u001B[43mlistdir\u001B[49m\u001B[43m(\u001B[49m\u001B[43mPATH_VALIDATION\u001B[49m\u001B[43m)\u001B[49m\n\u001B[0;32m      6\u001B[0m \u001B[38;5;28mprint\u001B[39m(TFRECORD_FILES_VALIDATION)\n",
      "\u001B[1;31mFileNotFoundError\u001B[0m: [WinError 3] The system cannot find the path specified: '/content/drive/My Drive/NSYNTH_DATASET/downloads/extracted/TAR.down.mage.tens.org_data_nsyn_nsyn-vali.tfr61NVIKlkPbRhwM0XcwfX_mkcMv5qTaYP0jrHX24Yrgc.tar'"
     ]
    }
   ],
   "source": [
    "import os\n",
    "\n",
    "PATH_VALIDATION = r\"/content/drive/My Drive/NSYNTH_DATASET/downloads/extracted/TAR.down.mage.tens.org_data_nsyn_nsyn-vali.tfr61NVIKlkPbRhwM0XcwfX_mkcMv5qTaYP0jrHX24Yrgc.tar\"\n",
    "TFRECORD_FILES_VALIDATION = os.listdir(PATH_VALIDATION)\n",
    "\n",
    "print(TFRECORD_FILES_VALIDATION)"
   ],
   "metadata": {
    "collapsed": false
   }
  },
  {
   "cell_type": "code",
   "execution_count": 1,
   "outputs": [],
   "source": [
    "\n",
    "import os\n",
    "import tensorflow as tf\n",
    "PATH_TRAIN = r\"E:\\NSYNTH_DATASET\\downloads\\extracted\\TAR.down.mage.tens.org_data_nsyn_nsyn-trai.tfrCRSeoUIPAaZd4QoxC56U7MdPFkC4X2j7kSK7ygtdIHo.tar\"\n",
    "\n",
    "PATH_VALID = r\"E:\\NSYNTH_DATASET\\downloads\\extracted\\TAR.down.mage.tens.org_data_nsyn_nsyn-vali.tfr61NVIKlkPbRhwM0XcwfX_mkcMv5qTaYP0jrHX24Yrgc.tar\"\n",
    "TFRECORD_FILES_VALIDATION = os.listdir(PATH_VALID)"
   ],
   "metadata": {
    "collapsed": false
   }
  },
  {
   "cell_type": "code",
   "execution_count": 4,
   "outputs": [
    {
     "name": "stdout",
     "output_type": "stream",
     "text": [
      "0\n",
      "1\n",
      "2\n",
      "3\n",
      "4\n",
      "5\n",
      "6\n",
      "7\n",
      "8\n",
      "9\n",
      "10\n",
      "11\n",
      "12\n",
      "13\n",
      "14\n",
      "15\n",
      "16\n",
      "17\n",
      "18\n",
      "19\n",
      "20\n",
      "21\n",
      "22\n",
      "23\n",
      "24\n",
      "25\n",
      "26\n",
      "27\n",
      "28\n",
      "29\n",
      "30\n",
      "31\n"
     ]
    }
   ],
   "source": [
    "validation_instrtype = []\n",
    "original_order_instr_types = []\n",
    "for val_group_index,validation_group in enumerate(TFRECORD_FILES_VALIDATION):\n",
    "  validation_group = tf.data.TFRecordDataset(PATH_VALID + \"/\" + validation_group)\n",
    "  print(val_group_index)\n",
    "  for raw_valid_record in validation_group:\n",
    "    # convert raw uninformative string to JSON\n",
    "      parsed_record = tf.train.Example()\n",
    "      parsed_record.ParseFromString(raw_valid_record.numpy())\n",
    "      instrument_type = parsed_record.features.feature['instrument_family_str'].bytes_list.value[0]\n",
    "      original_order_instr_types.append(instrument_type)\n",
    "      #print(raw_valid_record[0:3])\n",
    "      validation_instrtype.append([val_group_index,raw_valid_record,instrument_type])\n",
    "      #print(instrument_type)"
   ],
   "metadata": {
    "collapsed": false
   }
  },
  {
   "cell_type": "code",
   "execution_count": 18,
   "outputs": [
    {
     "name": "stdout",
     "output_type": "stream",
     "text": [
      "[b'organ', b'bass', b'string', b'bass', b'mallet', b'bass', b'keyboard', b'string', b'string', b'organ', b'bass', b'bass', b'guitar', b'guitar', b'guitar', b'mallet', b'vocal', b'keyboard', b'bass', b'keyboard', b'guitar', b'organ', b'keyboard', b'guitar', b'bass', b'guitar', b'keyboard', b'keyboard', b'reed', b'organ', b'bass', b'keyboard', b'keyboard', b'flute', b'organ', b'bass', b'guitar', b'brass', b'keyboard', b'bass', b'brass', b'reed', b'flute', b'keyboard', b'bass', b'reed', b'reed', b'brass', b'guitar', b'mallet', b'guitar', b'reed', b'keyboard', b'guitar', b'bass', b'guitar', b'organ', b'guitar', b'guitar', b'string', b'bass', b'string', b'organ', b'keyboard', b'mallet', b'keyboard', b'guitar', b'string', b'bass', b'bass', b'guitar', b'brass', b'organ', b'organ', b'guitar', b'guitar', b'string', b'string', b'guitar', b'keyboard', b'keyboard', b'keyboard', b'keyboard', b'bass', b'guitar', b'guitar', b'guitar', b'guitar', b'bass', b'organ', b'reed', b'guitar', b'guitar', b'guitar', b'bass', b'flute', b'guitar', b'guitar', b'bass', b'organ', b'guitar', b'string', b'bass', b'bass', b'bass', b'bass', b'keyboard', b'organ', b'brass', b'keyboard', b'bass', b'guitar', b'string', b'mallet', b'keyboard', b'reed', b'organ', b'guitar', b'guitar', b'string', b'flute', b'guitar', b'keyboard', b'guitar', b'organ', b'keyboard', b'vocal', b'mallet', b'flute', b'vocal', b'organ', b'bass', b'vocal', b'keyboard', b'string', b'reed', b'flute', b'guitar', b'keyboard', b'organ', b'organ', b'guitar', b'brass', b'guitar', b'guitar', b'keyboard', b'bass', b'keyboard', b'guitar', b'mallet', b'guitar', b'organ', b'guitar', b'organ', b'brass', b'brass', b'string', b'guitar', b'reed', b'guitar', b'keyboard', b'organ', b'bass', b'guitar', b'guitar', b'keyboard', b'bass', b'brass', b'guitar', b'bass', b'organ', b'keyboard', b'string', b'brass', b'guitar', b'keyboard', b'bass', b'bass', b'string', b'organ', b'string', b'keyboard', b'bass', b'keyboard', b'keyboard', b'organ', b'bass', b'reed', b'keyboard', b'brass', b'keyboard', b'keyboard', b'string', b'organ', b'bass', b'brass', b'keyboard', b'organ', b'bass', b'keyboard', b'brass', b'guitar', b'guitar', b'flute', b'bass', b'guitar', b'bass', b'organ', b'bass', b'keyboard', b'organ', b'guitar', b'bass', b'organ', b'guitar', b'string', b'string', b'string', b'bass', b'brass', b'bass', b'flute', b'keyboard', b'keyboard', b'organ', b'bass', b'guitar', b'guitar', b'organ', b'guitar', b'brass', b'brass', b'bass', b'reed', b'string', b'mallet', b'reed', b'keyboard', b'keyboard', b'guitar', b'bass', b'organ', b'reed', b'bass', b'bass', b'reed', b'bass', b'guitar', b'bass', b'bass', b'bass', b'string', b'flute', b'guitar', b'string', b'guitar', b'bass', b'bass', b'keyboard', b'mallet', b'bass', b'keyboard', b'mallet', b'organ', b'reed', b'string', b'organ', b'bass', b'mallet', b'bass', b'guitar', b'keyboard', b'guitar', b'brass', b'organ', b'bass', b'vocal', b'organ', b'keyboard', b'organ', b'organ', b'string', b'organ', b'mallet', b'brass', b'guitar', b'keyboard', b'string', b'brass', b'string', b'guitar', b'keyboard', b'brass', b'string', b'bass', b'brass', b'bass', b'bass', b'vocal', b'bass', b'guitar', b'vocal', b'keyboard', b'mallet', b'organ', b'guitar', b'bass', b'keyboard', b'keyboard', b'keyboard', b'reed', b'organ', b'bass', b'guitar', b'guitar', b'keyboard', b'organ', b'guitar', b'mallet', b'brass', b'brass', b'string', b'guitar', b'reed', b'bass', b'guitar', b'bass', b'reed', b'reed', b'string', b'organ', b'organ', b'guitar', b'bass', b'keyboard', b'flute', b'brass', b'mallet', b'guitar', b'brass', b'bass', b'organ', b'guitar', b'organ', b'keyboard', b'bass', b'guitar', b'keyboard', b'mallet', b'keyboard', b'brass', b'guitar', b'organ', b'keyboard', b'organ', b'mallet', b'string', b'reed', b'reed', b'bass', b'keyboard', b'flute', b'bass', b'reed', b'bass', b'mallet', b'organ', b'keyboard', b'guitar', b'flute', b'mallet', b'keyboard', b'guitar', b'string', b'guitar', b'keyboard', b'keyboard', b'organ', b'organ', b'keyboard', b'bass', b'brass', b'keyboard', b'organ', b'reed', b'vocal', b'bass', b'string', b'keyboard', b'guitar', b'keyboard', b'keyboard', b'guitar', b'string', b'guitar', b'keyboard', b'keyboard', b'bass', b'organ', b'bass', b'keyboard', b'bass', b'guitar', b'mallet', b'guitar', b'keyboard', b'keyboard', b'organ', b'brass', b'organ', b'bass', b'bass', b'bass', b'mallet', b'brass', b'vocal', b'mallet', b'bass', b'brass', b'keyboard', b'brass', b'organ', b'flute', b'guitar', b'bass', b'string', b'guitar', b'brass', b'keyboard', b'guitar', b'mallet', b'bass', b'organ', b'reed', b'organ', b'keyboard', b'reed', b'bass', b'organ', b'brass', b'bass', b'organ', b'bass', b'bass', b'bass', b'organ', b'keyboard', b'keyboard', b'string', b'guitar', b'keyboard', b'keyboard', b'guitar', b'bass', b'keyboard', b'flute', b'guitar', b'brass', b'string', b'brass', b'reed', b'keyboard', b'organ', b'bass', b'guitar', b'flute', b'string', b'bass', b'keyboard', b'bass', b'string', b'keyboard', b'vocal', b'keyboard', b'string', b'organ', b'guitar', b'mallet', b'organ', b'keyboard', b'string', b'organ', b'bass', b'keyboard', b'bass', b'guitar', b'string', b'guitar', b'reed', b'guitar', b'bass', b'mallet', b'bass', b'bass', b'brass', b'flute', b'bass', b'organ', b'guitar', b'bass', b'reed', b'bass', b'string', b'reed', b'mallet', b'organ', b'organ', b'string', b'keyboard', b'string', b'string', b'bass', b'organ', b'mallet', b'organ', b'guitar', b'keyboard', b'bass', b'bass', b'mallet', b'keyboard', b'guitar', b'bass', b'string', b'bass', b'mallet', b'guitar', b'string', b'guitar', b'mallet', b'organ', b'guitar', b'bass', b'organ', b'guitar', b'string', b'reed', b'mallet', b'vocal', b'vocal', b'keyboard', b'organ', b'bass', b'keyboard', b'reed', b'mallet', b'string', b'bass', b'organ', b'reed', b'organ', b'brass', b'guitar', b'organ', b'guitar', b'organ', b'vocal', b'keyboard', b'mallet', b'bass', b'guitar', b'keyboard', b'string', b'guitar', b'guitar', b'mallet', b'organ', b'keyboard', b'organ', b'organ', b'organ', b'keyboard', b'mallet', b'mallet', b'guitar', b'reed', b'bass', b'brass', b'organ', b'keyboard', b'bass', b'vocal', b'bass', b'keyboard', b'keyboard', b'bass', b'bass', b'keyboard', b'keyboard', b'keyboard', b'reed', b'string', b'organ', b'string', b'guitar', b'bass', b'keyboard', b'guitar', b'bass', b'brass', b'bass', b'string', b'brass', b'keyboard', b'organ', b'brass', b'flute', b'mallet', b'bass', b'bass', b'keyboard', b'keyboard', b'bass', b'reed', b'string', b'keyboard', b'bass', b'keyboard', b'flute', b'string', b'guitar', b'reed', b'organ', b'organ', b'keyboard', b'organ', b'bass', b'mallet', b'reed', b'guitar', b'mallet', b'string', b'organ', b'keyboard', b'brass', b'keyboard', b'keyboard', b'guitar', b'keyboard', b'organ', b'reed', b'string', b'mallet', b'mallet', b'organ', b'organ', b'guitar', b'reed', b'reed', b'guitar', b'guitar', b'brass', b'mallet', b'bass', b'guitar', b'guitar', b'keyboard', b'guitar', b'keyboard', b'reed', b'mallet', b'guitar', b'bass', b'reed', b'brass', b'keyboard', b'keyboard', b'keyboard', b'mallet', b'guitar', b'bass', b'guitar', b'mallet', b'string', b'guitar', b'bass', b'bass', b'keyboard', b'keyboard', b'reed', b'flute', b'mallet', b'reed', b'guitar', b'bass', b'keyboard', b'mallet', b'guitar', b'guitar', b'guitar', b'bass', b'organ', b'guitar', b'reed', b'guitar', b'reed', b'organ', b'string', b'guitar', b'bass', b'brass', b'reed', b'organ', b'guitar', b'guitar', b'bass', b'keyboard', b'bass', b'bass', b'bass', b'organ', b'guitar', b'bass', b'bass', b'keyboard', b'guitar', b'keyboard', b'organ', b'guitar', b'string', b'guitar', b'bass', b'organ', b'keyboard', b'flute', b'keyboard', b'reed', b'organ', b'bass', b'bass', b'guitar', b'organ', b'guitar', b'bass', b'keyboard', b'bass', b'bass', b'keyboard', b'bass', b'keyboard', b'organ', b'brass', b'organ', b'brass', b'mallet', b'bass', b'keyboard', b'guitar', b'bass', b'vocal', b'organ', b'reed', b'keyboard', b'bass', b'bass', b'string', b'string', b'bass', b'organ', b'brass', b'bass', b'bass', b'brass', b'bass', b'keyboard', b'guitar', b'keyboard', b'string', b'string', b'keyboard', b'bass', b'organ', b'guitar', b'guitar', b'keyboard', b'mallet', b'bass', b'string', b'keyboard', b'vocal', b'bass', b'reed', b'keyboard', b'organ', b'organ', b'keyboard', b'bass', b'guitar', b'brass', b'guitar', b'guitar', b'vocal', b'organ', b'bass', b'brass', b'keyboard', b'string', b'guitar', b'brass', b'guitar', b'string', b'bass', b'string', b'guitar', b'string', b'guitar', b'keyboard', b'brass', b'guitar', b'organ', b'bass', b'guitar', b'guitar', b'reed', b'brass', b'keyboard', b'bass', b'reed', b'organ', b'vocal', b'guitar', b'keyboard', b'mallet', b'organ', b'keyboard', b'reed', b'keyboard', b'reed', b'guitar', b'keyboard', b'keyboard', b'mallet', b'keyboard', b'bass', b'mallet', b'vocal', b'keyboard', b'keyboard', b'bass', b'vocal', b'bass', b'guitar', b'brass', b'string', b'bass', b'organ', b'bass', b'keyboard', b'organ', b'organ', b'brass', b'brass', b'bass', b'bass', b'keyboard', b'keyboard', b'bass', b'keyboard', b'keyboard', b'keyboard', b'keyboard', b'vocal', b'mallet', b'organ', b'flute', b'keyboard', b'string', b'bass', b'guitar', b'mallet', b'bass', b'guitar', b'keyboard', b'bass', b'guitar', b'organ', b'organ', b'brass', b'brass', b'organ', b'mallet', b'reed', b'keyboard', b'brass', b'organ', b'bass', b'guitar', b'bass', b'keyboard', b'guitar', b'string', b'bass', b'keyboard', b'guitar', b'flute', b'brass', b'bass', b'brass', b'brass', b'guitar', b'organ', b'bass', b'brass', b'bass', b'bass', b'bass', b'bass', b'brass', b'organ', b'bass', b'bass', b'keyboard', b'bass', b'organ', b'brass', b'organ', b'bass', b'guitar', b'keyboard', b'keyboard', b'guitar', b'bass', b'brass', b'bass', b'bass', b'organ', b'guitar', b'bass', b'brass', b'bass', b'keyboard', b'string', b'flute', b'flute', b'keyboard', b'organ', b'guitar', b'bass', b'mallet', b'brass', b'organ', b'organ', b'bass', b'brass', b'flute', b'keyboard', b'keyboard', b'bass', b'string', b'vocal', b'reed', b'bass', b'string', b'bass', b'guitar', b'organ', b'guitar', b'string', b'mallet', b'organ', b'guitar', b'string', b'keyboard', b'keyboard', b'keyboard', b'keyboard', b'guitar', b'bass', b'string', b'organ', b'keyboard', b'vocal', b'reed', b'brass', b'vocal', b'reed', b'bass', b'bass', b'organ', b'guitar', b'keyboard', b'bass', b'bass', b'bass', b'guitar', b'guitar', b'flute', b'organ', b'guitar', b'flute', b'bass', b'guitar', b'keyboard', b'keyboard', b'keyboard', b'organ', b'string', b'keyboard', b'guitar', b'guitar', b'keyboard', b'keyboard', b'keyboard', b'bass', b'mallet', b'guitar', b'organ', b'reed', b'organ', b'bass', b'guitar', b'brass', b'mallet', b'brass', b'guitar', b'guitar', b'bass', b'guitar', b'guitar', b'bass', b'guitar', b'flute', b'guitar', b'keyboard', b'keyboard', b'keyboard', b'organ', b'string', b'keyboard', b'keyboard', b'reed', b'keyboard', b'guitar', b'keyboard', b'brass', b'flute', b'keyboard', b'string', b'guitar', b'guitar', b'keyboard', b'mallet', b'keyboard', b'reed', b'guitar', b'bass', b'keyboard', b'brass', b'mallet', b'bass', b'guitar', b'guitar', b'keyboard', b'bass', b'keyboard', b'bass', b'organ', b'bass', b'flute', b'bass', b'guitar', b'string', b'string', b'bass', b'bass', b'mallet', b'reed', b'string', b'mallet', b'bass', b'string', b'bass', b'reed', b'string', b'mallet', b'guitar', b'organ', b'brass', b'keyboard', b'bass', b'organ', b'keyboard', b'bass', b'brass', b'organ', b'guitar', b'organ', b'string', b'reed', b'keyboard', b'keyboard', b'brass', b'keyboard', b'guitar', b'mallet', b'keyboard', b'vocal', b'guitar', b'brass', b'keyboard', b'vocal', b'mallet', b'organ', b'reed', b'bass', b'reed', b'brass', b'organ', b'guitar', b'organ', b'bass', b'reed', b'guitar', b'keyboard', b'bass', b'mallet', b'vocal', b'organ', b'keyboard', b'bass', b'organ', b'guitar', b'string', b'bass', b'keyboard', b'brass', b'string', b'flute', b'vocal', b'bass', b'keyboard', b'flute', b'bass', b'bass', b'keyboard', b'keyboard', b'reed', b'bass', b'organ', b'organ', b'keyboard', b'string', b'guitar', b'keyboard', b'mallet', b'brass', b'bass', b'guitar', b'mallet', b'keyboard', b'organ', b'vocal', b'bass', b'reed', b'organ', b'keyboard', b'keyboard', b'organ', b'reed', b'bass', b'organ', b'string', b'reed', b'bass', b'guitar', b'guitar', b'string', b'guitar', b'bass', b'brass', b'string', b'brass', b'guitar', b'guitar', b'brass', b'keyboard', b'guitar', b'mallet', b'bass', b'organ', b'guitar', b'brass', b'brass', b'keyboard', b'bass', b'reed', b'keyboard', b'keyboard', b'organ', b'bass', b'vocal', b'vocal', b'organ', b'bass', b'string', b'flute', b'bass', b'guitar', b'flute', b'bass', b'organ', b'guitar', b'brass', b'mallet', b'bass', b'guitar', b'bass', b'bass', b'string', b'organ', b'keyboard', b'brass', b'string', b'reed', b'bass', b'organ', b'guitar', b'bass', b'guitar', b'keyboard', b'bass', b'reed', b'guitar', b'vocal', b'mallet', b'brass', b'bass', b'guitar', b'bass', b'mallet', b'brass', b'organ', b'reed', b'brass', b'bass', b'guitar', b'keyboard', b'mallet', b'guitar', b'bass', b'reed', b'guitar', b'organ', b'bass', b'organ', b'mallet', b'bass', b'guitar', b'bass', b'guitar', b'keyboard', b'keyboard', b'bass', b'keyboard', b'keyboard', b'brass', b'bass', b'flute', b'reed', b'mallet', b'organ', b'bass', b'string', b'bass', b'organ', b'organ', b'keyboard', b'keyboard', b'keyboard', b'organ', b'keyboard', b'bass', b'guitar', b'organ', b'keyboard', b'guitar', b'keyboard', b'guitar', b'keyboard', b'mallet', b'keyboard', b'reed', b'guitar', b'keyboard', b'brass', b'bass', b'keyboard', b'bass', b'guitar', b'bass', b'vocal', b'guitar', b'guitar', b'flute', b'bass', b'guitar', b'guitar', b'organ', b'bass', b'organ', b'bass', b'organ', b'bass', b'bass', b'brass', b'keyboard', b'bass', b'keyboard', b'vocal', b'organ', b'string', b'keyboard', b'guitar', b'guitar', b'organ', b'brass', b'guitar', b'keyboard', b'keyboard', b'mallet', b'organ', b'flute', b'guitar', b'keyboard', b'keyboard', b'organ', b'keyboard', b'guitar', b'brass', b'brass', b'brass', b'guitar', b'keyboard', b'keyboard', b'bass', b'keyboard', b'keyboard', b'organ', b'organ', b'organ', b'guitar', b'string', b'bass', b'bass', b'keyboard', b'guitar', b'organ', b'reed', b'guitar', b'guitar', b'mallet', b'string', b'string', b'string', b'bass', b'keyboard', b'mallet', b'bass', b'mallet', b'organ', b'string', b'flute', b'keyboard', b'organ', b'organ', b'keyboard', b'reed', b'vocal', b'keyboard', b'keyboard', b'guitar', b'guitar', b'flute', b'mallet', b'guitar', b'keyboard', b'brass', b'guitar', b'vocal', b'guitar', b'keyboard', b'bass', b'keyboard', b'bass', b'guitar', b'bass', b'bass', b'organ', b'mallet', b'brass', b'reed', b'reed', b'organ', b'bass', b'reed', b'guitar', b'bass', b'guitar', b'keyboard', b'bass', b'keyboard', b'keyboard', b'bass', b'bass', b'keyboard', b'bass', b'bass', b'brass', b'guitar', b'keyboard', b'mallet', b'organ', b'reed', b'organ', b'flute', b'keyboard', b'reed', b'mallet', b'keyboard', b'organ', b'organ', b'bass', b'brass', b'brass', b'bass', b'keyboard', b'string', b'vocal', b'bass', b'bass', b'bass', b'brass', b'reed', b'brass', b'organ', b'bass', b'organ', b'brass', b'brass', b'guitar', b'organ', b'string', b'keyboard', b'keyboard', b'keyboard', b'brass', b'bass', b'keyboard', b'reed', b'organ', b'keyboard', b'organ', b'string', b'bass', b'keyboard', b'keyboard', b'mallet', b'keyboard', b'bass', b'guitar', b'organ', b'reed', b'guitar', b'bass', b'guitar', b'bass', b'organ', b'bass', b'bass', b'guitar', b'guitar', b'organ', b'flute', b'bass', b'brass', b'reed', b'guitar', b'keyboard', b'keyboard', b'guitar', b'bass', b'string', b'guitar', b'reed', b'bass', b'keyboard', b'guitar', b'reed', b'string', b'string', b'string', b'bass', b'keyboard', b'organ', b'bass', b'guitar', b'guitar', b'string', b'vocal', b'guitar', b'mallet', b'organ', b'organ', b'organ', b'bass', b'keyboard', b'keyboard', b'guitar', b'vocal', b'mallet', b'organ', b'guitar', b'bass', b'keyboard', b'guitar', b'bass', b'organ', b'bass', b'brass', b'bass', b'bass', b'brass', b'guitar', b'string', b'reed', b'flute', b'guitar', b'bass', b'guitar', b'keyboard', b'brass', b'vocal', b'organ', b'keyboard', b'guitar', b'organ', b'keyboard', b'bass', b'bass', b'keyboard', b'bass', b'organ', b'keyboard', b'reed', b'organ', b'string', b'bass', b'flute', b'keyboard', b'keyboard', b'keyboard', b'bass', b'bass', b'reed', b'keyboard', b'flute', b'brass', b'guitar', b'guitar', b'reed', b'organ', b'guitar', b'bass', b'keyboard', b'guitar', b'organ', b'vocal', b'guitar', b'bass', b'keyboard', b'guitar', b'organ', b'organ', b'reed', b'mallet', b'keyboard', b'guitar', b'keyboard', b'keyboard', b'guitar', b'bass', b'brass', b'flute', b'string', b'string', b'keyboard', b'vocal', b'keyboard', b'reed', b'bass', b'keyboard', b'keyboard', b'bass', b'keyboard', b'flute', b'organ', b'guitar', b'flute', b'guitar', b'vocal', b'guitar', b'mallet', b'organ', b'guitar', b'bass', b'mallet', b'organ', b'brass', b'brass', b'string', b'bass', b'mallet', b'bass', b'organ', b'bass', b'bass', b'flute', b'string', b'keyboard', b'keyboard', b'keyboard', b'bass', b'brass', b'bass', b'flute', b'bass', b'keyboard', b'keyboard', b'bass', b'keyboard', b'keyboard', b'keyboard', b'guitar', b'brass', b'reed', b'bass', b'guitar', b'bass', b'guitar', b'bass', b'organ', b'reed', b'flute', b'keyboard', b'mallet', b'guitar', b'keyboard', b'organ', b'keyboard', b'brass', b'keyboard', b'brass', b'bass', b'keyboard', b'keyboard', b'bass', b'reed', b'guitar', b'bass', b'mallet', b'brass', b'guitar', b'mallet', b'reed', b'bass', b'reed', b'flute', b'guitar', b'keyboard', b'string', b'bass', b'vocal', b'brass', b'organ', b'guitar', b'keyboard', b'organ', b'guitar', b'reed', b'bass', b'mallet', b'brass', b'string', b'organ', b'reed', b'guitar', b'bass', b'vocal', b'bass', b'guitar', b'brass', b'flute', b'bass', b'guitar', b'keyboard', b'keyboard', b'bass', b'reed', b'keyboard', b'organ', b'keyboard', b'reed', b'keyboard', b'bass', b'string', b'organ', b'vocal', b'brass', b'bass', b'organ', b'guitar', b'keyboard', b'reed', b'bass', b'string', b'keyboard', b'guitar', b'reed', b'bass', b'guitar', b'vocal', b'reed', b'organ', b'keyboard', b'flute', b'string', b'organ', b'keyboard', b'organ', b'reed', b'organ', b'guitar', b'organ', b'keyboard', b'bass', b'bass', b'brass', b'bass', b'guitar', b'organ', b'string', b'string', b'bass', b'bass', b'keyboard', b'bass', b'string', b'guitar', b'keyboard', b'bass', b'keyboard', b'guitar', b'string', b'organ', b'reed', b'reed', b'guitar', b'mallet', b'guitar', b'organ', b'bass', b'flute', b'guitar', b'mallet', b'organ', b'brass', b'guitar', b'organ', b'vocal', b'guitar', b'string', b'bass', b'bass', b'guitar', b'reed', b'string', b'guitar', b'guitar', b'bass', b'bass', b'guitar', b'keyboard', b'string', b'guitar', b'guitar', b'bass', b'mallet', b'organ', b'reed', b'guitar', b'brass', b'organ', b'brass', b'bass', b'keyboard', b'organ', b'organ', b'reed', b'flute', b'flute', b'bass', b'reed', b'keyboard', b'flute', b'brass', b'bass', b'guitar', b'reed', b'bass', b'mallet', b'bass', b'string', b'organ', b'organ', b'bass', b'guitar', b'keyboard', b'reed', b'mallet', b'organ', b'bass', b'guitar', b'keyboard', b'bass', b'keyboard', b'bass', b'string', b'bass', b'guitar', b'flute', b'organ', b'reed', b'guitar', b'keyboard', b'flute', b'bass', b'brass', b'bass', b'reed', b'keyboard', b'bass', b'organ', b'keyboard', b'keyboard', b'guitar', b'bass', b'bass', b'brass', b'organ', b'keyboard', b'organ', b'string', b'brass', b'brass', b'organ', b'mallet', b'string', b'bass', b'string', b'brass', b'keyboard', b'bass', b'guitar', b'guitar', b'reed', b'reed', b'reed', b'guitar', b'guitar', b'organ', b'bass', b'bass', b'keyboard', b'keyboard', b'bass', b'vocal', b'bass', b'bass', b'keyboard', b'keyboard', b'brass', b'organ', b'reed', b'guitar', b'bass', b'string', b'keyboard', b'guitar', b'guitar', b'guitar', b'organ', b'vocal', b'guitar', b'bass', b'guitar', b'guitar', b'keyboard', b'guitar', b'string', b'flute', b'reed', b'bass', b'bass', b'keyboard', b'flute', b'brass', b'bass', b'organ', b'organ', b'guitar', b'guitar', b'brass', b'bass', b'guitar', b'guitar', b'bass', b'guitar', b'bass', b'guitar', b'string', b'bass', b'bass', b'keyboard', b'organ', b'organ', b'bass', b'string', b'guitar', b'string', b'bass', b'keyboard', b'keyboard', b'mallet', b'bass', b'keyboard', b'keyboard', b'bass', b'flute', b'reed', b'guitar', b'keyboard', b'string', b'keyboard', b'reed', b'bass', b'vocal', b'keyboard', b'organ', b'keyboard', b'keyboard', b'guitar', b'keyboard', b'bass', b'keyboard', b'keyboard', b'keyboard', b'bass', b'reed', b'string', b'string', b'guitar', b'brass', b'keyboard', b'keyboard', b'guitar', b'keyboard', b'organ', b'guitar', b'brass', b'organ', b'keyboard', b'organ', b'keyboard', b'keyboard', b'guitar', b'brass', b'brass', b'guitar', b'keyboard', b'string', b'mallet', b'vocal', b'organ', b'keyboard', b'vocal', b'organ', b'keyboard', b'mallet', b'keyboard', b'mallet', b'keyboard', b'reed', b'keyboard', b'bass', b'brass', b'bass', b'bass', b'keyboard', b'keyboard', b'guitar', b'guitar', b'brass', b'organ', b'bass', b'bass', b'bass', b'guitar', b'mallet', b'reed', b'mallet', b'bass', b'keyboard', b'keyboard', b'keyboard', b'mallet', b'bass', b'organ', b'bass', b'keyboard', b'organ', b'reed', b'reed', b'string', b'string', b'keyboard', b'string', b'keyboard', b'keyboard', b'organ', b'bass', b'organ', b'brass', b'organ', b'organ', b'organ', b'guitar', b'string', b'string', b'vocal', b'keyboard', b'keyboard', b'mallet', b'keyboard', b'keyboard', b'keyboard', b'flute', b'string', b'reed', b'guitar', b'keyboard', b'organ', b'bass', b'bass', b'bass', b'bass', b'bass', b'keyboard', b'bass', b'organ', b'string', b'keyboard', b'bass', b'guitar', b'organ', b'bass', b'vocal', b'brass', b'guitar', b'bass', b'string', b'brass', b'reed', b'mallet', b'keyboard', b'bass', b'vocal', b'bass', b'keyboard', b'brass', b'guitar', b'brass', b'mallet', b'keyboard', b'organ', b'guitar', b'reed', b'organ', b'guitar', b'keyboard', b'bass', b'guitar', b'organ', b'brass', b'bass', b'organ', b'bass', b'keyboard', b'guitar', b'guitar', b'guitar', b'bass', b'brass', b'keyboard', b'guitar', b'bass', b'bass', b'keyboard', b'keyboard', b'bass', b'brass', b'flute', b'guitar', b'organ', b'guitar', b'guitar', b'mallet', b'guitar', b'bass', b'bass', b'mallet', b'guitar', b'bass', b'bass', b'brass', b'bass', b'flute', b'keyboard', b'brass', b'bass', b'bass', b'bass', b'bass', b'string', b'bass', b'keyboard', b'keyboard', b'keyboard', b'brass', b'organ', b'bass', b'bass', b'guitar', b'guitar', b'bass', b'bass', b'organ', b'brass', b'mallet', b'string', b'bass', b'bass', b'guitar', b'organ', b'reed', b'guitar', b'guitar', b'bass', b'bass', b'keyboard', b'keyboard', b'organ', b'bass', b'organ', b'organ', b'vocal', b'keyboard', b'guitar', b'keyboard', b'organ', b'keyboard', b'mallet', b'keyboard', b'keyboard', b'keyboard', b'keyboard', b'guitar', b'keyboard', b'guitar', b'keyboard', b'guitar', b'string', b'brass', b'keyboard', b'guitar', b'guitar', b'bass', b'bass', b'bass', b'organ', b'keyboard', b'reed', b'keyboard', b'bass', b'keyboard', b'bass', b'keyboard', b'brass', b'mallet', b'guitar', b'mallet', b'keyboard', b'flute', b'bass', b'keyboard', b'string', b'bass', b'bass', b'bass', b'string', b'brass', b'guitar', b'mallet', b'keyboard', b'bass', b'keyboard', b'keyboard', b'bass', b'brass', b'string', b'bass', b'flute', b'vocal', b'bass', b'organ', b'bass', b'guitar', b'bass', b'bass', b'guitar', b'guitar', b'mallet', b'bass', b'bass', b'string', b'organ', b'bass', b'brass', b'keyboard', b'keyboard', b'guitar', b'brass', b'guitar', b'brass', b'brass', b'bass', b'string', b'bass', b'organ', b'bass', b'guitar', b'bass', b'guitar', b'organ', b'keyboard', b'guitar', b'keyboard', b'reed', b'guitar', b'bass', b'organ', b'organ', b'string', b'guitar', b'organ', b'reed', b'organ', b'bass', b'organ', b'string', b'guitar', b'flute', b'reed', b'string', b'reed', b'keyboard', b'organ', b'keyboard', b'brass', b'keyboard', b'vocal', b'string', b'guitar', b'bass', b'keyboard', b'brass', b'string', b'string', b'bass', b'keyboard', b'guitar', b'brass', b'guitar', b'bass', b'flute', b'organ', b'bass', b'brass', b'mallet', b'bass', b'keyboard', b'keyboard', b'organ', b'keyboard', b'mallet', b'bass', b'keyboard', b'bass', b'reed', b'mallet', b'bass', b'bass', b'bass', b'keyboard', b'keyboard', b'organ', b'brass', b'keyboard', b'bass', b'keyboard', b'guitar', b'keyboard', b'guitar', b'bass', b'guitar', b'string', b'reed', b'bass', b'bass', b'bass', b'keyboard', b'string', b'brass', b'bass', b'flute', b'keyboard', b'keyboard', b'bass', b'reed', b'guitar', b'reed', b'keyboard', b'string', b'bass', b'organ', b'keyboard', b'guitar', b'keyboard', b'keyboard', b'bass', b'keyboard', b'bass', b'guitar', b'keyboard', b'brass', b'guitar', b'guitar', b'guitar', b'organ', b'bass', b'guitar', b'brass', b'bass', b'vocal', b'keyboard', b'vocal', b'keyboard', b'string', b'vocal', b'bass', b'reed', b'bass', b'guitar', b'reed', b'guitar', b'guitar', b'bass', b'guitar', b'vocal', b'guitar', b'keyboard', b'guitar', b'keyboard', b'guitar', b'bass', b'keyboard', b'organ', b'flute', b'flute', b'flute', b'mallet', b'organ', b'keyboard', b'guitar', b'keyboard', b'brass', b'guitar', b'brass', b'keyboard', b'guitar', b'bass', b'guitar', b'keyboard', b'bass', b'bass', b'brass', b'mallet', b'brass', b'bass', b'organ', b'reed', b'mallet', b'keyboard', b'bass', b'keyboard', b'guitar', b'organ', b'guitar', b'guitar', b'mallet', b'keyboard', b'bass', b'vocal', b'organ', b'guitar', b'string', b'bass', b'bass', b'vocal', b'guitar', b'brass', b'flute', b'string', b'guitar', b'organ', b'keyboard', b'bass', b'organ', b'organ', b'string', b'bass', b'organ', b'keyboard', b'guitar', b'organ', b'keyboard', b'keyboard', b'keyboard', b'keyboard', b'guitar', b'organ', b'bass', b'guitar', b'keyboard', b'bass', b'brass', b'mallet', b'guitar', b'bass', b'bass', b'guitar', b'reed', b'keyboard', b'string', b'guitar', b'keyboard', b'vocal', b'guitar', b'bass', b'guitar', b'flute', b'bass', b'guitar', b'flute', b'reed', b'bass', b'organ', b'bass', b'string', b'bass', b'reed', b'bass', b'bass', b'keyboard', b'guitar', b'flute', b'reed', b'mallet', b'bass', b'brass', b'guitar', b'reed', b'reed', b'string', b'guitar', b'guitar', b'reed', b'guitar', b'organ', b'guitar', b'string', b'brass', b'keyboard', b'mallet', b'vocal', b'keyboard', b'bass', b'flute', b'organ', b'bass', b'organ', b'keyboard', b'organ', b'bass', b'bass', b'organ', b'vocal', b'organ', b'guitar', b'vocal', b'keyboard', b'bass', b'keyboard', b'reed', b'mallet', b'bass', b'bass', b'organ', b'bass', b'keyboard', b'string', b'bass', b'organ', b'string', b'bass', b'brass', b'guitar', b'guitar', b'mallet', b'guitar', b'bass', b'mallet', b'guitar', b'organ', b'keyboard', b'bass', b'bass', b'bass', b'bass', b'string', b'vocal', b'string', b'mallet', b'vocal', b'keyboard', b'brass', b'string', b'keyboard', b'flute', b'bass', b'string', b'bass', b'bass', b'guitar', b'mallet', b'bass', b'guitar', b'bass', b'bass', b'bass', b'organ', b'keyboard', b'organ', b'reed', b'mallet', b'mallet', b'mallet', b'string', b'reed', b'guitar', b'flute', b'mallet', b'string', b'organ', b'flute', b'organ', b'organ', b'bass', b'organ', b'organ', b'string', b'organ', b'keyboard', b'keyboard', b'organ', b'organ', b'guitar', b'keyboard', b'bass', b'flute', b'guitar', b'bass', b'keyboard', b'guitar', b'bass', b'organ', b'guitar', b'organ', b'bass', b'guitar', b'keyboard', b'keyboard', b'guitar', b'string', b'keyboard', b'flute', b'guitar', b'keyboard', b'keyboard', b'string', b'string', b'organ', b'reed', b'bass', b'guitar', b'bass', b'bass', b'bass', b'bass', b'bass', b'reed', b'guitar', b'reed', b'guitar', b'bass', b'guitar', b'vocal', b'guitar', b'guitar', b'brass', b'reed', b'keyboard', b'guitar', b'keyboard', b'string', b'guitar', b'organ', b'bass', b'reed', b'vocal', b'guitar', b'string', b'vocal', b'brass', b'keyboard', b'keyboard', b'bass', b'string', b'bass', b'string', b'organ', b'guitar', b'organ', b'reed', b'keyboard', b'keyboard', b'bass', b'keyboard', b'keyboard', b'string', b'keyboard', b'mallet', b'bass', b'brass', b'mallet', b'keyboard', b'brass', b'keyboard', b'organ', b'guitar', b'string', b'keyboard', b'organ', b'keyboard', b'bass', b'guitar', b'guitar', b'mallet', b'string', b'bass', b'guitar', b'mallet', b'bass', b'guitar', b'vocal', b'keyboard', b'organ', b'organ', b'string', b'bass', b'bass', b'organ', b'bass', b'organ', b'brass', b'bass', b'guitar', b'bass', b'keyboard', b'bass', b'organ', b'organ', b'string', b'organ', b'organ', b'mallet', b'organ', b'guitar', b'string', b'string', b'organ', b'keyboard', b'flute', b'organ', b'keyboard', b'bass', b'organ', b'mallet', b'bass', b'guitar', b'organ', b'reed', b'bass', b'bass', b'bass', b'keyboard', b'brass', b'keyboard', b'bass', b'vocal', b'reed', b'reed', b'string', b'bass', b'keyboard', b'guitar', b'bass', b'bass', b'brass', b'bass', b'bass', b'guitar', b'keyboard', b'keyboard', b'guitar', b'brass', b'vocal', b'mallet', b'keyboard', b'reed', b'flute', b'keyboard', b'organ', b'keyboard', b'reed', b'keyboard', b'keyboard', b'keyboard', b'bass', b'keyboard', b'organ', b'keyboard', b'bass', b'guitar', b'mallet', b'string', b'keyboard', b'bass', b'vocal', b'guitar', b'keyboard', b'flute', b'bass', b'keyboard', b'guitar', b'organ', b'bass', b'bass', b'bass', b'bass', b'string', b'organ', b'guitar', b'bass', b'mallet', b'string', b'flute', b'bass', b'bass', b'bass', b'flute', b'mallet', b'bass', b'brass', b'string', b'bass', b'guitar', b'organ', b'mallet', b'bass', b'guitar', b'reed', b'keyboard', b'keyboard', b'keyboard', b'organ', b'keyboard', b'keyboard', b'keyboard', b'bass', b'brass', b'bass', b'vocal', b'guitar', b'string', b'guitar', b'guitar', b'flute', b'keyboard', b'keyboard', b'bass', b'bass', b'keyboard', b'guitar', b'bass', b'bass', b'brass', b'string', b'mallet', b'string', b'string', b'organ', b'bass', b'guitar', b'brass', b'guitar', b'bass', b'bass', b'vocal', b'guitar', b'bass', b'bass', b'brass', b'flute', b'string', b'brass', b'bass', b'mallet', b'bass', b'reed', b'bass', b'string', b'bass', b'brass', b'bass', b'string', b'guitar', b'brass', b'brass', b'organ', b'organ', b'reed', b'bass', b'keyboard', b'reed', b'guitar', b'keyboard', b'vocal', b'keyboard', b'organ', b'organ', b'organ', b'guitar', b'keyboard', b'flute', b'organ', b'mallet', b'brass', b'keyboard', b'guitar', b'string', b'keyboard', b'bass', b'bass', b'brass', b'string', b'mallet', b'keyboard', b'brass', b'organ', b'keyboard', b'string', b'keyboard', b'bass', b'mallet', b'vocal', b'guitar', b'keyboard', b'string', b'keyboard', b'bass', b'brass', b'keyboard', b'keyboard', b'bass', b'keyboard', b'reed', b'brass', b'bass', b'organ', b'bass', b'organ', b'keyboard', b'guitar', b'keyboard', b'string', b'keyboard', b'flute', b'guitar', b'guitar', b'bass', b'flute', b'organ', b'organ', b'guitar', b'keyboard', b'bass', b'bass', b'string', b'mallet', b'flute', b'brass', b'flute', b'vocal', b'bass', b'keyboard', b'reed', b'bass', b'bass', b'organ', b'keyboard', b'vocal', b'organ', b'vocal', b'reed', b'guitar', b'bass', b'string', b'keyboard', b'brass', b'bass', b'string', b'guitar', b'keyboard', b'bass', b'guitar', b'mallet', b'guitar', b'guitar', b'organ', b'keyboard', b'reed', b'keyboard', b'bass', b'keyboard', b'bass', b'flute', b'guitar', b'keyboard', b'keyboard', b'keyboard', b'bass', b'keyboard', b'bass', b'organ', b'bass', b'organ', b'keyboard', b'guitar', b'string', b'string', b'guitar', b'organ', b'organ', b'brass', b'keyboard', b'brass', b'organ', b'bass', b'keyboard', b'brass', b'organ', b'bass', b'string', b'organ', b'guitar', b'flute', b'reed', b'bass', b'bass', b'bass', b'organ', b'keyboard', b'reed', b'keyboard', b'bass', b'guitar', b'guitar', b'keyboard', b'keyboard', b'bass', b'keyboard', b'bass', b'keyboard', b'mallet', b'guitar', b'organ', b'bass', b'bass', b'bass', b'bass', b'keyboard', b'bass', b'bass', b'guitar', b'bass', b'flute', b'reed', b'organ', b'guitar', b'string', b'keyboard', b'guitar', b'guitar', b'bass', b'organ', b'vocal', b'mallet', b'guitar', b'keyboard', b'reed', b'guitar', b'string', b'bass', b'bass', b'bass', b'mallet', b'organ', b'vocal', b'brass', b'bass', b'keyboard', b'flute', b'flute', b'guitar', b'keyboard', b'keyboard', b'brass', b'guitar', b'organ', b'string', b'vocal', b'guitar', b'guitar', b'flute', b'mallet', b'keyboard', b'bass', b'mallet', b'bass', b'organ', b'guitar', b'bass', b'guitar', b'bass', b'mallet', b'bass', b'guitar', b'organ', b'bass', b'bass', b'guitar', b'guitar', b'brass', b'string', b'reed', b'mallet', b'keyboard', b'keyboard', b'bass', b'guitar', b'guitar', b'guitar', b'mallet', b'bass', b'string', b'keyboard', b'bass', b'bass', b'keyboard', b'bass', b'reed', b'keyboard', b'keyboard', b'keyboard', b'bass', b'brass', b'keyboard', b'keyboard', b'mallet', b'keyboard', b'mallet', b'organ', b'keyboard', b'guitar', b'organ', b'keyboard', b'brass', b'keyboard', b'string', b'brass', b'guitar', b'guitar', b'guitar', b'brass', b'bass', b'string', b'brass', b'guitar', b'guitar', b'vocal', b'guitar', b'keyboard', b'flute', b'string', b'organ', b'keyboard', b'guitar', b'keyboard', b'bass', b'brass', b'mallet', b'keyboard', b'keyboard', b'guitar', b'keyboard', b'keyboard', b'flute', b'keyboard', b'organ', b'guitar', b'keyboard', b'bass', b'keyboard', b'bass', b'mallet', b'keyboard', b'keyboard', b'keyboard', b'keyboard', b'guitar', b'bass', b'guitar', b'reed', b'guitar', b'flute', b'guitar', b'bass', b'guitar', b'organ', b'string', b'guitar', b'guitar', b'vocal', b'organ', b'bass', b'keyboard', b'keyboard', b'keyboard', b'organ', b'reed', b'organ', b'keyboard', b'guitar', b'brass', b'vocal', b'guitar', b'organ', b'organ', b'organ', b'string', b'reed', b'guitar', b'keyboard', b'bass', b'guitar', b'organ', b'flute', b'keyboard', b'bass', b'guitar', b'bass', b'keyboard', b'string', b'organ', b'keyboard', b'brass', b'keyboard', b'guitar', b'keyboard', b'mallet', b'organ', b'string', b'brass', b'reed', b'brass', b'bass', b'guitar', b'keyboard', b'brass', b'organ', b'bass', b'guitar', b'guitar', b'string', b'keyboard', b'keyboard', b'vocal', b'brass', b'keyboard', b'string', b'guitar', b'bass', b'keyboard', b'guitar', b'bass', b'guitar', b'keyboard', b'organ', b'keyboard', b'vocal', b'organ', b'mallet', b'bass', b'guitar', b'guitar', b'guitar', b'reed', b'vocal', b'organ', b'guitar', b'keyboard', b'mallet', b'bass', b'keyboard', b'bass', b'bass', b'bass', b'bass', b'keyboard', b'guitar', b'brass', b'organ', b'guitar', b'organ', b'organ', b'keyboard', b'guitar', b'bass', b'keyboard', b'keyboard', b'organ', b'keyboard', b'flute', b'keyboard', b'guitar', b'bass', b'keyboard', b'reed', b'bass', b'vocal', b'guitar', b'guitar', b'bass', b'guitar', b'brass', b'organ', b'brass', b'keyboard', b'guitar', b'keyboard', b'reed', b'brass', b'keyboard', b'string', b'flute', b'string', b'reed', b'keyboard', b'organ', b'reed', b'organ', b'keyboard', b'organ', b'bass', b'keyboard', b'keyboard', b'brass', b'guitar', b'bass', b'organ', b'organ', b'organ', b'bass', b'bass', b'organ', b'bass', b'reed', b'organ', b'bass', b'bass', b'keyboard', b'keyboard', b'reed', b'keyboard', b'keyboard', b'organ', b'guitar', b'bass', b'string', b'string', b'keyboard', b'string', b'organ', b'mallet', b'keyboard', b'flute', b'keyboard', b'guitar', b'mallet', b'keyboard', b'guitar', b'guitar', b'keyboard', b'keyboard', b'vocal', b'bass', b'guitar', b'mallet', b'bass', b'bass', b'flute', b'guitar', b'guitar', b'organ', b'keyboard', b'reed', b'organ', b'string', b'guitar', b'mallet', b'brass', b'organ', b'brass', b'bass', b'bass', b'brass', b'keyboard', b'bass', b'keyboard', b'vocal', b'organ', b'guitar', b'organ', b'guitar', b'bass', b'bass', b'bass', b'mallet', b'guitar', b'reed', b'reed', b'mallet', b'keyboard', b'guitar', b'organ', b'organ', b'bass', b'brass', b'organ', b'guitar', b'string', b'organ', b'brass', b'organ', b'guitar', b'brass', b'guitar', b'bass', b'mallet', b'vocal', b'keyboard', b'guitar', b'keyboard', b'mallet', b'brass', b'bass', b'guitar', b'flute', b'guitar', b'brass', b'guitar', b'mallet', b'guitar', b'bass', b'brass', b'mallet', b'keyboard', b'bass', b'bass', b'brass', b'keyboard', b'organ', b'bass', b'mallet', b'keyboard', b'guitar', b'guitar', b'guitar', b'string', b'keyboard', b'keyboard', b'vocal', b'reed', b'guitar', b'bass', b'bass', b'brass', b'bass', b'flute', b'bass', b'reed', b'string', b'organ', b'keyboard', b'organ', b'keyboard', b'keyboard', b'guitar', b'keyboard', b'organ', b'bass', b'bass', b'bass', b'guitar', b'organ', b'organ', b'flute', b'keyboard', b'reed', b'guitar', b'keyboard', b'guitar', b'string', b'bass', b'keyboard', b'brass', b'organ', b'bass', b'keyboard', b'brass', b'flute', b'organ', b'guitar', b'vocal', b'reed', b'reed', b'bass', b'bass', b'keyboard', b'bass', b'flute', b'guitar', b'bass', b'keyboard', b'bass', b'bass', b'bass', b'bass', b'keyboard', b'bass', b'string', b'guitar', b'bass', b'bass', b'keyboard', b'keyboard', b'organ', b'bass', b'organ', b'bass', b'reed', b'guitar', b'keyboard', b'bass', b'string', b'keyboard', b'guitar', b'brass', b'organ', b'guitar', b'flute', b'guitar', b'organ', b'brass', b'string', b'organ', b'organ', b'string', b'bass', b'brass', b'bass', b'vocal', b'guitar', b'reed', b'guitar', b'keyboard', b'guitar', b'brass', b'vocal', b'guitar', b'keyboard', b'bass', b'guitar', b'organ', b'organ', b'reed', b'keyboard', b'mallet', b'guitar', b'bass', b'bass', b'bass', b'mallet', b'keyboard', b'keyboard', b'guitar', b'keyboard', b'organ', b'bass', b'guitar', b'keyboard', b'organ', b'bass', b'keyboard', b'brass', b'bass', b'string', b'guitar', b'bass', b'keyboard', b'bass', b'mallet', b'organ', b'bass', b'bass', b'guitar', b'organ', b'vocal', b'bass', b'brass', b'keyboard', b'bass', b'guitar', b'organ', b'keyboard', b'guitar', b'bass', b'keyboard', b'guitar', b'flute', b'organ', b'bass', b'brass', b'keyboard', b'keyboard', b'flute', b'guitar', b'keyboard', b'brass', b'guitar', b'guitar', b'guitar', b'mallet', b'keyboard', b'brass', b'mallet', b'keyboard', b'guitar', b'keyboard', b'bass', b'guitar', b'mallet', b'flute', b'reed', b'bass', b'brass', b'flute', b'guitar', b'string', b'keyboard', b'organ', b'guitar', b'organ', b'keyboard', b'guitar', b'brass', b'reed', b'reed', b'bass', b'organ', b'flute', b'bass', b'flute', b'reed', b'mallet', b'flute', b'bass', b'organ', b'keyboard', b'organ', b'guitar', b'bass', b'mallet', b'keyboard', b'reed', b'organ', b'guitar', b'string', b'guitar', b'keyboard', b'keyboard', b'mallet', b'organ', b'mallet', b'bass', b'guitar', b'flute', b'reed', b'keyboard', b'string', b'keyboard', b'guitar', b'guitar', b'guitar', b'reed', b'guitar', b'bass', b'organ', b'keyboard', b'mallet', b'flute', b'organ', b'guitar', b'mallet', b'bass', b'bass', b'guitar', b'keyboard', b'bass', b'keyboard', b'keyboard', b'keyboard', b'brass', b'organ', b'string', b'bass', b'organ', b'brass', b'guitar', b'keyboard', b'keyboard', b'keyboard', b'keyboard', b'guitar', b'keyboard', b'brass', b'guitar', b'string', b'guitar', b'bass', b'guitar', b'flute', b'brass', b'guitar', b'vocal', b'bass', b'reed', b'bass', b'vocal', b'flute', b'guitar', b'keyboard', b'guitar', b'bass', b'guitar', b'reed', b'bass', b'keyboard', b'organ', b'keyboard', b'keyboard', b'vocal', b'brass', b'bass', b'keyboard', b'brass', b'keyboard', b'keyboard', b'brass', b'bass', b'keyboard', b'string', b'mallet', b'organ', b'mallet', b'keyboard', b'bass', b'bass', b'reed', b'flute', b'keyboard', b'guitar', b'bass', b'mallet', b'guitar', b'brass', b'string', b'keyboard', b'guitar', b'keyboard', b'guitar', b'reed', b'brass', b'keyboard', b'keyboard', b'organ', b'bass', b'organ', b'organ', b'bass', b'mallet', b'organ', b'guitar', b'bass', b'bass', b'bass', b'guitar', b'bass', b'keyboard', b'guitar', b'vocal', b'mallet', b'bass', b'guitar', b'bass', b'organ', b'keyboard', b'guitar', b'guitar', b'guitar', b'keyboard', b'keyboard', b'bass', b'organ', b'bass', b'brass', b'organ', b'string', b'keyboard', b'keyboard', b'mallet', b'organ', b'organ', b'string', b'guitar', b'brass', b'guitar', b'keyboard', b'keyboard', b'bass', b'brass', b'keyboard', b'bass', b'bass', b'keyboard', b'bass', b'organ', b'keyboard', b'mallet', b'keyboard', b'guitar', b'guitar', b'organ', b'reed', b'keyboard', b'bass', b'brass', b'bass', b'reed', b'guitar', b'keyboard', b'keyboard', b'keyboard', b'keyboard', b'keyboard', b'string', b'mallet', b'flute', b'bass', b'keyboard', b'guitar', b'mallet', b'keyboard', b'bass', b'bass', b'guitar', b'vocal', b'organ', b'bass', b'guitar', b'reed', b'guitar', b'mallet', b'organ', b'brass', b'string', b'vocal', b'organ', b'keyboard', b'keyboard', b'string', b'string', b'bass', b'organ', b'bass', b'bass', b'keyboard', b'keyboard', b'keyboard', b'keyboard', b'brass', b'bass', b'reed', b'vocal', b'keyboard', b'organ', b'bass', b'guitar', b'bass', b'guitar', b'bass', b'guitar', b'guitar', b'bass', b'bass', b'keyboard', b'guitar', b'mallet', b'guitar', b'guitar', b'keyboard', b'keyboard', b'organ', b'keyboard', b'guitar', b'organ', b'guitar', b'guitar', b'reed', b'keyboard', b'string', b'bass', b'bass', b'string', b'bass', b'organ', b'organ', b'guitar', b'flute', b'organ', b'brass', b'keyboard', b'keyboard', b'bass', b'keyboard', b'keyboard', b'keyboard', b'reed', b'bass', b'keyboard', b'reed', b'brass', b'bass', b'string', b'mallet', b'mallet', b'keyboard', b'bass', b'guitar', b'organ', b'guitar', b'flute', b'string', b'bass', b'guitar', b'bass', b'keyboard', b'string', b'bass', b'bass', b'bass', b'organ', b'reed', b'keyboard', b'string', b'bass', b'reed', b'mallet', b'vocal', b'keyboard', b'organ', b'bass', b'reed', b'organ', b'mallet', b'reed', b'organ', b'brass', b'keyboard', b'organ', b'mallet', b'guitar', b'bass', b'string', b'keyboard', b'organ', b'keyboard', b'mallet', b'guitar', b'mallet', b'organ', b'guitar', b'keyboard', b'brass', b'organ', b'organ', b'vocal', b'bass', b'bass', b'guitar', b'bass', b'vocal', b'bass', b'keyboard', b'keyboard', b'string', b'bass', b'vocal', b'flute', b'organ', b'guitar', b'string', b'keyboard', b'bass', b'string', b'string', b'brass', b'keyboard', b'string', b'keyboard', b'keyboard', b'bass', b'bass', b'bass', b'guitar', b'bass', b'brass', b'mallet', b'keyboard', b'guitar', b'keyboard', b'string', b'flute', b'organ', b'guitar', b'vocal', b'brass', b'bass', b'organ', b'guitar', b'vocal', b'organ', b'reed', b'organ', b'string', b'guitar', b'bass', b'mallet', b'bass', b'mallet', b'keyboard', b'bass', b'flute', b'guitar', b'keyboard', b'guitar', b'brass', b'flute', b'guitar', b'bass', b'keyboard', b'reed', b'keyboard', b'keyboard', b'mallet', b'string', b'keyboard', b'bass', b'keyboard', b'guitar', b'keyboard', b'guitar', b'keyboard', b'organ', b'keyboard', b'flute', b'keyboard', b'reed', b'bass', b'brass', b'keyboard', b'reed', b'mallet', b'bass', b'bass', b'guitar', b'guitar', b'keyboard', b'bass', b'organ', b'reed', b'guitar', b'organ', b'bass', b'brass', b'bass', b'reed', b'keyboard', b'keyboard', b'brass', b'keyboard', b'bass', b'mallet', b'brass', b'keyboard', b'bass', b'guitar', b'bass', b'guitar', b'guitar', b'keyboard', b'bass', b'brass', b'organ', b'bass', b'brass', b'guitar', b'guitar', b'reed', b'organ', b'mallet', b'bass', b'guitar', b'guitar', b'organ', b'bass', b'mallet', b'organ', b'keyboard', b'flute', b'mallet', b'bass', b'string', b'bass', b'bass', b'keyboard', b'reed', b'bass', b'bass', b'reed', b'organ', b'guitar', b'guitar', b'bass', b'string', b'organ', b'keyboard', b'vocal', b'bass', b'guitar', b'brass', b'string', b'keyboard', b'keyboard', b'string', b'brass', b'guitar', b'guitar', b'flute', b'bass', b'organ', b'organ', b'organ', b'organ', b'keyboard', b'string', b'bass', b'bass', b'guitar', b'reed', b'reed', b'guitar', b'organ', b'keyboard', b'keyboard', b'bass', b'bass', b'guitar', b'bass', b'keyboard', b'keyboard', b'keyboard', b'organ', b'organ', b'brass', b'organ', b'flute', b'vocal', b'string', b'bass', b'vocal', b'keyboard', b'bass', b'string', b'organ', b'string', b'organ', b'brass', b'guitar', b'organ', b'bass', b'organ', b'guitar', b'string', b'bass', b'keyboard', b'bass', b'brass', b'string', b'guitar', b'keyboard', b'keyboard', b'reed', b'guitar', b'guitar', b'bass', b'flute', b'keyboard', b'brass', b'guitar', b'guitar', b'flute', b'keyboard', b'bass', b'keyboard', b'brass', b'bass', b'keyboard', b'reed', b'organ', b'keyboard', b'bass', b'organ', b'guitar', b'vocal', b'bass', b'string', b'flute', b'keyboard', b'keyboard', b'keyboard', b'bass', b'guitar', b'keyboard', b'bass', b'reed', b'mallet', b'keyboard', b'guitar', b'guitar', b'keyboard', b'guitar', b'bass', b'bass', b'bass', b'reed', b'reed', b'keyboard', b'flute', b'guitar', b'vocal', b'bass', b'bass', b'organ', b'organ', b'string', b'organ', b'bass', b'bass', b'guitar', b'bass', b'bass', b'organ', b'keyboard', b'mallet', b'guitar', b'bass', b'bass', b'keyboard', b'bass', b'string', b'brass', b'bass', b'keyboard', b'keyboard', b'guitar', b'guitar', b'guitar', b'guitar', b'flute', b'keyboard', b'guitar', b'bass', b'brass', b'organ', b'guitar', b'guitar', b'bass', b'bass', b'keyboard', b'bass', b'organ', b'bass', b'guitar', b'vocal', b'guitar', b'bass', b'brass', b'keyboard', b'keyboard', b'brass', b'guitar', b'string', b'flute', b'mallet', b'keyboard', b'keyboard', b'organ', b'brass', b'string', b'bass', b'mallet', b'brass', b'organ', b'keyboard', b'reed', b'keyboard', b'guitar', b'bass', b'guitar', b'guitar', b'guitar', b'reed', b'guitar', b'string', b'keyboard', b'brass', b'keyboard', b'vocal', b'keyboard', b'keyboard', b'guitar', b'bass', b'guitar', b'brass', b'bass', b'brass', b'guitar', b'keyboard', b'guitar', b'brass', b'bass', b'reed', b'bass', b'keyboard', b'organ', b'bass', b'bass', b'organ', b'keyboard', b'mallet', b'string', b'brass', b'reed', b'organ', b'flute', b'reed', b'bass', b'flute', b'string', b'guitar', b'mallet', b'string', b'mallet', b'vocal', b'brass', b'organ', b'bass', b'mallet', b'brass', b'organ', b'bass', b'keyboard', b'mallet', b'organ', b'bass', b'string', b'guitar', b'brass', b'mallet', b'guitar', b'flute', b'flute', b'bass', b'keyboard', b'keyboard', b'mallet', b'organ', b'bass', b'vocal', b'vocal', b'bass', b'bass', b'string', b'keyboard', b'guitar', b'organ', b'vocal', b'organ', b'brass', b'mallet', b'flute', b'mallet', b'bass', b'bass', b'guitar', b'guitar', b'bass', b'brass', b'keyboard', b'bass', b'reed', b'string', b'bass', b'string', b'mallet', b'mallet', b'flute', b'keyboard', b'organ', b'keyboard', b'vocal', b'keyboard', b'organ', b'bass', b'string', b'string', b'guitar', b'organ', b'string', b'organ', b'guitar', b'string', b'bass', b'guitar', b'brass', b'guitar', b'bass', b'keyboard', b'bass', b'bass', b'organ', b'keyboard', b'keyboard', b'mallet', b'bass', b'organ', b'bass', b'keyboard', b'bass', b'guitar', b'organ', b'reed', b'brass', b'mallet', b'guitar', b'string', b'string', b'bass', b'string', b'string', b'guitar', b'keyboard', b'bass', b'reed', b'guitar', b'keyboard', b'brass', b'keyboard', b'bass', b'keyboard', b'keyboard', b'keyboard', b'guitar', b'bass', b'keyboard', b'keyboard', b'organ', b'mallet', b'keyboard', b'keyboard', b'guitar', b'organ', b'mallet', b'bass', b'organ', b'bass', b'bass', b'organ', b'bass', b'vocal', b'bass', b'organ', b'string', b'bass', b'guitar', b'string', b'bass', b'mallet', b'keyboard', b'organ', b'organ', b'guitar', b'guitar', b'guitar', b'bass', b'organ', b'organ', b'reed', b'organ', b'vocal', b'mallet', b'bass', b'brass', b'bass', b'bass', b'bass', b'bass', b'organ', b'keyboard', b'bass', b'guitar', b'organ', b'keyboard', b'organ', b'guitar', b'keyboard', b'flute', b'string', b'reed', b'reed', b'guitar', b'guitar', b'bass', b'keyboard', b'organ', b'string', b'string', b'mallet', b'guitar', b'bass', b'vocal', b'guitar', b'organ', b'keyboard', b'bass', b'reed', b'organ', b'bass', b'mallet', b'mallet', b'reed', b'flute', b'brass', b'organ', b'bass', b'reed', b'guitar', b'organ', b'keyboard', b'keyboard', b'keyboard', b'organ', b'reed', b'keyboard', b'keyboard', b'bass', b'organ', b'reed', b'bass', b'string', b'string', b'bass', b'flute', b'keyboard', b'keyboard', b'keyboard', b'reed', b'bass', b'keyboard', b'bass', b'bass', b'organ', b'mallet', b'bass', b'guitar', b'guitar', b'keyboard', b'bass', b'mallet', b'organ', b'organ', b'keyboard', b'brass', b'brass', b'bass', b'organ', b'bass', b'reed', b'organ', b'organ', b'bass', b'brass', b'string', b'brass', b'guitar', b'bass', b'organ', b'reed', b'keyboard', b'vocal', b'keyboard', b'brass', b'organ', b'guitar', b'flute', b'organ', b'flute', b'guitar', b'keyboard', b'bass', b'mallet', b'organ', b'organ', b'guitar', b'bass', b'keyboard', b'bass', b'keyboard', b'vocal', b'keyboard', b'bass', b'bass', b'keyboard', b'brass', b'keyboard', b'reed', b'vocal', b'organ', b'guitar', b'keyboard', b'bass', b'organ', b'flute', b'keyboard', b'organ', b'bass', b'guitar', b'string', b'guitar', b'guitar', b'guitar', b'bass', b'string', b'organ', b'brass', b'organ', b'bass', b'bass', b'bass', b'guitar', b'guitar', b'bass', b'brass', b'brass', b'bass', b'guitar', b'reed', b'reed', b'bass', b'bass', b'guitar', b'bass', b'bass', b'flute', b'organ', b'guitar', b'keyboard', b'flute', b'bass', b'organ', b'keyboard', b'bass', b'bass', b'keyboard', b'bass', b'guitar', b'keyboard', b'bass', b'guitar', b'bass', b'brass', b'keyboard', b'guitar', b'keyboard', b'organ', b'guitar', b'keyboard', b'string', b'keyboard', b'string', b'string', b'bass', b'organ', b'bass', b'mallet', b'organ', b'brass', b'string', b'bass', b'bass', b'mallet', b'bass', b'keyboard', b'string', b'bass', b'bass', b'keyboard', b'brass', b'keyboard', b'keyboard', b'reed', b'organ', b'keyboard', b'brass', b'string', b'flute', b'string', b'keyboard', b'guitar', b'bass', b'brass', b'guitar', b'string', b'guitar', b'bass', b'keyboard', b'vocal', b'string', b'organ', b'keyboard', b'keyboard', b'organ', b'guitar', b'brass', b'guitar', b'mallet', b'guitar', b'reed', b'brass', b'bass', b'keyboard', b'organ', b'bass', b'guitar', b'organ', b'guitar', b'keyboard', b'keyboard', b'organ', b'keyboard', b'bass', b'brass', b'organ', b'bass', b'keyboard', b'reed', b'bass', b'guitar', b'vocal', b'flute', b'bass', b'keyboard', b'reed', b'keyboard', b'bass', b'vocal', b'reed', b'brass', b'vocal', b'brass', b'organ', b'reed', b'bass', b'keyboard', b'bass', b'guitar', b'keyboard', b'guitar', b'brass', b'organ', b'guitar', b'keyboard', b'bass', b'organ', b'organ', b'bass', b'organ', b'guitar', b'keyboard', b'keyboard', b'string', b'guitar', b'guitar', b'keyboard', b'bass', b'guitar', b'guitar', b'guitar', b'bass', b'bass', b'guitar', b'organ', b'bass', b'organ', b'mallet', b'guitar', b'bass', b'string', b'organ', b'keyboard', b'guitar', b'bass', b'string', b'reed', b'mallet', b'bass', b'string', b'organ', b'flute', b'keyboard', b'bass', b'string', b'brass', b'guitar', b'keyboard', b'flute', b'guitar', b'bass', b'reed', b'flute', b'bass', b'keyboard', b'bass', b'guitar', b'keyboard', b'bass', b'bass', b'bass', b'brass', b'flute', b'brass', b'bass', b'keyboard', b'brass', b'guitar', b'guitar', b'keyboard', b'organ', b'mallet', b'bass', b'guitar', b'vocal', b'keyboard', b'vocal', b'keyboard', b'organ', b'guitar', b'keyboard', b'organ', b'bass', b'organ', b'string', b'keyboard', b'keyboard', b'brass', b'bass', b'reed', b'organ', b'guitar', b'keyboard', b'reed', b'guitar', b'bass', b'keyboard', b'bass', b'keyboard', b'organ', b'mallet', b'guitar', b'guitar', b'bass', b'guitar', b'string', b'keyboard', b'organ', b'mallet', b'reed', b'reed', b'vocal', b'bass', b'mallet', b'string', b'string', b'keyboard', b'vocal', b'flute', b'keyboard', b'keyboard', b'organ', b'organ', b'organ', b'guitar', b'brass', b'keyboard', b'guitar', b'bass', b'keyboard', b'organ', b'reed', b'mallet', b'organ', b'keyboard', b'guitar', b'keyboard', b'guitar', b'vocal', b'guitar', b'guitar', b'bass', b'string', b'bass', b'bass', b'string', b'bass', b'organ', b'bass', b'guitar', b'organ', b'string', b'guitar', b'guitar', b'bass', b'brass', b'string', b'bass', b'keyboard', b'mallet', b'brass', b'guitar', b'organ', b'guitar', b'bass', b'keyboard', b'keyboard', b'organ', b'guitar', b'organ', b'keyboard', b'brass', b'keyboard', b'bass', b'organ', b'guitar', b'flute', b'guitar', b'bass', b'guitar', b'vocal', b'organ', b'keyboard', b'vocal', b'bass', b'guitar', b'bass', b'organ', b'guitar', b'keyboard', b'bass', b'string', b'bass', b'organ', b'keyboard', b'guitar', b'bass', b'brass', b'bass', b'bass', b'bass', b'string', b'guitar', b'guitar', b'keyboard', b'bass', b'bass', b'bass', b'bass', b'flute', b'organ', b'string', b'flute', b'vocal', b'organ', b'brass', b'keyboard', b'brass', b'keyboard', b'keyboard', b'keyboard', b'guitar', b'bass', b'vocal', b'brass', b'guitar', b'brass', b'keyboard', b'string', b'organ', b'keyboard', b'vocal', b'bass', b'keyboard', b'bass', b'bass', b'vocal', b'organ', b'string', b'guitar', b'brass', b'vocal', b'organ', b'keyboard', b'bass', b'vocal', b'string', b'flute', b'vocal', b'keyboard', b'guitar', b'keyboard', b'bass', b'keyboard', b'reed', b'brass', b'vocal', b'guitar', b'guitar', b'bass', b'organ', b'keyboard', b'brass', b'keyboard', b'string', b'guitar', b'keyboard', b'bass', b'keyboard', b'bass', b'keyboard', b'guitar', b'keyboard', b'bass', b'bass', b'brass', b'guitar', b'keyboard', b'bass', b'string', b'guitar', b'keyboard', b'guitar', b'bass', b'bass', b'keyboard', b'guitar', b'guitar', b'keyboard', b'organ', b'guitar', b'keyboard', b'keyboard', b'bass', b'bass', b'keyboard', b'bass', b'vocal', b'guitar', b'organ', b'brass', b'organ', b'brass', b'mallet', b'reed', b'keyboard', b'organ', b'organ', b'bass', b'keyboard', b'mallet', b'bass', b'reed', b'bass', b'brass', b'organ', b'bass', b'keyboard', b'reed', b'reed', b'mallet', b'keyboard', b'bass', b'guitar', b'string', b'bass', b'guitar', b'organ', b'flute', b'keyboard', b'guitar', b'reed', b'organ', b'guitar', b'keyboard', b'reed', b'guitar', b'brass', b'organ', b'keyboard', b'brass', b'organ', b'organ', b'keyboard', b'mallet', b'brass', b'vocal', b'bass', b'brass', b'flute', b'keyboard', b'organ', b'mallet', b'bass', b'keyboard', b'guitar', b'bass', b'brass', b'bass', b'reed', b'guitar', b'organ', b'flute', b'keyboard', b'bass', b'bass', b'keyboard', b'keyboard', b'guitar', b'keyboard', b'organ', b'bass', b'bass', b'bass', b'flute', b'flute', b'guitar', b'keyboard', b'guitar', b'bass', b'organ', b'keyboard', b'keyboard', b'organ', b'vocal', b'string', b'reed', b'organ', b'organ', b'bass', b'bass', b'guitar', b'guitar', b'guitar', b'guitar', b'keyboard', b'flute', b'guitar', b'mallet', b'flute', b'guitar', b'bass', b'organ', b'bass', b'keyboard', b'guitar', b'brass', b'mallet', b'guitar', b'bass', b'bass', b'guitar', b'keyboard', b'bass', b'flute', b'bass', b'flute', b'brass', b'organ', b'vocal', b'guitar', b'organ', b'keyboard', b'reed', b'keyboard', b'brass', b'flute', b'mallet', b'keyboard', b'bass', b'bass', b'flute', b'bass', b'mallet', b'organ', b'organ', b'keyboard', b'bass', b'mallet', b'mallet', b'mallet', b'bass', b'string', b'flute', b'bass', b'bass', b'bass', b'brass', b'keyboard', b'organ', b'bass', b'string', b'flute', b'reed', b'guitar', b'vocal', b'organ', b'string', b'bass', b'organ', b'brass', b'mallet', b'guitar', b'bass', b'string', b'guitar', b'keyboard', b'bass', b'organ', b'mallet', b'keyboard', b'vocal', b'keyboard', b'guitar', b'guitar', b'flute', b'keyboard', b'bass', b'guitar', b'organ', b'guitar', b'brass', b'organ', b'bass', b'organ', b'bass', b'organ', b'mallet', b'vocal', b'bass', b'keyboard', b'brass', b'string', b'mallet', b'bass', b'string', b'bass', b'keyboard', b'flute', b'organ', b'bass', b'guitar', b'guitar', b'keyboard', b'bass', b'guitar', b'bass', b'reed', b'reed', b'guitar', b'keyboard', b'organ', b'keyboard', b'bass', b'keyboard', b'string', b'reed', b'brass', b'keyboard', b'organ', b'reed', b'organ', b'keyboard', b'mallet', b'mallet', b'bass', b'string', b'bass', b'string', b'reed', b'vocal', b'guitar', b'keyboard', b'reed', b'keyboard', b'flute', b'string', b'vocal', b'brass', b'string', b'guitar', b'organ', b'organ', b'guitar', b'string', b'guitar', b'keyboard', b'flute', b'organ', b'keyboard', b'string', b'keyboard', b'mallet', b'bass', b'mallet', b'bass', b'keyboard', b'organ', b'string', b'keyboard', b'guitar', b'keyboard', b'organ', b'keyboard', b'bass', b'keyboard', b'bass', b'guitar', b'string', b'bass', b'brass', b'organ', b'guitar', b'bass', b'keyboard', b'keyboard', b'bass', b'keyboard', b'bass', b'guitar', b'string', b'guitar', b'guitar', b'bass', b'guitar', b'string', b'bass', b'keyboard', b'bass', b'guitar', b'mallet', b'keyboard', b'vocal', b'keyboard', b'guitar', b'bass', b'guitar', b'reed', b'organ', b'keyboard', b'guitar', b'guitar', b'bass', b'brass', b'bass', b'bass', b'mallet', b'bass', b'bass', b'organ', b'organ', b'reed', b'organ', b'guitar', b'guitar', b'bass', b'flute', b'bass', b'flute', b'organ', b'keyboard', b'keyboard', b'guitar', b'bass', b'bass', b'brass', b'keyboard', b'guitar', b'guitar', b'organ', b'bass', b'bass', b'guitar', b'keyboard', b'string', b'keyboard', b'bass', b'bass', b'guitar', b'keyboard', b'brass', b'guitar', b'keyboard', b'vocal', b'keyboard', b'bass', b'keyboard', b'keyboard', b'keyboard', b'bass', b'keyboard', b'string', b'string', b'organ', b'mallet', b'mallet', b'reed', b'reed', b'mallet', b'mallet', b'mallet', b'bass', b'keyboard', b'string', b'guitar', b'keyboard', b'string', b'mallet', b'brass', b'bass', b'guitar', b'guitar', b'keyboard', b'bass', b'flute', b'organ', b'guitar', b'guitar', b'keyboard', b'bass', b'bass', b'string', b'string', b'keyboard', b'bass', b'flute', b'flute', b'guitar', b'keyboard', b'bass', b'reed', b'keyboard', b'mallet', b'keyboard', b'organ', b'flute', b'bass', b'string', b'organ', b'brass', b'bass', b'reed', b'organ', b'guitar', b'flute', b'flute', b'organ', b'keyboard', b'reed', b'keyboard', b'mallet', b'organ', b'keyboard', b'keyboard', b'bass', b'guitar', b'keyboard', b'mallet', b'reed', b'bass', b'string', b'vocal', b'guitar', b'string', b'reed', b'bass', b'bass', b'bass', b'vocal', b'guitar', b'string', b'organ', b'bass', b'guitar', b'keyboard', b'organ', b'bass', b'organ', b'bass', b'guitar', b'guitar', b'bass', b'brass', b'keyboard', b'bass', b'flute', b'reed', b'guitar', b'keyboard', b'reed', b'organ', b'mallet', b'organ', b'string', b'bass', b'guitar', b'brass', b'keyboard', b'organ', b'keyboard', b'reed', b'string', b'guitar', b'guitar', b'brass', b'mallet', b'vocal', b'keyboard', b'bass', b'organ', b'guitar', b'brass', b'brass', b'brass', b'keyboard', b'bass', b'flute', b'guitar', b'string', b'flute', b'reed', b'guitar', b'keyboard', b'keyboard', b'bass', b'keyboard', b'vocal', b'mallet', b'guitar', b'keyboard', b'flute', b'flute', b'keyboard', b'brass', b'bass', b'guitar', b'keyboard', b'reed', b'guitar', b'flute', b'string', b'reed', b'keyboard', b'guitar', b'bass', b'flute', b'keyboard', b'guitar', b'organ', b'keyboard', b'reed', b'keyboard', b'flute', b'guitar', b'flute', b'organ', b'guitar', b'guitar', b'organ', b'guitar', b'bass', b'keyboard', b'keyboard', b'keyboard', b'keyboard', b'brass', b'reed', b'guitar', b'bass', b'bass', b'keyboard', b'keyboard', b'keyboard', b'bass', b'bass', b'organ', b'mallet', b'keyboard', b'bass', b'flute', b'reed', b'organ', b'bass', b'keyboard', b'mallet', b'organ', b'organ', b'organ', b'guitar', b'vocal', b'guitar', b'guitar', b'keyboard', b'flute', b'mallet', b'string', b'guitar', b'guitar', b'organ', b'flute', b'organ', b'brass', b'organ', b'bass', b'keyboard', b'reed', b'mallet', b'keyboard', b'keyboard', b'string', b'vocal', b'guitar', b'bass', b'bass', b'guitar', b'vocal', b'bass', b'guitar', b'mallet', b'keyboard', b'organ', b'guitar', b'brass', b'brass', b'bass', b'bass', b'keyboard', b'bass', b'organ', b'string', b'keyboard', b'guitar', b'brass', b'brass', b'organ', b'guitar', b'guitar', b'keyboard', b'bass', b'brass', b'bass', b'string', b'keyboard', b'organ', b'organ', b'reed', b'guitar', b'organ', b'guitar', b'string', b'keyboard', b'keyboard', b'bass', b'mallet', b'reed', b'keyboard', b'bass', b'vocal', b'reed', b'reed', b'flute', b'reed', b'organ', b'bass', b'organ', b'bass', b'brass', b'vocal', b'bass', b'flute', b'guitar', b'keyboard', b'keyboard', b'bass', b'flute', b'organ', b'keyboard', b'reed', b'reed', b'brass', b'flute', b'string', b'brass', b'guitar', b'brass', b'bass', b'guitar', b'guitar', b'bass', b'keyboard', b'bass', b'keyboard', b'bass', b'bass', b'mallet', b'keyboard', b'keyboard', b'guitar', b'keyboard', b'keyboard', b'keyboard', b'organ', b'bass', b'bass', b'organ', b'string', b'bass', b'organ', b'guitar', b'vocal', b'bass', b'vocal', b'guitar', b'mallet', b'bass', b'guitar', b'keyboard', b'guitar', b'bass', b'guitar', b'reed', b'guitar', b'keyboard', b'bass', b'flute', b'bass', b'reed', b'bass', b'keyboard', b'bass', b'guitar', b'bass', b'keyboard', b'brass', b'string', b'organ', b'bass', b'bass', b'bass', b'guitar', b'string', b'keyboard', b'keyboard', b'keyboard', b'mallet', b'keyboard', b'organ', b'guitar', b'brass', b'mallet', b'keyboard', b'bass', b'bass', b'keyboard', b'keyboard', b'mallet', b'keyboard', b'guitar', b'organ', b'keyboard', b'guitar', b'guitar', b'guitar', b'mallet', b'bass', b'bass', b'keyboard', b'guitar', b'organ', b'guitar', b'mallet', b'bass', b'guitar', b'guitar', b'keyboard', b'string', b'brass', b'bass', b'bass', b'organ', b'organ', b'string', b'guitar', b'mallet', b'guitar', b'keyboard', b'flute', b'bass', b'keyboard', b'bass', b'guitar', b'guitar', b'keyboard', b'guitar', b'organ', b'guitar', b'bass', b'string', b'bass', b'guitar', b'brass', b'bass', b'bass', b'brass', b'organ', b'string', b'mallet', b'reed', b'guitar', b'flute', b'brass', b'vocal', b'bass', b'keyboard', b'mallet', b'bass', b'string', b'guitar', b'keyboard', b'guitar', b'mallet', b'keyboard', b'guitar', b'bass', b'vocal', b'organ', b'keyboard', b'brass', b'bass', b'brass', b'bass', b'guitar', b'organ', b'reed', b'reed', b'guitar', b'bass', b'string', b'brass', b'flute', b'organ', b'guitar', b'guitar', b'keyboard', b'guitar', b'string', b'organ', b'keyboard', b'keyboard', b'bass', b'bass', b'organ', b'bass', b'guitar', b'keyboard', b'guitar', b'flute', b'vocal', b'guitar', b'brass', b'bass', b'guitar', b'keyboard', b'flute', b'organ', b'mallet', b'keyboard', b'guitar', b'brass', b'mallet', b'bass', b'guitar', b'keyboard', b'brass', b'vocal', b'organ', b'keyboard', b'bass', b'reed', b'organ', b'organ', b'reed', b'reed', b'bass', b'organ', b'brass', b'keyboard', b'mallet', b'bass', b'mallet', b'keyboard', b'keyboard', b'keyboard', b'bass', b'keyboard', b'bass', b'string', b'guitar', b'keyboard', b'bass', b'guitar', b'guitar', b'keyboard', b'bass', b'flute', b'mallet', b'keyboard', b'brass', b'guitar', b'keyboard', b'flute', b'organ', b'string', b'mallet', b'keyboard', b'reed', b'keyboard', b'organ', b'organ', b'organ', b'string', b'bass', b'organ', b'keyboard', b'guitar', b'keyboard', b'mallet', b'string', b'mallet', b'guitar', b'flute', b'guitar', b'reed', b'mallet', b'guitar', b'guitar', b'bass', b'vocal', b'keyboard', b'keyboard', b'vocal', b'brass', b'flute', b'keyboard', b'mallet', b'reed', b'mallet', b'guitar', b'bass', b'keyboard', b'reed', b'organ', b'keyboard', b'organ', b'organ', b'keyboard', b'bass', b'mallet', b'bass', b'organ', b'organ', b'bass', b'bass', b'keyboard', b'bass', b'bass', b'flute', b'guitar', b'guitar', b'organ', b'mallet', b'reed', b'brass', b'keyboard', b'keyboard', b'guitar', b'reed', b'guitar', b'keyboard', b'guitar', b'bass', b'guitar', b'guitar', b'brass', b'flute', b'bass', b'string', b'keyboard', b'vocal', b'mallet', b'vocal', b'guitar', b'guitar', b'mallet', b'bass', b'organ', b'bass', b'string', b'keyboard', b'bass', b'brass', b'keyboard', b'keyboard', b'guitar', b'keyboard', b'reed', b'flute', b'keyboard', b'bass', b'bass', b'brass', b'flute', b'bass', b'string', b'bass', b'guitar', b'organ', b'organ', b'string', b'guitar', b'guitar', b'guitar', b'brass', b'guitar', b'keyboard', b'string', b'bass', b'guitar', b'bass', b'reed', b'bass', b'brass', b'brass', b'keyboard', b'reed', b'bass', b'keyboard', b'flute', b'bass', b'organ', b'organ', b'bass', b'keyboard', b'organ', b'reed', b'bass', b'mallet', b'brass', b'vocal', b'organ', b'organ', b'brass', b'organ', b'brass', b'string', b'bass', b'bass', b'keyboard', b'keyboard', b'brass', b'guitar', b'guitar', b'keyboard', b'keyboard', b'guitar', b'bass', b'organ', b'vocal', b'mallet', b'keyboard', b'guitar', b'brass', b'bass', b'guitar', b'bass', b'guitar', b'bass', b'organ', b'keyboard', b'brass', b'guitar', b'bass', b'guitar', b'guitar', b'guitar', b'brass', b'keyboard', b'keyboard', b'keyboard', b'reed', b'keyboard', b'guitar', b'mallet', b'keyboard', b'string', b'string', b'bass', b'guitar', b'bass', b'mallet', b'vocal', b'organ', b'bass', b'organ', b'organ', b'guitar', b'string', b'organ', b'bass', b'bass', b'keyboard', b'bass', b'brass', b'vocal', b'guitar', b'bass', b'keyboard', b'flute', b'guitar', b'string', b'flute', b'string', b'bass', b'keyboard', b'keyboard', b'flute', b'mallet', b'bass', b'guitar', b'brass', b'guitar', b'guitar', b'bass', b'guitar', b'bass', b'bass', b'flute', b'guitar', b'vocal', b'mallet', b'flute', b'bass', b'guitar', b'vocal', b'keyboard', b'guitar', b'guitar', b'organ', b'guitar', b'guitar', b'reed', b'organ', b'bass', b'keyboard', b'bass', b'keyboard', b'keyboard', b'vocal', b'brass', b'mallet', b'bass', b'keyboard', b'keyboard', b'mallet', b'brass', b'brass', b'flute', b'keyboard', b'organ', b'keyboard', b'keyboard', b'keyboard', b'keyboard', b'organ', b'reed', b'bass', b'organ', b'guitar', b'flute', b'keyboard', b'flute', b'flute', b'bass', b'vocal', b'bass', b'guitar', b'bass', b'keyboard', b'guitar', b'organ', b'bass', b'reed', b'guitar', b'keyboard', b'organ', b'organ', b'mallet', b'guitar', b'keyboard', b'reed', b'reed', b'bass', b'guitar', b'organ', b'string', b'guitar', b'reed', b'guitar', b'string', b'keyboard', b'guitar', b'guitar', b'bass', b'bass', b'organ', b'mallet', b'guitar', b'keyboard', b'guitar', b'brass', b'organ', b'mallet', b'bass', b'vocal', b'organ', b'bass', b'keyboard', b'guitar', b'bass', b'bass', b'vocal', b'brass', b'keyboard', b'string', b'organ', b'organ', b'reed', b'brass', b'string', b'vocal', b'guitar', b'bass', b'flute', b'keyboard', b'bass', b'keyboard', b'brass', b'guitar', b'guitar', b'keyboard', b'reed', b'bass', b'brass', b'keyboard', b'reed', b'keyboard', b'reed', b'flute', b'bass', b'bass', b'bass', b'mallet', b'keyboard', b'bass', b'guitar', b'brass', b'guitar', b'bass', b'bass', b'organ', b'string', b'organ', b'organ', b'bass', b'brass', b'organ', b'bass', b'organ', b'guitar', b'guitar', b'reed', b'guitar', b'guitar', b'keyboard', b'flute', b'vocal', b'reed', b'keyboard', b'mallet', b'organ', b'brass', b'brass', b'guitar', b'brass', b'flute', b'bass', b'keyboard', b'keyboard', b'guitar', b'keyboard', b'guitar', b'guitar', b'brass', b'bass', b'organ', b'vocal', b'mallet', b'string', b'bass', b'flute', b'string', b'organ', b'bass', b'vocal', b'bass', b'organ', b'bass', b'keyboard', b'organ', b'brass', b'bass', b'flute', b'flute', b'string', b'guitar', b'flute', b'bass', b'organ', b'guitar', b'guitar', b'keyboard', b'keyboard', b'keyboard', b'keyboard', b'keyboard', b'keyboard', b'organ', b'keyboard', b'brass', b'reed', b'bass', b'vocal', b'string', b'keyboard', b'vocal', b'bass', b'keyboard', b'guitar', b'bass', b'mallet', b'keyboard', b'organ', b'bass', b'reed', b'bass', b'brass', b'string', b'organ', b'keyboard', b'vocal', b'bass', b'reed', b'brass', b'bass', b'guitar', b'guitar', b'string', b'guitar', b'bass', b'reed', b'guitar', b'brass', b'mallet', b'vocal', b'guitar', b'bass', b'keyboard', b'bass', b'reed', b'bass', b'organ', b'bass', b'organ', b'organ', b'organ', b'organ', b'reed', b'reed', b'keyboard', b'brass', b'reed', b'keyboard', b'reed', b'string', b'guitar', b'organ', b'organ', b'bass', b'guitar', b'keyboard', b'guitar', b'keyboard', b'bass', b'flute', b'vocal', b'bass', b'organ', b'flute', b'bass', b'bass', b'string', b'organ', b'keyboard', b'guitar', b'string', b'string', b'brass', b'guitar', b'organ', b'flute', b'organ', b'bass', b'string', b'bass', b'guitar', b'brass', b'keyboard', b'bass', b'guitar', b'string', b'bass', b'keyboard', b'string', b'keyboard', b'mallet', b'bass', b'keyboard', b'bass', b'bass', b'reed', b'guitar', b'organ', b'string', b'keyboard', b'keyboard', b'organ', b'mallet', b'bass', b'string', b'bass', b'bass', b'vocal', b'string', b'bass', b'brass', b'keyboard', b'mallet', b'reed', b'bass', b'organ', b'guitar', b'bass', b'organ', b'guitar', b'mallet', b'bass', b'bass', b'bass', b'bass', b'guitar', b'keyboard', b'keyboard', b'keyboard', b'bass', b'brass', b'organ', b'keyboard', b'guitar', b'mallet', b'keyboard', b'brass', b'bass', b'flute', b'bass', b'guitar', b'string', b'keyboard', b'keyboard', b'keyboard', b'keyboard', b'keyboard', b'bass', b'mallet', b'keyboard', b'mallet', b'guitar', b'organ', b'keyboard', b'guitar', b'guitar', b'bass', b'bass', b'keyboard', b'organ', b'guitar', b'keyboard', b'keyboard', b'guitar', b'brass', b'guitar', b'keyboard', b'bass', b'reed', b'guitar', b'bass', b'organ', b'organ', b'keyboard', b'keyboard', b'bass', b'organ', b'organ', b'flute', b'organ', b'guitar', b'guitar', b'bass', b'reed', b'reed', b'organ', b'string', b'organ', b'vocal', b'reed', b'mallet', b'organ', b'flute', b'bass', b'guitar', b'organ', b'brass', b'keyboard', b'organ', b'string', b'vocal', b'keyboard', b'bass', b'organ', b'keyboard', b'organ', b'brass', b'bass', b'flute', b'string', b'guitar', b'guitar', b'flute', b'reed', b'mallet', b'organ', b'keyboard', b'bass', b'bass', b'keyboard', b'string', b'guitar', b'guitar', b'organ', b'brass', b'keyboard', b'guitar', b'flute', b'flute', b'keyboard', b'mallet', b'guitar', b'vocal', b'guitar', b'bass', b'guitar', b'reed', b'brass', b'string', b'flute', b'keyboard', b'organ', b'keyboard', b'bass', b'vocal', b'guitar', b'guitar', b'organ', b'string', b'keyboard', b'brass', b'brass', b'organ', b'guitar', b'reed', b'bass', b'keyboard', b'reed', b'reed', b'bass', b'keyboard', b'mallet', b'brass', b'keyboard', b'guitar', b'flute', b'flute', b'bass', b'keyboard', b'reed', b'brass', b'organ', b'bass', b'keyboard', b'guitar', b'guitar', b'brass', b'keyboard', b'organ', b'bass', b'bass', b'organ', b'guitar', b'flute', b'keyboard', b'vocal', b'string', b'keyboard', b'vocal', b'bass', b'guitar', b'flute', b'reed', b'string', b'bass', b'bass', b'bass', b'keyboard', b'string', b'mallet', b'reed', b'guitar', b'flute', b'reed', b'keyboard', b'mallet', b'bass', b'bass', b'mallet', b'bass', b'keyboard', b'keyboard', b'bass', b'bass', b'bass', b'bass', b'reed', b'bass', b'guitar', b'organ', b'keyboard', b'mallet', b'keyboard', b'guitar', b'organ', b'brass', b'flute', b'keyboard', b'organ', b'keyboard', b'organ', b'bass', b'bass', b'mallet', b'vocal', b'bass', b'reed', b'brass', b'organ', b'flute', b'guitar', b'keyboard', b'guitar', b'organ', b'organ', b'brass', b'reed', b'reed', b'keyboard', b'bass', b'bass', b'mallet', b'reed', b'guitar', b'mallet', b'bass', b'organ', b'string', b'organ', b'keyboard', b'vocal', b'guitar', b'mallet', b'vocal', b'brass', b'bass', b'organ', b'organ', b'bass', b'guitar', b'string', b'bass', b'flute', b'string', b'bass', b'organ', b'guitar', b'bass', b'keyboard', b'keyboard', b'brass', b'organ', b'guitar', b'bass', b'organ', b'bass', b'brass', b'reed', b'bass', b'mallet', b'organ', b'brass', b'organ', b'mallet', b'brass', b'keyboard', b'keyboard', b'keyboard', b'bass', b'bass', b'bass', b'guitar', b'bass', b'bass', b'organ', b'keyboard', b'keyboard', b'guitar', b'bass', b'keyboard', b'guitar', b'guitar', b'reed', b'bass', b'guitar', b'organ', b'keyboard', b'reed', b'bass', b'keyboard', b'flute', b'organ', b'brass', b'guitar', b'keyboard', b'brass', b'keyboard', b'brass', b'organ', b'organ', b'string', b'reed', b'bass', b'keyboard', b'organ', b'keyboard', b'flute', b'bass', b'organ', b'guitar', b'keyboard', b'string', b'bass', b'bass', b'guitar', b'guitar', b'bass', b'bass', b'organ', b'string', b'reed', b'string', b'bass', b'flute', b'organ', b'bass', b'keyboard', b'string', b'organ', b'flute', b'bass', b'keyboard', b'keyboard', b'vocal', b'bass', b'organ', b'organ', b'keyboard', b'brass', b'bass', b'string', b'organ', b'bass', b'keyboard', b'mallet', b'keyboard', b'organ', b'brass', b'vocal', b'guitar', b'guitar', b'organ', b'keyboard', b'keyboard', b'keyboard', b'bass', b'keyboard', b'string', b'keyboard', b'bass', b'string', b'guitar', b'bass', b'mallet', b'guitar', b'keyboard', b'organ', b'bass', b'keyboard', b'string', b'keyboard', b'organ', b'bass', b'string', b'organ', b'keyboard', b'brass', b'reed', b'guitar', b'bass', b'brass', b'reed', b'bass', b'organ', b'organ', b'brass', b'organ', b'bass', b'bass', b'organ', b'reed', b'guitar', b'guitar', b'bass', b'guitar', b'brass', b'mallet', b'organ', b'keyboard', b'keyboard', b'bass', b'string', b'guitar', b'organ', b'keyboard', b'bass', b'guitar', b'keyboard', b'mallet', b'bass', b'organ', b'bass', b'bass', b'reed', b'keyboard', b'keyboard', b'vocal', b'bass', b'organ', b'keyboard', b'keyboard', b'bass', b'guitar', b'organ', b'keyboard', b'keyboard', b'reed', b'flute', b'organ', b'bass', b'guitar', b'string', b'guitar', b'brass', b'organ', b'mallet', b'string', b'guitar', b'organ', b'bass', b'reed', b'brass', b'mallet', b'vocal', b'keyboard', b'vocal', b'bass', b'brass', b'brass', b'keyboard', b'brass', b'bass', b'guitar', b'organ', b'guitar', b'organ', b'bass', b'organ', b'organ', b'guitar', b'vocal', b'organ', b'vocal', b'keyboard', b'bass', b'guitar', b'bass', b'mallet', b'bass', b'keyboard', b'organ', b'bass', b'organ', b'bass', b'keyboard', b'keyboard', b'mallet', b'guitar', b'guitar', b'keyboard', b'bass', b'flute', b'brass', b'bass', b'vocal', b'organ', b'organ', b'organ', b'flute', b'bass', b'reed', b'bass', b'organ', b'guitar', b'string', b'brass', b'guitar', b'string', b'guitar', b'keyboard', b'guitar', b'bass', b'guitar', b'organ', b'bass', b'bass', b'vocal', b'bass', b'brass', b'keyboard', b'guitar', b'organ', b'guitar', b'bass', b'keyboard', b'bass', b'organ', b'bass', b'flute', b'string', b'flute', b'bass', b'flute', b'bass', b'guitar', b'bass', b'flute', b'bass', b'organ', b'organ', b'guitar', b'bass', b'bass', b'bass', b'organ', b'organ', b'mallet', b'guitar', b'reed', b'organ', b'bass', b'guitar', b'bass', b'brass', b'string', b'organ', b'brass', b'guitar', b'organ', b'bass', b'organ', b'brass', b'guitar', b'bass', b'reed', b'keyboard', b'bass', b'mallet', b'keyboard', b'organ', b'guitar', b'bass', b'bass', b'organ', b'organ', b'bass', b'keyboard', b'guitar', b'organ', b'bass', b'reed', b'brass', b'keyboard', b'organ', b'bass', b'organ', b'brass', b'keyboard', b'keyboard', b'keyboard', b'string', b'organ', b'organ', b'string', b'guitar', b'bass', b'string', b'mallet', b'keyboard', b'keyboard', b'keyboard', b'organ', b'vocal', b'brass', b'guitar', b'bass', b'brass', b'string', b'bass', b'keyboard', b'guitar', b'guitar', b'keyboard', b'guitar', b'keyboard', b'vocal', b'keyboard', b'mallet', b'flute', b'brass', b'keyboard', b'bass', b'bass', b'guitar', b'string', b'organ', b'keyboard', b'reed', b'bass', b'keyboard', b'flute', b'string', b'bass', b'keyboard', b'guitar', b'organ', b'organ', b'keyboard', b'organ', b'organ', b'bass', b'guitar', b'guitar', b'reed', b'guitar', b'bass', b'string', b'mallet', b'bass', b'organ', b'keyboard', b'organ', b'organ', b'brass', b'bass', b'reed', b'vocal', b'reed', b'guitar', b'bass', b'flute', b'bass', b'keyboard', b'keyboard', b'bass', b'brass', b'brass', b'flute', b'bass', b'bass', b'bass', b'guitar', b'guitar', b'bass', b'keyboard', b'keyboard', b'string', b'guitar', b'guitar', b'bass', b'bass', b'mallet', b'keyboard', b'keyboard', b'keyboard', b'keyboard', b'keyboard', b'bass', b'keyboard', b'bass', b'flute', b'string', b'organ', b'organ', b'keyboard', b'bass', b'guitar', b'organ', b'brass', b'organ', b'bass', b'keyboard', b'brass', b'organ', b'reed', b'reed', b'string', b'keyboard', b'keyboard', b'guitar', b'keyboard', b'flute', b'bass', b'keyboard', b'brass', b'bass', b'keyboard', b'keyboard', b'string', b'guitar', b'keyboard', b'guitar', b'bass', b'reed', b'brass', b'bass', b'bass', b'reed', b'bass', b'bass', b'organ', b'keyboard', b'vocal', b'guitar', b'bass', b'string', b'keyboard', b'bass', b'keyboard', b'keyboard', b'flute', b'bass', b'bass', b'bass', b'organ', b'keyboard', b'brass', b'brass', b'string', b'string', b'brass', b'guitar', b'keyboard', b'bass', b'bass', b'mallet', b'keyboard', b'keyboard', b'organ', b'keyboard', b'organ', b'organ', b'vocal', b'keyboard', b'guitar', b'brass', b'vocal', b'organ', b'reed', b'organ', b'guitar', b'keyboard', b'keyboard', b'mallet', b'bass', b'bass', b'guitar', b'guitar', b'guitar', b'organ', b'bass', b'keyboard', b'guitar', b'bass', b'bass', b'keyboard', b'keyboard', b'guitar', b'organ', b'reed', b'keyboard', b'keyboard', b'keyboard', b'guitar', b'mallet', b'bass', b'reed', b'keyboard', b'guitar', b'string', b'guitar', b'keyboard', b'keyboard', b'keyboard', b'reed', b'organ', b'string', b'bass', b'mallet', b'string', b'bass', b'guitar', b'string', b'string', b'mallet', b'guitar', b'brass', b'bass', b'bass', b'vocal', b'keyboard', b'keyboard', b'keyboard', b'string', b'keyboard', b'guitar', b'guitar', b'flute', b'bass', b'keyboard', b'keyboard', b'guitar', b'string', b'keyboard', b'flute', b'bass', b'guitar', b'flute', b'guitar', b'bass', b'keyboard', b'keyboard', b'vocal', b'flute', b'organ', b'vocal', b'guitar', b'keyboard', b'keyboard', b'keyboard', b'bass', b'organ', b'keyboard', b'keyboard', b'keyboard', b'bass', b'flute', b'mallet', b'keyboard', b'vocal', b'bass', b'keyboard', b'organ', b'bass', b'string', b'string', b'organ', b'string', b'keyboard', b'string', b'mallet', b'guitar', b'keyboard', b'guitar', b'bass', b'guitar', b'bass', b'bass', b'bass', b'bass', b'brass', b'keyboard', b'bass', b'guitar', b'keyboard', b'mallet', b'keyboard', b'string', b'mallet', b'bass', b'string', b'keyboard', b'organ', b'keyboard', b'keyboard', b'reed', b'organ', b'organ', b'organ', b'bass', b'mallet', b'string', b'bass', b'bass', b'guitar', b'bass', b'keyboard', b'mallet', b'keyboard', b'keyboard', b'brass', b'keyboard', b'bass', b'bass', b'brass', b'bass', b'guitar', b'keyboard', b'bass', b'guitar', b'guitar', b'keyboard', b'organ', b'organ', b'bass', b'guitar', b'string', b'string', b'vocal', b'bass', b'bass', b'keyboard', b'reed', b'bass', b'keyboard', b'brass', b'guitar', b'guitar', b'guitar', b'reed', b'keyboard', b'reed', b'organ', b'bass', b'bass', b'guitar', b'flute', b'bass', b'guitar', b'reed', b'mallet', b'guitar', b'string', b'brass', b'guitar', b'vocal', b'guitar', b'guitar', b'keyboard', b'guitar', b'bass', b'organ', b'guitar', b'keyboard', b'guitar', b'keyboard', b'flute', b'organ', b'keyboard', b'flute', b'keyboard', b'guitar', b'keyboard', b'bass', b'organ', b'guitar', b'flute', b'organ', b'bass', b'reed', b'guitar', b'organ', b'string', b'bass', b'bass', b'keyboard', b'reed', b'keyboard', b'organ', b'bass', b'string', b'keyboard', b'reed', b'guitar', b'keyboard', b'keyboard', b'bass', b'organ', b'organ', b'organ', b'organ', b'guitar', b'guitar', b'brass', b'guitar', b'organ', b'mallet', b'bass', b'keyboard', b'bass', b'organ', b'guitar', b'string', b'guitar', b'vocal', b'string', b'guitar', b'organ', b'organ', b'keyboard', b'keyboard', b'flute', b'guitar', b'keyboard', b'keyboard', b'organ', b'keyboard', b'bass', b'guitar', b'vocal', b'brass', b'bass', b'brass', b'guitar', b'bass', b'bass', b'guitar', b'keyboard', b'flute', b'bass', b'mallet', b'keyboard', b'brass', b'organ', b'reed', b'brass', b'guitar', b'keyboard', b'bass', b'reed', b'keyboard', b'bass', b'reed', b'keyboard', b'bass', b'string', b'string', b'reed', b'guitar', b'keyboard', b'organ', b'guitar', b'brass', b'bass', b'bass', b'organ', b'brass', b'keyboard', b'bass', b'guitar', b'bass', b'keyboard', b'vocal', b'flute', b'string', b'string', b'guitar', b'keyboard', b'keyboard', b'guitar', b'keyboard', b'keyboard', b'bass', b'reed', b'mallet', b'reed', b'keyboard', b'bass', b'string', b'keyboard', b'brass', b'organ', b'brass', b'guitar', b'guitar', b'mallet', b'keyboard', b'bass', b'reed', b'guitar', b'keyboard', b'bass', b'guitar', b'keyboard', b'organ', b'string', b'guitar', b'reed', b'guitar', b'organ', b'organ', b'guitar', b'guitar', b'guitar', b'bass', b'bass', b'guitar', b'bass', b'bass', b'reed', b'mallet', b'guitar', b'string', b'keyboard', b'bass', b'guitar', b'keyboard', b'string', b'guitar', b'guitar', b'bass', b'flute', b'bass', b'mallet', b'brass', b'bass', b'keyboard', b'string', b'bass', b'bass', b'keyboard', b'organ', b'organ', b'guitar', b'vocal', b'brass', b'brass', b'mallet', b'keyboard', b'guitar', b'organ', b'keyboard', b'bass', b'string', b'organ', b'mallet', b'keyboard', b'bass', b'keyboard', b'bass', b'organ', b'mallet', b'bass', b'brass', b'brass', b'brass', b'bass', b'guitar', b'vocal', b'guitar', b'reed', b'organ', b'keyboard', b'bass', b'guitar', b'bass', b'keyboard', b'organ', b'vocal', b'reed', b'bass', b'string', b'organ', b'bass', b'mallet', b'bass', b'guitar', b'keyboard', b'keyboard', b'brass', b'mallet', b'guitar', b'bass', b'mallet', b'brass', b'keyboard', b'bass', b'bass', b'brass', b'keyboard', b'guitar', b'string', b'keyboard', b'guitar', b'vocal', b'vocal', b'string', b'brass', b'string', b'guitar', b'guitar', b'flute', b'keyboard', b'keyboard', b'mallet', b'organ', b'bass', b'brass', b'keyboard', b'organ', b'guitar', b'mallet', b'vocal', b'keyboard', b'bass', b'bass', b'keyboard', b'bass', b'guitar', b'keyboard', b'reed', b'vocal', b'organ', b'organ', b'keyboard', b'guitar', b'bass', b'bass', b'mallet', b'keyboard', b'keyboard', b'bass', b'bass', b'keyboard', b'brass', b'organ', b'bass', b'reed', b'reed', b'keyboard', b'bass', b'keyboard', b'brass', b'guitar', b'keyboard', b'mallet', b'bass', b'bass', b'bass', b'guitar', b'bass', b'guitar', b'flute', b'brass', b'guitar', b'guitar', b'keyboard', b'bass', b'bass', b'organ', b'keyboard', b'guitar', b'guitar', b'bass', b'brass', b'guitar', b'bass', b'bass', b'keyboard', b'organ', b'bass', b'brass', b'bass', b'guitar', b'brass', b'mallet', b'bass', b'bass', b'bass', b'guitar', b'bass', b'bass', b'string', b'bass', b'bass', b'keyboard', b'bass', b'keyboard', b'vocal', b'keyboard', b'keyboard', b'brass', b'guitar', b'bass', b'string', b'bass', b'keyboard', b'bass', b'string', b'mallet', b'guitar', b'bass', b'reed', b'keyboard', b'guitar', b'bass', b'bass', b'organ', b'bass', b'reed', b'brass', b'keyboard', b'string', b'keyboard', b'keyboard', b'mallet', b'organ', b'organ', b'organ', b'guitar', b'keyboard', b'string', b'brass', b'bass', b'mallet', b'keyboard', b'flute', b'keyboard', b'guitar', b'bass', b'organ', b'guitar', b'bass', b'keyboard', b'guitar', b'vocal', b'string', b'reed', b'keyboard', b'organ', b'bass', b'bass', b'string', b'bass', b'mallet', b'organ', b'guitar', b'keyboard', b'bass', b'keyboard', b'keyboard', b'guitar', b'guitar', b'brass', b'keyboard', b'brass', b'guitar', b'keyboard', b'keyboard', b'organ', b'guitar', b'mallet', b'keyboard', b'keyboard', b'guitar', b'bass', b'organ', b'reed', b'keyboard', b'reed', b'organ', b'bass', b'keyboard', b'string', b'vocal', b'bass', b'organ', b'guitar', b'organ', b'guitar', b'organ', b'keyboard', b'keyboard', b'keyboard', b'guitar', b'keyboard', b'mallet', b'keyboard', b'bass', b'vocal', b'keyboard', b'organ', b'bass', b'guitar', b'keyboard', b'bass', b'bass', b'guitar', b'guitar', b'brass', b'bass', b'flute', b'keyboard', b'keyboard', b'reed', b'brass', b'bass', b'keyboard', b'keyboard', b'keyboard', b'brass', b'brass', b'bass', b'organ', b'keyboard', b'keyboard', b'guitar', b'vocal', b'bass', b'flute', b'organ', b'organ', b'organ', b'bass', b'string', b'keyboard', b'guitar', b'bass', b'keyboard', b'bass', b'bass', b'string', b'mallet', b'keyboard', b'bass', b'flute', b'keyboard', b'organ', b'brass', b'keyboard', b'guitar', b'bass', b'bass', b'guitar', b'guitar', b'guitar', b'keyboard', b'guitar', b'string', b'reed', b'organ', b'string', b'keyboard', b'brass', b'guitar', b'mallet', b'keyboard', b'bass', b'organ', b'organ', b'mallet', b'guitar', b'flute', b'bass', b'brass', b'string', b'organ', b'string', b'brass', b'bass', b'keyboard', b'keyboard', b'mallet', b'brass', b'string', b'bass', b'bass', b'keyboard', b'keyboard', b'reed', b'organ', b'bass', b'organ', b'reed', b'mallet', b'bass', b'keyboard', b'organ', b'bass', b'organ', b'organ', b'bass', b'guitar', b'brass', b'guitar', b'guitar', b'organ', b'vocal', b'reed', b'keyboard', b'keyboard', b'bass', b'organ', b'reed', b'bass', b'guitar', b'bass', b'mallet', b'organ', b'keyboard', b'bass', b'brass', b'bass', b'organ', b'keyboard', b'bass', b'keyboard', b'string', b'bass', b'bass', b'bass', b'organ', b'bass', b'brass', b'string', b'brass', b'guitar', b'organ', b'flute', b'string', b'organ', b'keyboard', b'organ', b'guitar', b'bass', b'brass', b'guitar', b'flute', b'bass', b'keyboard', b'vocal', b'guitar', b'reed', b'brass', b'keyboard', b'guitar', b'bass', b'bass', b'keyboard', b'guitar', b'bass', b'keyboard', b'keyboard', b'mallet', b'guitar', b'bass', b'guitar', b'organ', b'bass', b'organ', b'reed', b'bass', b'guitar', b'guitar', b'reed', b'organ', b'keyboard', b'reed', b'organ', b'organ', b'keyboard', b'bass', b'brass', b'flute', b'vocal', b'reed', b'keyboard', b'organ', b'flute', b'keyboard', b'vocal', b'guitar', b'keyboard', b'guitar', b'reed', b'keyboard', b'mallet', b'bass', b'organ', b'string', b'brass', b'bass', b'bass', b'flute', b'organ', b'organ', b'keyboard', b'organ', b'string', b'string', b'vocal', b'bass', b'string', b'keyboard', b'guitar', b'guitar', b'guitar', b'string', b'flute', b'bass', b'flute', b'guitar', b'guitar', b'string', b'brass', b'guitar', b'vocal', b'guitar', b'organ', b'vocal', b'organ', b'keyboard', b'guitar', b'reed', b'keyboard', b'reed', b'guitar', b'organ', b'organ', b'string', b'organ', b'organ', b'guitar', b'bass', b'keyboard', b'vocal', b'organ', b'bass', b'guitar', b'bass', b'mallet', b'bass', b'keyboard', b'organ', b'bass', b'mallet', b'keyboard', b'bass', b'brass', b'guitar', b'organ', b'bass', b'guitar', b'reed', b'guitar', b'keyboard', b'guitar', b'bass', b'reed', b'keyboard', b'mallet', b'guitar', b'flute', b'bass', b'guitar', b'guitar', b'bass', b'bass', b'string', b'string', b'flute', b'bass', b'organ', b'organ', b'mallet', b'string', b'guitar', b'organ', b'brass', b'brass', b'organ', b'guitar', b'vocal', b'flute', b'organ', b'keyboard', b'guitar', b'bass', b'keyboard', b'organ', b'keyboard', b'guitar', b'guitar', b'bass', b'mallet', b'guitar', b'flute', b'organ', b'organ', b'bass', b'guitar', b'organ', b'reed', b'guitar', b'brass', b'organ', b'bass', b'reed', b'brass', b'organ', b'vocal', b'guitar', b'reed', b'string', b'string', b'vocal', b'bass', b'guitar', b'organ', b'keyboard', b'bass', b'flute', b'vocal', b'bass', b'bass', b'guitar', b'guitar', b'mallet', b'bass', b'reed', b'reed', b'bass', b'organ', b'keyboard', b'keyboard', b'organ', b'guitar', b'brass', b'string', b'keyboard', b'bass', b'bass', b'keyboard', b'keyboard', b'guitar', b'organ', b'keyboard', b'bass', b'keyboard', b'bass', b'keyboard', b'mallet', b'keyboard', b'guitar', b'organ', b'organ', b'bass', b'bass', b'keyboard', b'brass', b'flute', b'guitar', b'brass', b'guitar', b'bass', b'bass', b'organ', b'brass', b'organ', b'guitar', b'string', b'guitar', b'mallet', b'mallet', b'bass', b'bass', b'organ', b'mallet', b'mallet', b'keyboard', b'keyboard', b'mallet', b'bass', b'organ', b'string', b'keyboard', b'brass', b'bass', b'reed', b'bass', b'keyboard', b'mallet', b'organ', b'keyboard', b'keyboard', b'bass', b'organ', b'keyboard', b'string', b'mallet', b'keyboard', b'string', b'reed', b'string', b'guitar', b'bass', b'organ', b'bass', b'bass', b'bass', b'reed', b'keyboard', b'guitar', b'bass', b'vocal', b'keyboard', b'guitar', b'keyboard', b'brass', b'bass', b'string', b'vocal', b'bass', b'bass', b'bass', b'bass', b'bass', b'guitar', b'organ', b'bass', b'mallet', b'guitar', b'keyboard', b'bass', b'bass', b'brass', b'keyboard', b'keyboard', b'keyboard', b'keyboard', b'guitar', b'guitar', b'keyboard', b'brass', b'brass', b'guitar', b'keyboard', b'bass', b'bass', b'organ', b'keyboard', b'guitar', b'brass', b'organ', b'guitar', b'keyboard', b'keyboard', b'bass', b'bass', b'string', b'mallet', b'guitar', b'keyboard', b'bass', b'bass', b'keyboard', b'keyboard', b'guitar', b'organ', b'bass', b'keyboard', b'guitar', b'keyboard', b'guitar', b'guitar', b'reed', b'bass', b'bass', b'brass', b'brass', b'guitar', b'brass', b'organ', b'organ', b'guitar', b'bass', b'keyboard', b'organ', b'organ', b'brass', b'string', b'mallet', b'keyboard', b'guitar', b'string', b'string', b'keyboard', b'organ', b'keyboard', b'bass', b'organ', b'guitar', b'flute', b'keyboard', b'guitar', b'bass', b'organ', b'keyboard', b'bass', b'organ', b'keyboard', b'keyboard', b'bass', b'mallet', b'keyboard', b'vocal', b'organ', b'bass', b'flute', b'string', b'reed', b'bass', b'string', b'guitar', b'flute', b'keyboard', b'keyboard', b'flute', b'bass', b'string', b'bass', b'organ', b'brass', b'keyboard', b'guitar', b'organ', b'mallet', b'guitar', b'bass', b'organ', b'guitar', b'bass', b'bass', b'bass', b'brass', b'organ', b'bass', b'keyboard', b'reed', b'organ', b'guitar', b'bass', b'string', b'keyboard', b'guitar', b'guitar', b'brass', b'guitar', b'guitar', b'bass', b'bass', b'organ', b'reed', b'vocal', b'guitar', b'guitar', b'string', b'bass', b'brass', b'bass', b'flute', b'bass', b'keyboard', b'reed', b'keyboard', b'organ', b'bass', b'string', b'mallet', b'keyboard', b'organ', b'keyboard', b'organ', b'string', b'keyboard', b'string', b'keyboard', b'guitar', b'keyboard', b'organ', b'organ', b'bass', b'bass', b'organ', b'brass', b'mallet', b'guitar', b'brass', b'guitar', b'keyboard', b'reed', b'guitar', b'organ', b'brass', b'guitar', b'reed', b'keyboard', b'organ', b'guitar', b'reed', b'organ', b'flute', b'organ', b'guitar', b'keyboard', b'bass', b'organ', b'string', b'keyboard', b'keyboard', b'guitar', b'bass', b'keyboard', b'bass', b'guitar', b'flute', b'organ', b'string', b'guitar', b'bass', b'guitar', b'bass', b'guitar', b'string', b'bass', b'keyboard', b'guitar', b'keyboard', b'string', b'brass', b'guitar', b'guitar', b'organ', b'bass', b'keyboard', b'guitar', b'guitar', b'flute', b'organ', b'organ', b'guitar', b'bass', b'organ', b'guitar', b'reed', b'bass', b'guitar', b'brass', b'keyboard', b'bass', b'keyboard', b'guitar', b'mallet', b'guitar', b'keyboard', b'flute', b'flute', b'brass', b'bass', b'vocal', b'keyboard', b'guitar', b'organ', b'reed', b'organ', b'keyboard', b'bass', b'brass', b'guitar', b'bass', b'organ', b'bass', b'string', b'flute', b'guitar', b'string', b'bass', b'organ', b'guitar', b'keyboard', b'mallet', b'mallet', b'keyboard', b'keyboard', b'bass', b'keyboard', b'guitar', b'guitar', b'organ', b'string', b'bass', b'keyboard', b'brass', b'guitar', b'bass', b'organ', b'guitar', b'bass', b'reed', b'keyboard', b'guitar', b'keyboard', b'bass', b'brass', b'bass', b'vocal', b'keyboard', b'organ', b'mallet', b'keyboard', b'bass', b'reed', b'keyboard', b'mallet', b'organ', b'bass', b'organ', b'string', b'keyboard', b'keyboard', b'organ', b'mallet', b'organ', b'brass', b'keyboard', b'bass', b'keyboard', b'keyboard', b'bass', b'guitar', b'guitar', b'organ', b'string', b'organ', b'guitar', b'keyboard', b'flute', b'organ', b'bass', b'bass', b'keyboard', b'organ', b'organ', b'flute', b'bass', b'vocal', b'keyboard', b'organ', b'keyboard', b'string', b'brass', b'bass', b'reed', b'guitar', b'string', b'bass', b'mallet', b'guitar', b'keyboard', b'organ', b'bass', b'keyboard', b'bass', b'bass', b'flute', b'keyboard', b'vocal', b'flute', b'mallet', b'flute', b'mallet', b'bass', b'keyboard', b'reed', b'guitar', b'bass', b'bass', b'guitar', b'keyboard', b'bass', b'reed', b'keyboard', b'reed', b'reed', b'brass', b'guitar', b'brass', b'guitar', b'keyboard', b'brass', b'guitar', b'guitar', b'brass', b'brass', b'string', b'string', b'organ', b'keyboard', b'reed', b'vocal', b'organ', b'guitar', b'guitar', b'keyboard', b'guitar', b'vocal', b'organ', b'bass', b'flute', b'organ', b'bass', b'bass', b'guitar', b'keyboard', b'keyboard', b'guitar', b'bass', b'keyboard', b'bass', b'reed', b'guitar', b'keyboard', b'bass', b'bass', b'guitar', b'reed', b'reed', b'brass', b'mallet', b'bass', b'keyboard', b'bass', b'reed', b'guitar', b'flute', b'flute', b'reed', b'mallet', b'keyboard', b'keyboard', b'keyboard', b'keyboard', b'guitar', b'keyboard', b'guitar', b'flute', b'brass', b'organ', b'bass', b'flute', b'organ', b'bass', b'vocal', b'brass', b'organ', b'keyboard', b'guitar', b'reed', b'bass', b'guitar', b'vocal', b'reed', b'keyboard', b'bass', b'brass', b'organ', b'mallet', b'bass', b'brass', b'bass', b'bass', b'guitar', b'bass', b'brass', b'keyboard', b'flute', b'string', b'keyboard', b'string', b'guitar', b'keyboard', b'bass', b'guitar', b'bass', b'vocal', b'bass', b'guitar', b'organ', b'bass', b'organ', b'keyboard', b'flute', b'bass', b'bass', b'brass', b'organ', b'brass', b'organ', b'mallet', b'keyboard', b'organ', b'guitar', b'organ', b'organ', b'bass', b'guitar', b'keyboard', b'guitar', b'mallet', b'bass', b'string', b'keyboard', b'reed', b'organ', b'guitar', b'bass', b'keyboard', b'keyboard', b'brass', b'guitar', b'bass', b'vocal', b'bass', b'brass', b'vocal', b'organ', b'keyboard', b'keyboard', b'string', b'bass', b'keyboard', b'keyboard', b'keyboard', b'organ', b'keyboard', b'guitar', b'guitar', b'flute', b'bass', b'keyboard', b'vocal', b'guitar', b'bass', b'bass', b'brass', b'keyboard', b'bass', b'mallet', b'mallet', b'keyboard', b'keyboard', b'keyboard', b'organ', b'organ', b'guitar', b'bass', b'guitar', b'reed', b'vocal', b'bass', b'bass', b'bass', b'keyboard', b'reed', b'bass', b'guitar', b'bass', b'organ', b'brass', b'bass', b'keyboard', b'bass', b'bass', b'string', b'vocal', b'mallet', b'guitar', b'guitar', b'keyboard', b'vocal', b'mallet', b'keyboard', b'bass', b'mallet', b'bass', b'keyboard', b'flute', b'bass', b'keyboard', b'keyboard', b'guitar', b'organ', b'keyboard', b'guitar', b'organ', b'bass', b'guitar', b'flute', b'bass', b'brass', b'brass', b'string', b'bass', b'brass', b'organ', b'guitar', b'keyboard', b'keyboard', b'mallet', b'keyboard', b'organ', b'guitar', b'bass', b'bass', b'string', b'brass', b'vocal', b'guitar', b'keyboard', b'flute', b'organ', b'organ', b'bass', b'flute', b'bass', b'string', b'string', b'bass', b'bass', b'guitar', b'bass', b'bass', b'organ', b'guitar', b'bass', b'flute', b'bass', b'reed', b'guitar', b'brass', b'guitar', b'keyboard', b'guitar', b'keyboard', b'organ', b'guitar', b'keyboard', b'guitar', b'reed', b'organ', b'mallet', b'keyboard', b'organ', b'organ', b'bass', b'organ', b'organ', b'string', b'organ', b'bass', b'organ', b'bass', b'keyboard', b'string', b'reed', b'bass', b'keyboard', b'mallet', b'brass', b'bass', b'mallet', b'guitar', b'bass', b'reed', b'flute', b'mallet', b'guitar', b'organ', b'vocal', b'bass', b'bass', b'mallet', b'bass', b'organ', b'bass', b'bass', b'bass', b'brass', b'keyboard', b'bass', b'flute', b'organ', b'keyboard', b'vocal', b'keyboard', b'keyboard', b'organ', b'mallet', b'string', b'keyboard', b'reed', b'keyboard', b'mallet', b'keyboard', b'bass', b'keyboard', b'brass', b'keyboard', b'flute', b'keyboard', b'vocal', b'keyboard', b'vocal', b'bass', b'mallet', b'guitar', b'mallet', b'string', b'mallet', b'guitar', b'string', b'flute', b'guitar', b'bass', b'organ', b'keyboard', b'keyboard', b'brass', b'guitar', b'mallet', b'guitar', b'bass', b'keyboard', b'vocal', b'reed', b'keyboard', b'keyboard', b'keyboard', b'organ', b'flute', b'flute', b'brass', b'brass', b'bass', b'organ', b'reed', b'keyboard', b'guitar', b'guitar', b'guitar', b'guitar', b'organ', b'mallet', b'bass', b'organ', b'bass', b'brass', b'bass', b'bass', b'reed', b'mallet', b'bass', b'bass', b'organ', b'vocal', b'brass', b'organ', b'bass', b'keyboard', b'bass', b'bass', b'organ', b'bass', b'vocal', b'guitar', b'guitar', b'guitar', b'bass', b'guitar', b'keyboard', b'flute', b'brass', b'keyboard', b'keyboard', b'keyboard', b'reed', b'keyboard', b'organ', b'brass', b'keyboard', b'bass', b'guitar', b'bass', b'keyboard', b'brass', b'guitar', b'organ', b'mallet', b'reed', b'keyboard', b'bass', b'guitar', b'bass', b'organ', b'keyboard', b'organ', b'organ', b'organ', b'string', b'bass', b'bass', b'guitar', b'vocal', b'guitar', b'bass', b'vocal', b'guitar', b'guitar', b'keyboard', b'brass', b'string', b'keyboard', b'keyboard', b'keyboard', b'keyboard', b'bass', b'bass', b'mallet', b'mallet', b'keyboard', b'string', b'organ', b'reed', b'bass', b'bass', b'keyboard', b'organ', b'keyboard', b'organ', b'keyboard', b'guitar', b'keyboard', b'brass', b'mallet', b'bass', b'keyboard', b'guitar', b'organ', b'keyboard', b'organ', b'keyboard', b'bass', b'brass', b'guitar', b'bass', b'organ', b'organ', b'bass', b'organ', b'reed', b'bass', b'guitar', b'brass', b'bass', b'mallet', b'bass', b'bass', b'bass', b'guitar', b'keyboard', b'bass', b'string', b'keyboard', b'bass', b'guitar', b'string', b'string', b'guitar', b'string', b'bass', b'flute', b'keyboard', b'organ', b'mallet', b'bass', b'keyboard', b'organ', b'guitar', b'bass', b'mallet', b'organ', b'organ', b'organ', b'reed', b'guitar', b'guitar', b'bass', b'keyboard', b'keyboard', b'bass', b'bass', b'keyboard', b'organ', b'keyboard', b'reed', b'mallet', b'keyboard', b'organ', b'brass', b'bass', b'brass', b'organ', b'keyboard', b'bass', b'bass', b'guitar', b'organ', b'brass', b'guitar', b'guitar', b'guitar', b'organ', b'keyboard', b'keyboard', b'string', b'keyboard', b'bass', b'organ', b'guitar', b'organ', b'organ', b'bass', b'bass', b'keyboard', b'flute', b'organ', b'vocal', b'organ', b'mallet', b'guitar', b'string', b'brass', b'vocal', b'organ', b'reed', b'guitar', b'organ', b'keyboard', b'guitar', b'brass', b'bass', b'string', b'bass', b'string', b'organ', b'organ', b'keyboard', b'guitar', b'organ', b'bass', b'flute', b'bass', b'keyboard', b'keyboard', b'brass', b'guitar', b'organ', b'guitar', b'bass', b'bass', b'keyboard', b'guitar', b'bass', b'guitar', b'vocal', b'organ', b'flute', b'guitar', b'reed', b'keyboard', b'keyboard', b'organ', b'bass', b'brass', b'keyboard', b'keyboard', b'brass', b'organ', b'keyboard', b'organ', b'brass', b'brass', b'keyboard', b'organ', b'brass', b'organ', b'bass', b'guitar', b'keyboard', b'organ', b'string', b'flute', b'brass', b'reed', b'mallet', b'keyboard', b'bass', b'bass', b'keyboard', b'organ', b'organ', b'guitar', b'flute', b'string', b'mallet', b'mallet', b'keyboard', b'keyboard', b'keyboard', b'guitar', b'keyboard', b'guitar', b'keyboard', b'keyboard', b'string', b'guitar', b'brass', b'keyboard', b'string', b'guitar', b'flute', b'string', b'flute', b'bass', b'bass', b'keyboard', b'guitar', b'bass', b'keyboard', b'string', b'bass', b'bass', b'organ', b'reed', b'flute', b'bass', b'keyboard', b'reed', b'bass', b'guitar', b'guitar', b'organ', b'guitar', b'organ', b'keyboard', b'reed', b'keyboard', b'string', b'keyboard', b'bass', b'flute', b'guitar', b'keyboard', b'mallet', b'guitar', b'reed', b'string', b'keyboard', b'keyboard', b'guitar', b'bass', b'reed', b'mallet', b'mallet', b'guitar', b'keyboard', b'brass', b'bass', b'flute', b'guitar', b'brass', b'vocal', b'keyboard', b'organ', b'reed', b'vocal', b'bass', b'reed', b'vocal', b'string', b'organ', b'bass', b'bass', b'brass', b'bass', b'bass', b'organ', b'keyboard', b'brass', b'bass', b'organ', b'organ', b'bass', b'guitar', b'flute', b'guitar', b'bass', b'reed', b'bass', b'organ', b'bass', b'keyboard', b'string', b'organ', b'keyboard', b'string', b'string', b'string', b'keyboard', b'keyboard', b'guitar', b'brass', b'brass', b'reed', b'bass', b'organ', b'keyboard', b'guitar', b'guitar', b'keyboard', b'reed', b'reed', b'reed', b'keyboard', b'organ', b'bass', b'bass', b'brass', b'bass', b'guitar', b'bass', b'organ', b'guitar', b'keyboard', b'bass', b'brass', b'bass', b'string', b'guitar', b'bass', b'organ', b'keyboard', b'bass', b'organ', b'bass', b'bass', b'flute', b'bass', b'flute', b'bass', b'bass', b'organ', b'bass', b'bass', b'reed', b'bass', b'brass', b'bass', b'guitar', b'guitar', b'keyboard', b'bass', b'organ', b'keyboard', b'keyboard', b'bass', b'guitar', b'mallet', b'mallet', b'reed', b'bass', b'bass', b'guitar', b'vocal', b'keyboard', b'bass', b'bass', b'keyboard', b'reed', b'keyboard', b'keyboard', b'organ', b'flute', b'string', b'brass', b'organ', b'keyboard', b'reed', b'keyboard', b'bass', b'organ', b'string', b'organ', b'bass', b'organ', b'mallet', b'bass', b'guitar', b'mallet', b'mallet', b'bass', b'guitar', b'guitar', b'keyboard', b'bass', b'brass', b'guitar', b'brass', b'bass', b'keyboard', b'reed', b'reed', b'guitar', b'keyboard', b'flute', b'keyboard', b'flute', b'keyboard', b'mallet', b'brass', b'keyboard', b'guitar', b'organ', b'guitar', b'organ', b'reed', b'bass', b'mallet', b'flute', b'organ', b'mallet', b'bass', b'organ', b'organ', b'reed', b'bass', b'keyboard', b'guitar', b'keyboard', b'bass', b'guitar', b'vocal', b'bass', b'bass', b'vocal', b'mallet', b'bass', b'keyboard', b'bass', b'organ', b'organ', b'mallet', b'vocal', b'keyboard', b'bass', b'flute', b'reed', b'organ', b'guitar', b'reed', b'guitar', b'string', b'bass', b'bass', b'guitar', b'bass', b'vocal', b'bass', b'organ', b'organ', b'keyboard', b'keyboard', b'keyboard', b'keyboard', b'organ', b'bass', b'bass', b'mallet', b'keyboard', b'guitar', b'guitar', b'guitar', b'mallet', b'reed', b'reed', b'guitar', b'guitar', b'bass', b'reed', b'bass', b'keyboard', b'keyboard', b'reed', b'string', b'bass', b'organ', b'guitar', b'string', b'organ', b'mallet', b'keyboard', b'string', b'keyboard', b'mallet', b'bass', b'mallet', b'guitar', b'bass', b'keyboard', b'keyboard', b'string', b'keyboard', b'flute', b'keyboard', b'guitar', b'brass', b'organ', b'bass', b'organ', b'organ', b'guitar', b'guitar', b'bass', b'reed', b'reed', b'string', b'string', b'keyboard', b'guitar', b'bass', b'guitar', b'reed', b'brass', b'brass', b'reed', b'reed', b'guitar', b'reed', b'bass', b'mallet', b'reed', b'keyboard', b'organ', b'vocal', b'keyboard', b'keyboard', b'bass', b'mallet', b'organ', b'reed', b'organ', b'string', b'guitar', b'keyboard', b'brass', b'keyboard', b'guitar', b'organ', b'brass', b'brass', b'brass', b'keyboard', b'string', b'brass', b'brass', b'reed', b'organ', b'keyboard', b'bass', b'brass', b'brass', b'bass', b'flute', b'reed', b'guitar', b'vocal', b'string', b'organ', b'organ', b'guitar', b'guitar', b'bass', b'mallet', b'bass', b'keyboard', b'guitar', b'guitar', b'mallet', b'reed', b'mallet', b'reed', b'keyboard', b'string', b'brass', b'brass', b'brass', b'bass', b'keyboard', b'organ', b'bass', b'bass', b'guitar', b'vocal', b'guitar', b'organ', b'guitar', b'bass', b'brass', b'bass', b'vocal', b'keyboard', b'keyboard', b'reed', b'keyboard', b'bass', b'organ', b'keyboard', b'organ', b'guitar', b'keyboard', b'guitar', b'keyboard', b'guitar', b'vocal', b'organ', b'bass', b'organ', b'string', b'bass', b'guitar', b'keyboard', b'bass', b'bass', b'organ', b'organ', b'organ', b'brass', b'bass', b'keyboard', b'organ', b'organ', b'guitar', b'keyboard', b'guitar', b'vocal', b'bass', b'reed', b'mallet', b'mallet', b'organ', b'organ', b'organ', b'guitar', b'bass', b'keyboard', b'brass', b'organ', b'reed', b'guitar', b'guitar', b'bass', b'guitar', b'keyboard', b'bass', b'keyboard', b'string', b'brass', b'bass', b'string', b'guitar', b'bass', b'organ', b'keyboard', b'organ', b'bass', b'bass', b'bass', b'brass', b'bass', b'brass', b'bass', b'bass', b'guitar', b'organ', b'keyboard', b'organ', b'string', b'keyboard', b'guitar', b'reed', b'organ', b'keyboard', b'keyboard', b'bass', b'organ', b'brass', b'bass', b'vocal', b'brass', b'guitar', b'keyboard', b'bass', b'vocal', b'organ', b'bass', b'string', b'string', b'reed', b'keyboard', b'guitar', b'string', b'flute', b'guitar', b'organ', b'bass', b'keyboard', b'flute', b'mallet', b'keyboard', b'organ', b'guitar', b'organ', b'string', b'bass', b'reed', b'guitar', b'bass', b'keyboard', b'string', b'keyboard', b'brass', b'organ', b'guitar', b'brass', b'keyboard', b'guitar', b'keyboard', b'mallet', b'brass', b'keyboard', b'reed', b'bass', b'keyboard', b'organ', b'bass', b'guitar', b'bass', b'reed', b'string', b'flute', b'bass', b'mallet', b'guitar', b'guitar', b'bass', b'bass', b'reed', b'organ', b'keyboard', b'bass', b'guitar', b'bass', b'mallet', b'organ', b'keyboard', b'vocal', b'flute', b'guitar', b'brass', b'bass', b'vocal', b'bass', b'guitar', b'organ', b'bass', b'organ', b'bass', b'guitar', b'bass', b'reed', b'string', b'vocal', b'bass', b'keyboard', b'mallet', b'guitar', b'keyboard', b'string', b'bass', b'reed', b'brass', b'brass', b'mallet', b'string', b'keyboard', b'guitar', b'bass', b'reed', b'bass', b'organ', b'organ', b'reed', b'bass', b'keyboard', b'bass', b'organ', b'keyboard', b'guitar', b'organ', b'bass', b'guitar', b'bass', b'keyboard', b'keyboard', b'brass', b'organ', b'organ', b'flute', b'bass', b'bass', b'keyboard', b'reed', b'bass', b'guitar', b'bass', b'brass', b'flute', b'bass', b'bass', b'bass', b'organ', b'guitar', b'bass', b'keyboard', b'guitar', b'organ', b'bass', b'bass', b'bass', b'flute', b'keyboard', b'guitar', b'keyboard', b'guitar', b'keyboard', b'bass', b'guitar', b'keyboard', b'bass', b'organ', b'guitar', b'bass', b'keyboard', b'mallet', b'bass', b'organ', b'organ', b'organ', b'keyboard', b'organ', b'bass', b'guitar', b'brass', b'organ', b'string', b'guitar', b'string', b'bass', b'bass', b'bass', b'guitar', b'bass', b'guitar', b'mallet', b'bass', b'bass', b'reed', b'guitar', b'flute', b'bass', b'bass', b'organ', b'keyboard', b'brass', b'guitar', b'keyboard', b'flute', b'guitar', b'organ', b'bass', b'guitar', b'brass', b'string', b'mallet', b'brass', b'bass', b'reed', b'reed', b'guitar', b'reed', b'organ', b'guitar', b'brass', b'organ', b'reed', b'keyboard', b'bass', b'guitar', b'reed', b'guitar', b'guitar', b'mallet', b'keyboard', b'vocal', b'bass', b'organ', b'keyboard', b'guitar', b'guitar', b'mallet', b'guitar', b'bass', b'bass', b'organ', b'bass', b'keyboard', b'string', b'keyboard', b'vocal', b'mallet', b'vocal', b'guitar', b'reed', b'bass', b'brass', b'brass', b'keyboard', b'bass', b'flute', b'flute', b'keyboard', b'brass', b'organ', b'bass', b'keyboard', b'guitar', b'flute', b'bass', b'reed', b'organ', b'keyboard', b'guitar', b'mallet', b'brass', b'organ', b'keyboard', b'guitar', b'string', b'guitar', b'bass', b'flute', b'string', b'keyboard', b'string', b'string', b'brass', b'mallet', b'mallet', b'reed', b'keyboard', b'guitar', b'bass', b'vocal', b'brass', b'keyboard', b'organ', b'guitar', b'mallet', b'keyboard', b'mallet', b'bass', b'guitar', b'keyboard', b'guitar', b'reed', b'keyboard', b'flute', b'organ', b'guitar', b'reed', b'organ', b'keyboard', b'vocal', b'brass', b'bass', b'string', b'brass', b'guitar', b'string', b'guitar', b'bass', b'keyboard', b'bass', b'organ', b'reed', b'reed', b'organ', b'organ', b'organ', b'keyboard', b'bass', b'organ', b'guitar', b'brass', b'organ', b'string', b'guitar', b'guitar', b'bass', b'keyboard', b'keyboard', b'reed', b'brass', b'keyboard', b'guitar', b'bass', b'bass', b'bass', b'organ', b'brass', b'bass', b'keyboard', b'guitar', b'bass', b'mallet', b'keyboard', b'organ', b'guitar', b'mallet', b'guitar', b'string', b'bass', b'organ', b'guitar', b'reed', b'keyboard', b'string', b'vocal', b'string', b'guitar', b'bass', b'mallet', b'organ', b'string', b'reed', b'bass', b'keyboard', b'brass', b'guitar', b'reed', b'flute', b'keyboard', b'guitar', b'keyboard', b'string', b'guitar', b'bass', b'guitar', b'organ', b'organ', b'bass', b'vocal', b'bass', b'organ', b'flute', b'keyboard', b'bass', b'bass', b'guitar', b'bass', b'bass', b'guitar', b'organ', b'bass', b'mallet', b'bass', b'keyboard', b'brass', b'keyboard', b'guitar', b'keyboard', b'reed', b'organ', b'bass', b'mallet', b'bass', b'vocal', b'string', b'bass', b'vocal', b'bass', b'organ', b'reed', b'organ', b'keyboard', b'brass', b'guitar', b'bass', b'reed', b'mallet', b'bass', b'bass', b'keyboard', b'mallet', b'reed', b'organ', b'bass', b'guitar', b'organ', b'string', b'organ', b'flute', b'guitar', b'keyboard', b'guitar', b'bass', b'reed', b'guitar', b'keyboard', b'reed', b'reed', b'bass', b'vocal', b'flute', b'reed', b'keyboard', b'string', b'bass', b'guitar', b'keyboard', b'reed', b'bass', b'bass', b'bass', b'bass', b'keyboard', b'keyboard', b'mallet', b'guitar', b'reed', b'organ', b'keyboard', b'keyboard', b'organ', b'brass', b'bass', b'flute', b'guitar', b'organ', b'keyboard', b'bass', b'string', b'mallet', b'keyboard', b'mallet', b'keyboard', b'mallet', b'guitar', b'reed', b'organ', b'keyboard', b'reed', b'flute', b'organ', b'organ', b'string', b'guitar', b'guitar', b'brass', b'guitar', b'keyboard', b'brass', b'guitar', b'bass', b'keyboard', b'bass', b'organ', b'bass', b'keyboard', b'guitar', b'keyboard', b'keyboard', b'guitar', b'organ', b'bass', b'bass', b'keyboard', b'guitar', b'brass', b'bass', b'brass', b'bass', b'organ', b'bass', b'keyboard', b'bass', b'keyboard', b'guitar', b'guitar', b'organ', b'guitar', b'bass', b'keyboard', b'flute', b'keyboard', b'bass', b'organ', b'guitar', b'reed', b'organ', b'flute', b'keyboard', b'bass', b'bass', b'bass', b'keyboard', b'guitar', b'keyboard', b'guitar', b'keyboard', b'reed', b'guitar', b'organ', b'guitar', b'bass', b'bass', b'organ', b'organ', b'keyboard', b'bass', b'bass', b'vocal', b'mallet', b'mallet', b'keyboard', b'flute', b'bass', b'guitar', b'guitar', b'brass', b'bass', b'bass', b'bass', b'bass', b'organ', b'string', b'brass', b'guitar', b'vocal', b'brass', b'mallet', b'organ', b'organ', b'bass', b'keyboard', b'flute', b'brass', b'reed', b'string', b'string', b'string', b'guitar', b'keyboard', b'keyboard', b'bass', b'reed', b'bass', b'reed', b'keyboard', b'vocal', b'bass', b'organ', b'flute', b'brass', b'bass', b'bass', b'guitar', b'brass', b'guitar', b'organ', b'organ', b'organ', b'mallet', b'mallet', b'organ', b'string', b'mallet', b'guitar', b'mallet', b'bass', b'keyboard', b'bass', b'organ', b'bass', b'keyboard', b'organ', b'keyboard', b'guitar', b'guitar', b'bass', b'reed', b'brass', b'organ', b'reed', b'guitar', b'flute', b'guitar', b'bass', b'reed', b'bass', b'guitar', b'keyboard', b'reed', b'reed', b'brass', b'guitar', b'vocal', b'guitar', b'reed', b'reed', b'brass', b'keyboard', b'guitar', b'reed', b'guitar', b'mallet', b'guitar', b'brass', b'string', b'guitar', b'reed', b'string', b'keyboard', b'keyboard', b'mallet', b'guitar', b'mallet', b'bass', b'guitar', b'keyboard', b'guitar', b'guitar', b'keyboard', b'mallet', b'guitar', b'keyboard', b'organ', b'keyboard', b'string', b'bass', b'guitar', b'guitar', b'guitar', b'brass', b'brass', b'bass', b'flute', b'bass', b'bass', b'reed', b'brass', b'guitar', b'brass', b'keyboard', b'keyboard', b'mallet', b'bass', b'bass', b'bass', b'guitar', b'bass', b'guitar', b'vocal', b'string', b'guitar', b'mallet', b'guitar', b'string', b'bass', b'string', b'reed', b'keyboard', b'bass', b'organ', b'keyboard', b'reed', b'organ', b'organ', b'organ', b'string', b'reed', b'mallet', b'flute', b'reed', b'keyboard', b'bass', b'brass', b'bass', b'organ', b'guitar', b'guitar', b'keyboard', b'organ', b'keyboard', b'guitar', b'brass', b'organ', b'guitar', b'guitar', b'organ', b'string', b'guitar', b'bass', b'brass', b'keyboard', b'keyboard', b'bass', b'bass', b'keyboard', b'bass', b'brass', b'keyboard', b'guitar', b'guitar', b'organ', b'organ', b'guitar', b'reed', b'bass', b'brass', b'guitar', b'bass', b'keyboard', b'guitar', b'bass', b'reed', b'flute', b'guitar', b'organ', b'guitar', b'keyboard', b'guitar', b'guitar', b'bass', b'organ', b'organ', b'keyboard', b'string', b'bass', b'keyboard', b'keyboard', b'mallet', b'brass', b'guitar', b'organ', b'vocal', b'bass', b'mallet', b'bass', b'guitar', b'organ', b'keyboard', b'guitar', b'bass', b'string', b'guitar', b'guitar', b'brass', b'vocal', b'guitar', b'bass', b'bass', b'guitar', b'keyboard', b'mallet', b'keyboard', b'string', b'mallet', b'reed', b'guitar', b'bass', b'bass', b'keyboard', b'reed', b'bass', b'reed', b'bass', b'brass', b'bass', b'bass', b'keyboard', b'keyboard', b'organ', b'guitar', b'organ', b'reed', b'vocal', b'organ', b'string', b'vocal', b'organ', b'flute', b'bass', b'keyboard', b'flute', b'mallet', b'bass', b'brass', b'bass', b'bass', b'vocal', b'guitar', b'bass', b'string', b'mallet', b'organ', b'bass', b'string', b'organ', b'reed', b'bass', b'bass', b'bass', b'keyboard', b'keyboard', b'brass', b'bass', b'keyboard', b'guitar', b'organ', b'brass', b'keyboard', b'organ', b'guitar', b'keyboard', b'reed', b'reed', b'reed', b'keyboard', b'guitar', b'organ', b'bass', b'bass', b'keyboard', b'guitar', b'flute', b'vocal', b'guitar', b'guitar', b'string', b'mallet', b'organ', b'flute', b'bass', b'bass', b'brass', b'bass', b'keyboard', b'keyboard', b'keyboard', b'guitar', b'flute', b'keyboard', b'brass', b'guitar', b'keyboard', b'flute', b'guitar', b'keyboard', b'keyboard', b'mallet', b'bass', b'guitar', b'keyboard', b'mallet', b'string', b'brass', b'bass', b'bass', b'reed', b'bass', b'bass', b'keyboard', b'string', b'bass', b'keyboard', b'keyboard', b'organ', b'keyboard', b'keyboard', b'bass', b'bass', b'organ', b'keyboard', b'brass', b'bass', b'keyboard', b'keyboard', b'guitar', b'brass', b'organ', b'organ', b'keyboard', b'flute', b'organ', b'guitar', b'bass', b'mallet', b'string', b'bass', b'reed', b'keyboard', b'guitar', b'string', b'bass', b'guitar', b'organ', b'guitar', b'bass', b'organ', b'reed', b'keyboard', b'bass', b'mallet', b'keyboard', b'organ', b'mallet', b'brass', b'organ', b'bass', b'organ', b'bass', b'vocal', b'bass', b'bass', b'guitar', b'bass', b'guitar', b'keyboard', b'bass', b'keyboard', b'keyboard', b'guitar', b'bass', b'flute', b'organ', b'bass', b'keyboard', b'brass', b'keyboard', b'brass', b'brass', b'organ', b'guitar', b'mallet', b'keyboard', b'organ', b'keyboard', b'keyboard', b'keyboard', b'bass', b'bass', b'keyboard', b'keyboard', b'bass', b'guitar', b'keyboard', b'organ', b'vocal', b'bass', b'bass', b'bass', b'bass', b'string', b'brass', b'keyboard', b'keyboard', b'string', b'bass', b'bass', b'guitar', b'keyboard', b'reed', b'bass', b'guitar', b'keyboard', b'brass', b'guitar', b'keyboard', b'reed', b'brass', b'keyboard', b'keyboard', b'vocal', b'bass', b'reed', b'guitar', b'vocal', b'mallet', b'bass', b'guitar', b'keyboard', b'organ', b'guitar', b'reed', b'organ', b'reed', b'reed', b'keyboard', b'organ', b'string', b'organ', b'keyboard', b'bass', b'keyboard', b'guitar', b'guitar', b'bass', b'bass', b'bass', b'reed', b'guitar', b'reed', b'guitar', b'bass', b'keyboard', b'brass', b'bass', b'string', b'bass', b'bass', b'bass', b'string', b'organ', b'guitar', b'keyboard', b'bass', b'string', b'flute', b'keyboard', b'organ', b'brass', b'guitar', b'reed', b'keyboard', b'guitar', b'bass', b'string', b'keyboard', b'string', b'bass', b'reed', b'bass', b'reed', b'string', b'vocal', b'bass', b'keyboard', b'bass', b'keyboard', b'bass', b'keyboard', b'keyboard', b'bass', b'guitar', b'brass', b'reed', b'reed', b'keyboard', b'keyboard', b'bass', b'keyboard', b'keyboard', b'guitar', b'guitar', b'guitar', b'guitar', b'bass', b'guitar', b'bass', b'guitar', b'bass', b'bass', b'bass', b'mallet', b'bass', b'string', b'brass', b'bass', b'keyboard', b'reed', b'bass', b'reed', b'guitar', b'reed', b'bass', b'keyboard', b'mallet', b'guitar', b'guitar', b'string', b'bass', b'mallet', b'brass', b'bass', b'keyboard', b'guitar', b'organ', b'keyboard', b'guitar', b'reed', b'mallet', b'flute', b'bass', b'brass', b'bass', b'bass', b'organ', b'reed', b'reed', b'bass', b'organ', b'brass', b'keyboard', b'organ', b'bass', b'mallet', b'string', b'string', b'flute', b'string', b'organ', b'bass', b'bass', b'keyboard', b'brass', b'guitar', b'reed', b'bass', b'guitar', b'organ', b'organ', b'keyboard', b'bass', b'guitar', b'bass', b'keyboard', b'keyboard', b'guitar', b'brass', b'vocal', b'mallet', b'guitar', b'brass', b'keyboard', b'brass', b'organ', b'keyboard', b'vocal', b'mallet', b'guitar', b'bass', b'keyboard', b'keyboard', b'guitar', b'bass', b'bass', b'flute', b'guitar', b'bass', b'bass', b'guitar', b'keyboard', b'brass', b'keyboard', b'mallet', b'guitar', b'keyboard', b'string', b'guitar', b'organ', b'vocal', b'guitar', b'brass', b'string', b'organ', b'mallet', b'guitar', b'bass', b'keyboard', b'organ', b'bass', b'bass', b'vocal', b'keyboard', b'brass', b'keyboard', b'organ', b'organ', b'guitar', b'bass', b'bass', b'bass', b'organ', b'reed', b'bass', b'keyboard', b'keyboard', b'brass', b'guitar', b'bass', b'bass', b'bass', b'brass', b'bass', b'guitar', b'string', b'bass', b'guitar', b'keyboard', b'keyboard', b'keyboard', b'bass', b'keyboard', b'guitar', b'keyboard', b'reed', b'organ', b'bass', b'guitar', b'brass', b'keyboard', b'flute', b'keyboard', b'bass', b'guitar', b'organ', b'vocal', b'bass', b'organ', b'guitar', b'guitar', b'keyboard', b'mallet', b'string', b'organ', b'bass', b'organ', b'bass', b'reed', b'keyboard', b'bass', b'keyboard', b'keyboard', b'keyboard', b'bass', b'string', b'vocal', b'keyboard', b'mallet', b'mallet', b'brass', b'bass', b'organ', b'organ', b'organ', b'guitar', b'mallet', b'reed', b'brass', b'bass', b'keyboard', b'guitar', b'guitar', b'vocal', b'keyboard', b'organ', b'guitar', b'organ', b'organ', b'organ', b'keyboard', b'keyboard', b'bass', b'vocal', b'brass', b'keyboard', b'keyboard', b'guitar', b'guitar', b'bass', b'guitar', b'bass', b'bass', b'brass', b'organ', b'brass', b'organ', b'keyboard', b'brass', b'guitar', b'keyboard', b'reed', b'organ', b'keyboard', b'guitar', b'bass', b'brass', b'keyboard', b'guitar', b'keyboard', b'bass', b'bass', b'guitar', b'keyboard', b'bass', b'bass', b'brass', b'string', b'keyboard', b'guitar', b'reed', b'keyboard', b'bass', b'reed', b'brass', b'bass', b'vocal', b'vocal', b'reed', b'organ', b'vocal', b'string', b'flute', b'bass', b'organ', b'bass', b'keyboard', b'string', b'keyboard', b'brass', b'flute', b'bass', b'organ', b'guitar', b'bass', b'keyboard', b'string', b'bass', b'keyboard', b'organ', b'keyboard', b'mallet', b'brass', b'guitar', b'string', b'keyboard', b'string', b'guitar', b'bass', b'bass', b'bass', b'guitar', b'guitar', b'keyboard', b'keyboard', b'reed', b'organ', b'bass', b'guitar', b'bass', b'guitar', b'reed', b'bass', b'brass', b'guitar', b'keyboard', b'keyboard', b'mallet', b'keyboard', b'guitar', b'flute', b'bass', b'keyboard', b'keyboard', b'guitar', b'keyboard', b'keyboard', b'string', b'guitar', b'organ', b'string', b'bass', b'guitar', b'brass', b'keyboard', b'flute', b'reed', b'bass', b'keyboard', b'guitar', b'flute', b'brass', b'organ', b'bass', b'keyboard', b'brass', b'vocal', b'guitar', b'mallet', b'bass', b'mallet', b'vocal', b'keyboard', b'guitar', b'brass', b'keyboard', b'string', b'string', b'brass', b'flute', b'keyboard', b'reed', b'guitar', b'brass', b'guitar', b'string', b'bass', b'keyboard', b'brass', b'keyboard', b'brass', b'keyboard', b'keyboard', b'keyboard', b'organ', b'organ', b'keyboard', b'bass', b'organ', b'guitar', b'keyboard', b'reed', b'string', b'mallet', b'mallet', b'bass', b'bass', b'brass', b'bass', b'bass', b'bass', b'reed', b'guitar', b'string', b'keyboard', b'bass', b'flute', b'keyboard', b'keyboard', b'reed', b'bass', b'guitar', b'brass', b'bass', b'guitar', b'bass', b'guitar', b'keyboard', b'reed', b'keyboard', b'mallet', b'organ', b'bass', b'bass', b'organ', b'reed', b'keyboard', b'string', b'bass', b'guitar', b'brass', b'brass', b'keyboard', b'bass', b'bass', b'mallet', b'keyboard', b'flute', b'bass', b'bass', b'keyboard', b'string', b'keyboard', b'string', b'bass', b'guitar', b'guitar', b'bass', b'string', b'guitar', b'organ', b'mallet', b'mallet', b'guitar', b'string', b'string', b'mallet', b'bass', b'guitar', b'vocal', b'organ', b'bass', b'mallet', b'brass', b'guitar', b'keyboard', b'bass', b'bass', b'mallet', b'guitar', b'bass', b'bass', b'organ', b'vocal', b'bass', b'brass', b'guitar', b'keyboard', b'bass', b'string', b'keyboard', b'organ', b'guitar', b'keyboard', b'mallet', b'brass', b'brass', b'reed', b'keyboard', b'bass', b'bass', b'keyboard', b'bass', b'keyboard', b'mallet', b'keyboard', b'guitar', b'bass', b'organ', b'guitar', b'organ', b'guitar', b'string', b'guitar', b'bass', b'brass', b'organ', b'bass', b'vocal', b'bass', b'flute', b'guitar', b'guitar', b'bass', b'organ', b'guitar', b'keyboard', b'guitar', b'mallet', b'keyboard', b'bass', b'vocal', b'guitar', b'bass', b'keyboard', b'bass', b'brass', b'brass', b'bass', b'bass', b'keyboard', b'brass', b'guitar', b'guitar', b'bass', b'keyboard', b'bass', b'mallet', b'vocal', b'keyboard', b'organ', b'string', b'keyboard', b'bass', b'organ', b'keyboard', b'organ', b'keyboard', b'organ', b'organ', b'keyboard', b'flute', b'reed', b'guitar', b'organ', b'guitar', b'vocal', b'keyboard', b'bass', b'guitar', b'organ', b'bass', b'keyboard', b'vocal', b'keyboard', b'organ', b'organ', b'organ', b'mallet', b'string', b'keyboard', b'string', b'keyboard', b'guitar', b'organ', b'guitar', b'keyboard', b'guitar', b'guitar', b'guitar', b'string', b'guitar', b'keyboard', b'flute', b'keyboard', b'string', b'keyboard', b'vocal', b'guitar', b'string', b'guitar', b'guitar', b'brass', b'brass', b'bass', b'mallet', b'vocal', b'organ', b'keyboard', b'bass', b'guitar', b'guitar', b'organ', b'reed', b'bass', b'reed', b'bass', b'keyboard', b'guitar', b'guitar', b'guitar', b'organ', b'brass', b'keyboard', b'keyboard', b'bass', b'keyboard', b'organ', b'keyboard', b'string', b'bass', b'guitar', b'string', b'keyboard', b'brass', b'bass', b'organ', b'bass', b'keyboard', b'bass', b'string', b'bass', b'bass', b'bass', b'bass', b'bass', b'string', b'guitar', b'string', b'bass', b'reed', b'guitar', b'string', b'guitar', b'guitar', b'keyboard', b'brass', b'keyboard', b'guitar', b'string', b'guitar', b'bass', b'brass', b'flute', b'organ', b'guitar', b'organ', b'bass', b'bass', b'keyboard', b'keyboard', b'bass', b'keyboard', b'guitar', b'guitar', b'keyboard', b'guitar', b'brass', b'organ', b'flute', b'keyboard', b'string', b'bass', b'keyboard', b'keyboard', b'bass', b'bass', b'brass', b'keyboard', b'organ', b'guitar', b'string', b'bass', b'guitar', b'guitar', b'bass', b'guitar', b'guitar', b'flute', b'keyboard', b'guitar', b'vocal', b'guitar', b'bass', b'guitar', b'mallet', b'guitar', b'flute', b'bass', b'keyboard', b'organ', b'bass', b'bass', b'brass', b'organ', b'organ', b'keyboard', b'reed', b'organ', b'keyboard', b'reed', b'string', b'keyboard', b'flute', b'bass', b'flute', b'guitar', b'guitar', b'bass', b'mallet', b'brass', b'keyboard', b'keyboard', b'keyboard', b'reed', b'keyboard', b'bass', b'guitar', b'organ', b'organ', b'reed', b'string', b'string', b'brass', b'guitar', b'bass', b'bass', b'bass', b'organ', b'mallet', b'bass', b'reed', b'keyboard', b'keyboard', b'brass', b'bass', b'bass', b'bass', b'organ', b'organ', b'organ', b'reed', b'bass', b'keyboard', b'keyboard', b'reed', b'string', b'string', b'vocal', b'brass', b'brass', b'bass', b'mallet', b'keyboard', b'brass', b'bass', b'brass', b'mallet', b'mallet', b'bass', b'keyboard', b'bass', b'guitar', b'keyboard', b'organ', b'vocal', b'guitar', b'brass', b'organ', b'bass', b'guitar', b'bass', b'keyboard', b'organ', b'bass', b'string', b'brass', b'keyboard', b'brass', b'organ', b'keyboard', b'organ', b'guitar', b'guitar', b'guitar', b'string', b'bass', b'brass', b'bass', b'bass', b'guitar', b'organ', b'guitar', b'organ', b'bass', b'brass', b'reed', b'mallet', b'bass', b'reed', b'reed', b'vocal', b'keyboard', b'guitar', b'organ', b'vocal', b'vocal', b'bass', b'keyboard', b'brass', b'bass', b'guitar', b'keyboard', b'keyboard', b'string', b'string', b'bass', b'organ', b'guitar', b'organ', b'keyboard', b'brass', b'mallet', b'brass', b'mallet', b'flute', b'mallet', b'bass', b'keyboard', b'organ', b'bass', b'string', b'guitar', b'bass', b'brass', b'guitar', b'flute', b'keyboard', b'bass', b'string', b'keyboard', b'brass', b'keyboard', b'bass', b'organ', b'reed', b'flute', b'bass', b'flute', b'bass', b'keyboard', b'keyboard', b'guitar', b'string', b'bass', b'guitar', b'guitar', b'guitar', b'keyboard', b'reed', b'reed', b'bass', b'vocal', b'keyboard', b'organ', b'bass', b'brass', b'guitar', b'bass', b'organ', b'flute', b'vocal', b'keyboard', b'keyboard', b'brass', b'reed', b'bass', b'guitar', b'bass', b'bass', b'keyboard', b'keyboard', b'vocal', b'bass', b'bass', b'string', b'reed', b'keyboard', b'keyboard', b'guitar', b'guitar', b'guitar', b'string', b'bass', b'bass', b'bass', b'bass', b'string', b'organ', b'keyboard', b'bass', b'guitar', b'organ', b'organ', b'brass', b'string', b'vocal', b'bass', b'brass', b'organ', b'organ', b'guitar', b'guitar', b'organ', b'reed', b'bass', b'organ', b'keyboard', b'guitar', b'organ', b'mallet', b'reed', b'brass', b'mallet', b'guitar', b'organ', b'organ', b'brass', b'bass', b'brass', b'keyboard', b'flute', b'keyboard', b'string', b'keyboard', b'guitar', b'organ', b'bass', b'flute', b'guitar', b'bass', b'reed', b'guitar', b'bass', b'string', b'guitar', b'string', b'guitar', b'keyboard', b'organ', b'bass', b'reed', b'keyboard', b'keyboard', b'bass', b'mallet', b'keyboard', b'vocal', b'bass', b'keyboard', b'bass', b'bass', b'string', b'organ', b'mallet', b'bass', b'keyboard', b'guitar', b'organ', b'bass', b'vocal', b'organ', b'guitar', b'brass', b'guitar', b'bass', b'keyboard', b'bass', b'string', b'flute', b'guitar', b'bass', b'organ', b'keyboard', b'string', b'guitar', b'reed', b'keyboard', b'bass', b'brass', b'mallet', b'brass', b'bass', b'keyboard', b'guitar', b'string', b'organ', b'keyboard', b'brass', b'keyboard', b'guitar', b'bass', b'flute', b'brass', b'bass', b'keyboard', b'vocal', b'guitar', b'mallet', b'reed', b'guitar', b'brass', b'guitar', b'vocal', b'bass', b'organ', b'brass', b'keyboard', b'string', b'vocal', b'organ', b'guitar', b'bass', b'keyboard', b'keyboard', b'string', b'guitar', b'reed', b'organ', b'brass', b'string', b'brass', b'mallet', b'bass', b'organ', b'keyboard', b'keyboard', b'string', b'guitar', b'flute', b'organ', b'vocal', b'guitar', b'flute', b'keyboard', b'organ', b'reed', b'keyboard', b'bass', b'keyboard', b'brass', b'keyboard', b'mallet', b'organ', b'guitar', b'organ', b'keyboard', b'organ', b'keyboard', b'keyboard', b'reed', b'bass', b'bass', b'string', b'guitar', b'bass', b'bass', b'organ', b'guitar', b'guitar', b'flute', b'bass', b'organ', b'guitar', b'string', b'bass', b'guitar', b'organ', b'organ', b'keyboard', b'bass', b'brass', b'string', b'bass', b'brass', b'organ', b'bass', b'keyboard', b'guitar', b'organ', b'string', b'bass', b'keyboard', b'flute', b'guitar', b'bass', b'brass', b'string', b'guitar', b'guitar', b'guitar', b'vocal', b'bass', b'reed', b'bass', b'keyboard', b'bass', b'reed', b'guitar', b'bass', b'string', b'bass', b'bass', b'bass', b'bass', b'bass', b'organ', b'guitar', b'keyboard', b'brass', b'keyboard', b'keyboard', b'bass', b'vocal', b'keyboard', b'keyboard', b'keyboard', b'keyboard', b'string', b'organ', b'organ', b'string', b'brass', b'bass', b'string', b'flute', b'bass', b'mallet', b'string', b'vocal', b'keyboard', b'organ', b'bass', b'guitar', b'guitar', b'organ', b'keyboard', b'string', b'mallet', b'guitar', b'bass', b'guitar', b'keyboard', b'guitar', b'organ', b'keyboard', b'organ', b'guitar', b'organ', b'organ', b'mallet', b'string', b'flute', b'bass', b'guitar', b'string', b'bass', b'keyboard', b'bass', b'guitar', b'keyboard', b'guitar', b'guitar', b'keyboard', b'organ', b'guitar', b'keyboard', b'organ', b'guitar', b'brass', b'bass', b'mallet', b'keyboard', b'guitar', b'flute', b'keyboard', b'guitar', b'keyboard', b'organ', b'guitar', b'bass', b'guitar', b'organ', b'mallet', b'organ', b'flute', b'guitar', b'keyboard', b'string', b'keyboard', b'bass', b'keyboard', b'bass', b'string', b'organ', b'bass', b'keyboard', b'keyboard', b'bass', b'flute', b'reed', b'organ', b'guitar', b'vocal', b'string', b'bass', b'guitar', b'bass', b'string', b'mallet', b'reed', b'bass', b'bass', b'guitar', b'organ', b'keyboard', b'keyboard', b'vocal', b'brass', b'organ', b'bass', b'guitar', b'mallet', b'string', b'organ', b'organ', b'bass', b'string', b'keyboard', b'string', b'bass', b'bass', b'guitar', b'reed', b'brass', b'mallet', b'organ', b'mallet', b'keyboard', b'brass', b'bass', b'organ', b'bass', b'keyboard', b'guitar', b'keyboard', b'bass', b'bass', b'mallet', b'guitar', b'brass', b'guitar', b'mallet', b'reed', b'bass', b'mallet', b'guitar', b'reed', b'bass', b'guitar', b'bass', b'guitar', b'organ', b'string', b'bass', b'bass', b'keyboard', b'brass', b'bass', b'keyboard', b'organ', b'bass', b'brass', b'guitar', b'bass', b'guitar', b'keyboard', b'mallet', b'keyboard', b'string', b'string', b'string', b'keyboard', b'guitar', b'keyboard', b'flute', b'keyboard', b'keyboard', b'keyboard', b'bass', b'string', b'guitar', b'bass', b'vocal', b'bass', b'keyboard', b'organ', b'bass', b'mallet', b'organ', b'mallet', b'keyboard', b'bass', b'bass', b'organ', b'bass', b'brass', b'reed', b'flute', b'vocal', b'bass', b'vocal', b'keyboard', b'string', b'bass', b'mallet', b'flute', b'flute', b'keyboard', b'flute', b'bass', b'vocal', b'brass', b'mallet', b'brass', b'organ', b'keyboard', b'bass', b'guitar', b'vocal', b'vocal', b'bass', b'organ', b'flute', b'reed', b'keyboard', b'mallet', b'organ', b'keyboard', b'brass', b'brass', b'mallet', b'bass', b'keyboard', b'bass', b'keyboard', b'organ', b'bass', b'bass', b'organ', b'flute', b'vocal', b'brass', b'bass', b'brass', b'organ', b'guitar', b'guitar', b'string', b'organ', b'organ', b'keyboard', b'guitar', b'guitar', b'mallet', b'guitar', b'keyboard', b'keyboard', b'mallet', b'mallet', b'reed', b'guitar', b'keyboard', b'keyboard', b'reed', b'brass', b'organ', b'string', b'organ', b'organ', b'keyboard', b'string', b'bass', b'guitar', b'vocal', b'reed', b'vocal', b'bass', b'bass', b'keyboard', b'vocal', b'bass', b'bass', b'bass', b'string', b'brass', b'bass', b'organ', b'guitar', b'flute', b'organ', b'bass', b'bass', b'mallet', b'mallet', b'keyboard', b'string', b'keyboard', b'mallet', b'string', b'vocal', b'bass', b'reed', b'guitar', b'vocal', b'keyboard', b'bass', b'keyboard', b'brass', b'vocal', b'guitar', b'keyboard', b'bass', b'keyboard', b'guitar', b'organ', b'keyboard', b'bass', b'guitar', b'bass', b'flute', b'organ', b'guitar', b'string', b'bass', b'bass', b'keyboard', b'mallet', b'keyboard', b'reed', b'keyboard', b'reed', b'guitar', b'guitar', b'brass', b'organ', b'brass', b'guitar', b'guitar', b'brass', b'organ', b'bass', b'keyboard', b'organ', b'string', b'guitar', b'brass', b'bass', b'organ', b'reed', b'brass', b'bass', b'guitar', b'guitar', b'organ', b'brass', b'vocal', b'string', b'brass', b'keyboard', b'guitar', b'mallet', b'vocal', b'mallet', b'guitar', b'bass', b'bass', b'bass', b'bass', b'guitar', b'guitar', b'brass', b'keyboard', b'string', b'keyboard', b'organ', b'guitar', b'brass', b'keyboard', b'flute', b'bass', b'brass', b'reed', b'keyboard', b'bass', b'flute', b'bass', b'guitar', b'flute', b'keyboard', b'organ', b'guitar', b'keyboard', b'mallet', b'keyboard', b'guitar', b'brass', b'organ', b'keyboard', b'reed', b'vocal', b'vocal', b'bass', b'bass', b'reed', b'bass', b'brass', b'bass', b'bass', b'guitar', b'bass', b'guitar', b'bass', b'guitar', b'keyboard', b'reed', b'keyboard', b'brass', b'keyboard', b'keyboard', b'mallet', b'reed', b'guitar', b'organ', b'guitar', b'guitar', b'keyboard', b'bass', b'bass', b'organ', b'bass', b'organ', b'guitar', b'organ', b'guitar', b'vocal', b'mallet', b'reed', b'keyboard', b'keyboard', b'organ', b'keyboard', b'keyboard', b'reed', b'organ', b'bass', b'keyboard', b'organ', b'bass', b'keyboard', b'organ', b'guitar', b'mallet', b'keyboard', b'flute', b'bass', b'keyboard', b'organ', b'reed', b'flute', b'mallet', b'string', b'keyboard', b'vocal', b'guitar', b'organ', b'brass', b'guitar', b'guitar', b'guitar', b'string', b'organ', b'organ', b'bass', b'flute', b'reed', b'flute', b'guitar', b'mallet', b'string', b'organ', b'reed', b'keyboard', b'keyboard', b'organ', b'bass', b'keyboard', b'organ', b'keyboard', b'keyboard', b'organ', b'string', b'bass', b'flute', b'bass', b'flute', b'reed', b'bass', b'keyboard', b'mallet', b'organ', b'bass', b'mallet', b'keyboard', b'mallet', b'flute', b'brass', b'keyboard', b'mallet', b'bass', b'reed', b'organ', b'mallet', b'organ', b'organ', b'bass', b'reed', b'bass', b'keyboard', b'mallet', b'guitar', b'bass', b'brass', b'keyboard', b'keyboard', b'guitar', b'reed', b'organ', b'keyboard', b'organ', b'organ', b'guitar', b'keyboard', b'keyboard', b'organ', b'guitar', b'organ', b'guitar', b'keyboard', b'guitar', b'reed', b'organ', b'bass', b'bass', b'keyboard', b'mallet', b'bass', b'keyboard', b'bass', b'bass', b'flute', b'brass', b'flute', b'keyboard', b'brass', b'brass', b'keyboard', b'bass', b'mallet', b'bass', b'mallet', b'guitar', b'string', b'organ', b'keyboard', b'organ', b'bass', b'bass', b'guitar', b'bass', b'organ', b'bass', b'string', b'guitar', b'organ', b'brass', b'organ', b'guitar', b'vocal', b'keyboard', b'brass', b'vocal', b'organ', b'reed', b'brass', b'guitar', b'keyboard', b'keyboard', b'vocal', b'bass', b'guitar', b'guitar', b'organ', b'keyboard', b'guitar', b'keyboard', b'brass', b'keyboard', b'flute', b'bass', b'bass', b'organ', b'vocal', b'mallet', b'guitar', b'bass', b'keyboard', b'bass', b'bass', b'keyboard', b'guitar', b'bass', b'guitar', b'brass', b'keyboard', b'bass', b'keyboard', b'organ', b'organ', b'brass', b'guitar', b'bass', b'bass', b'guitar', b'guitar', b'organ', b'guitar', b'organ', b'keyboard', b'reed', b'guitar', b'flute', b'bass', b'flute', b'string', b'string', b'guitar', b'keyboard', b'reed', b'mallet', b'vocal', b'guitar', b'keyboard', b'keyboard', b'guitar', b'brass', b'brass', b'bass', b'keyboard', b'keyboard', b'keyboard', b'keyboard', b'mallet', b'guitar', b'keyboard', b'reed', b'reed', b'keyboard', b'brass', b'keyboard', b'keyboard', b'brass', b'reed', b'bass', b'bass']\n"
     ]
    }
   ],
   "source": [
    "print(original_order_instr_types)"
   ],
   "metadata": {
    "collapsed": false
   }
  },
  {
   "cell_type": "code",
   "execution_count": null,
   "outputs": [],
   "source": [
    "validation_instrtype[0][1]"
   ],
   "metadata": {
    "collapsed": false,
    "pycharm": {
     "is_executing": true
    }
   }
  },
  {
   "cell_type": "code",
   "execution_count": 5,
   "outputs": [],
   "source": [
    "instrument_types = [\"bass\", \"brass\", \"flute\", \"guitar\", \"keyboard\",\"mallet\",\"organ\",\"reed\",\"string\",\"synth_lead\",\"vocal\"]\n",
    "sorted_by_instr_val = {\n",
    "\"bass\": [],\n",
    "\"brass\": [],\n",
    "\"flute\" : [],\n",
    "\"guitar\" : [],\n",
    "\"keyboard\" : [],\n",
    "\"mallet\" : [],\n",
    "\"organ\" : [],\n",
    "\"reed\" : [],\n",
    "\"string\" : [],\n",
    "\"synth_lead\" : [],\n",
    "\"vocal\" : []\n",
    "}\n",
    "\n",
    "\n",
    "\n",
    "\n",
    "def sort_by_instrument(data, instr_dict):\n",
    "    for sample in data:\n",
    "      instr_type = sample[2]\n",
    "      instr_keys = list(instr_dict.keys())\n",
    "      for instrument in instr_keys:\n",
    "          if instrument in str(instr_type):\n",
    "            instr_dict[instrument].append(sample)\n",
    "    return instr_dict\n",
    "\n",
    "\n",
    "sorted_by_instr_val  = sort_by_instrument(validation_instrtype, sorted_by_instr_val)"
   ],
   "metadata": {
    "collapsed": false
   }
  },
  {
   "cell_type": "code",
   "execution_count": null,
   "outputs": [],
   "source": [
    "sorted_by_instr_val[\"guitar\"][1]"
   ],
   "metadata": {
    "collapsed": false,
    "pycharm": {
     "is_executing": true
    }
   }
  },
  {
   "cell_type": "code",
   "execution_count": 2,
   "outputs": [
    {
     "ename": "NameError",
     "evalue": "name 'sorted_by_instr_val' is not defined",
     "output_type": "error",
     "traceback": [
      "\u001B[1;31m---------------------------------------------------------------------------\u001B[0m",
      "\u001B[1;31mNameError\u001B[0m                                 Traceback (most recent call last)",
      "Input \u001B[1;32mIn [2]\u001B[0m, in \u001B[0;36m<cell line: 1>\u001B[1;34m()\u001B[0m\n\u001B[1;32m----> 1\u001B[0m guitar \u001B[38;5;241m=\u001B[39m \u001B[43msorted_by_instr_val\u001B[49m[\u001B[38;5;124m\"\u001B[39m\u001B[38;5;124mguitar\u001B[39m\u001B[38;5;124m\"\u001B[39m]\u001B[38;5;241m.\u001B[39mitems()\n",
      "\u001B[1;31mNameError\u001B[0m: name 'sorted_by_instr_val' is not defined"
     ]
    }
   ],
   "source": [
    "guitar = sorted_by_instr_val[\"guitar\"].items()\n",
    "#guitar\n"
   ],
   "metadata": {
    "collapsed": false
   }
  },
  {
   "cell_type": "code",
   "execution_count": 9,
   "outputs": [],
   "source": [
    "test_dict = {\n",
    "    \"bass\": [],\n",
    "    \"brass\": [],\n",
    "    \"flute\" : [],\n",
    "    \"guitar\" : [[0,\"tensor\",\"type\"]],\n",
    "    \"keyboard\" : [],\n",
    "    \"mallet\" : [],\n",
    "    \"organ\" : [],\n",
    "    \"reed\" : [],\n",
    "    \"string\" : [],\n",
    "    \"synth_lead\" : [],\n",
    "    \"vocal\" : []\n",
    "}\n",
    "\n",
    "test_guitar = test_dict[\"guitar\"]"
   ],
   "metadata": {
    "collapsed": false
   }
  },
  {
   "cell_type": "code",
   "execution_count": 10,
   "outputs": [
    {
     "data": {
      "text/plain": "[[0, 'tensor', 'type']]"
     },
     "execution_count": 10,
     "metadata": {},
     "output_type": "execute_result"
    }
   ],
   "source": [
    "test_guitar"
   ],
   "metadata": {
    "collapsed": false
   }
  },
  {
   "cell_type": "code",
   "execution_count": 11,
   "outputs": [
    {
     "name": "stdout",
     "output_type": "stream",
     "text": [
      "WARNING:tensorflow:From C:\\Users\\nico\\AppData\\Local\\Temp\\ipykernel_6796\\2482890329.py:8: TFRecordWriter.__init__ (from tensorflow.python.data.experimental.ops.writers) is deprecated and will be removed in a future version.\n",
      "Instructions for updating:\n",
      "To write TFRecords to disk, use `tf.io.TFRecordWriter`. To save and load the contents of a dataset, use `tf.data.experimental.save` and `tf.data.experimental.load`\n"
     ]
    }
   ],
   "source": [
    "samples_to_write = sorted_by_instr_val[\"guitar\"]\n",
    "raw_selected_samples = []\n",
    "for sample in samples_to_write:\n",
    "    raw_selected_samples.append(sample[1])\n",
    "\n",
    "filename = \"nsynth-valid-guitar.tfrecord-000\"\n",
    "dataset_write = tf.data.Dataset.from_tensor_slices(raw_selected_samples)\n",
    "writer = tf.data.experimental.TFRecordWriter(filename)\n",
    "writer.write(dataset_write)"
   ],
   "metadata": {
    "collapsed": false
   }
  },
  {
   "cell_type": "code",
   "execution_count": 13,
   "outputs": [
    {
     "name": "stdout",
     "output_type": "stream",
     "text": [
      "b'guitar'\n",
      "b'guitar'\n",
      "b'guitar'\n",
      "b'guitar'\n",
      "b'guitar'\n",
      "b'guitar'\n",
      "b'guitar'\n",
      "b'guitar'\n",
      "b'guitar'\n",
      "b'guitar'\n",
      "b'guitar'\n",
      "b'guitar'\n",
      "b'guitar'\n",
      "b'guitar'\n",
      "b'guitar'\n",
      "b'guitar'\n",
      "b'guitar'\n",
      "b'guitar'\n",
      "b'guitar'\n",
      "b'guitar'\n",
      "b'guitar'\n",
      "b'guitar'\n",
      "b'guitar'\n",
      "b'guitar'\n",
      "b'guitar'\n",
      "b'guitar'\n",
      "b'guitar'\n",
      "b'guitar'\n",
      "b'guitar'\n",
      "b'guitar'\n",
      "b'guitar'\n",
      "b'guitar'\n",
      "b'guitar'\n",
      "b'guitar'\n",
      "b'guitar'\n",
      "b'guitar'\n",
      "b'guitar'\n",
      "b'guitar'\n",
      "b'guitar'\n",
      "b'guitar'\n",
      "b'guitar'\n",
      "b'guitar'\n",
      "b'guitar'\n",
      "b'guitar'\n",
      "b'guitar'\n",
      "b'guitar'\n",
      "b'guitar'\n",
      "b'guitar'\n",
      "b'guitar'\n",
      "b'guitar'\n",
      "b'guitar'\n",
      "b'guitar'\n",
      "b'guitar'\n",
      "b'guitar'\n",
      "b'guitar'\n",
      "b'guitar'\n",
      "b'guitar'\n",
      "b'guitar'\n",
      "b'guitar'\n",
      "b'guitar'\n",
      "b'guitar'\n",
      "b'guitar'\n",
      "b'guitar'\n",
      "b'guitar'\n",
      "b'guitar'\n",
      "b'guitar'\n",
      "b'guitar'\n",
      "b'guitar'\n",
      "b'guitar'\n",
      "b'guitar'\n",
      "b'guitar'\n",
      "b'guitar'\n",
      "b'guitar'\n",
      "b'guitar'\n",
      "b'guitar'\n",
      "b'guitar'\n",
      "b'guitar'\n",
      "b'guitar'\n",
      "b'guitar'\n",
      "b'guitar'\n",
      "b'guitar'\n",
      "b'guitar'\n",
      "b'guitar'\n",
      "b'guitar'\n",
      "b'guitar'\n",
      "b'guitar'\n",
      "b'guitar'\n",
      "b'guitar'\n",
      "b'guitar'\n",
      "b'guitar'\n",
      "b'guitar'\n",
      "b'guitar'\n",
      "b'guitar'\n",
      "b'guitar'\n",
      "b'guitar'\n",
      "b'guitar'\n",
      "b'guitar'\n",
      "b'guitar'\n",
      "b'guitar'\n",
      "b'guitar'\n"
     ]
    }
   ],
   "source": [
    "raw_dataset_read = tf.data.TFRecordDataset(filename)\n",
    "idx = 0\n",
    "for raw_record in raw_dataset_read.take(100):\n",
    "\n",
    "    # transform raw TFRecord in readable JSON format\n",
    "    example = tf.train.Example()\n",
    "    example.ParseFromString(raw_record.numpy())\n",
    "    #print(example)\n",
    "    analyse_ex = example.features.feature['instrument_family_str']\n",
    "    print(analyse_ex.bytes_list.value[0])"
   ],
   "metadata": {
    "collapsed": false
   }
  },
  {
   "cell_type": "code",
   "execution_count": null,
   "outputs": [],
   "source": [
    "for raw_record in raw_dataset_read.take(100):"
   ],
   "metadata": {
    "collapsed": false
   }
  },
  {
   "cell_type": "code",
   "execution_count": null,
   "outputs": [],
   "source": [
    "train_and_instrtype = []\n",
    "for train_tfrecord_group in train_tfrecord_groups:\n",
    "    for raw_record in train_tfrecord_group[1]:\n",
    "        # convert raw uninformative string to JSON\n",
    "        raw_record = tf.train.Example()\n",
    "        raw_record.ParseFromString(raw_record.numpy())\n",
    "        instr_type = example.features.feature['instrument_str'].bytes_list.value[0]\n",
    "        train_and_instrtype.append(list(raw_record,instr_type))"
   ],
   "metadata": {
    "collapsed": false
   }
  }
 ],
 "metadata": {
  "kernelspec": {
   "display_name": "Python 3",
   "language": "python",
   "name": "python3"
  },
  "language_info": {
   "codemirror_mode": {
    "name": "ipython",
    "version": 2
   },
   "file_extension": ".py",
   "mimetype": "text/x-python",
   "name": "python",
   "nbconvert_exporter": "python",
   "pygments_lexer": "ipython2",
   "version": "2.7.6"
  },
  "colab": {
   "provenance": []
  }
 },
 "nbformat": 4,
 "nbformat_minor": 0
}
