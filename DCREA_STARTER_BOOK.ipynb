{
  "nbformat": 4,
  "nbformat_minor": 0,
  "metadata": {
    "colab": {
      "provenance": [],
      "authorship_tag": "ABX9TyMSBJvKTNyqoRAVr2GPwkAz",
      "include_colab_link": true
    },
    "kernelspec": {
      "name": "python3",
      "display_name": "Python 3"
    },
    "language_info": {
      "name": "python"
    }
  },
  "cells": [
    {
      "cell_type": "markdown",
      "metadata": {
        "id": "view-in-github",
        "colab_type": "text"
      },
      "source": [
        "<a href=\"https://colab.research.google.com/github/digwit678/DIGCREAT_AUDIO_PROCESSION/blob/main/DCREA_STARTER_BOOK.ipynb\" target=\"_parent\"><img src=\"https://colab.research.google.com/assets/colab-badge.svg\" alt=\"Open In Colab\"/></a>"
      ]
    },
    {
      "cell_type": "code",
      "execution_count": null,
      "metadata": {
        "colab": {
          "base_uri": "https://localhost:8080/"
        },
        "id": "ootrFNM1m8-7",
        "outputId": "b906ecb7-094d-4b98-cf24-a3434f58af7c"
      },
      "outputs": [
        {
          "output_type": "stream",
          "name": "stdout",
          "text": [
            "Installing from pip package...\n",
            "\u001b[K     |████████████████████████████████| 194 kB 5.4 MB/s \n",
            "\u001b[K     |████████████████████████████████| 129 kB 48.7 MB/s \n",
            "\u001b[K     |████████████████████████████████| 83 kB 1.8 MB/s \n",
            "\u001b[K     |████████████████████████████████| 60.2 MB 1.6 MB/s \n",
            "\u001b[K     |████████████████████████████████| 3.6 MB 47.2 MB/s \n",
            "\u001b[K     |████████████████████████████████| 90 kB 8.0 MB/s \n",
            "\u001b[K     |████████████████████████████████| 1.1 MB 54.1 MB/s \n",
            "\u001b[K     |████████████████████████████████| 209 kB 55.2 MB/s \n",
            "\u001b[K     |████████████████████████████████| 4.6 MB 49.8 MB/s \n",
            "\u001b[K     |████████████████████████████████| 323 kB 70.3 MB/s \n"
          ]
        }
      ],
      "source": [
        "#@title #Install and Import\n",
        "\n",
        "#@markdown Install ddsp, define some helper functions, and download the model. This transfers a lot of data and _should take a minute or two_.\n",
        "print('Installing from pip package...')\n",
        "!pip install -qU ddsp==1.6.5 \"hmmlearn<=0.2.7\"\n",
        "\n",
        "# Ignore a bunch of deprecation warnings\n",
        "import warnings\n",
        "warnings.filterwarnings(\"ignore\")\n",
        "\n",
        "import copy\n",
        "import os\n",
        "import time\n",
        "\n",
        "import crepe\n",
        "import ddsp\n",
        "import ddsp.training\n",
        "from ddsp.colab.colab_utils import (\n",
        "    auto_tune, get_tuning_factor, download, \n",
        "    play, record, specplot, upload, \n",
        "    DEFAULT_SAMPLE_RATE)\n",
        "from ddsp.training.postprocessing import (\n",
        "    detect_notes, fit_quantile_transform\n",
        ")\n",
        "import gin\n",
        "from google.colab import files\n",
        "import librosa\n",
        "import matplotlib.pyplot as plt\n",
        "import numpy as np\n",
        "import pickle\n",
        "import tensorflow.compat.v2 as tf\n",
        "import tensorflow_datasets as tfds\n",
        "\n",
        "# Helper Functions\n",
        "sample_rate = DEFAULT_SAMPLE_RATE  # 16000\n",
        "\n",
        "\n",
        "print('Done!')"
      ]
    }
  ]
}